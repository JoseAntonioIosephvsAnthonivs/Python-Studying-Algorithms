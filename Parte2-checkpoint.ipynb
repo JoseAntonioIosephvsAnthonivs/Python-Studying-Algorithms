{
 "cells": [
  {
   "cell_type": "markdown",
   "id": "def76a13",
   "metadata": {},
   "source": [
    "#### Exercise - Qual é o resultado do código seguinte? Tente adivinhá-lo. Utilize a célula a seguir para te ajudar, não para obter a resposta.\n"
   ]
  },
  {
   "cell_type": "code",
   "execution_count": 2,
   "id": "3eea0873",
   "metadata": {},
   "outputs": [
    {
     "data": {
      "text/plain": [
       "True"
      ]
     },
     "execution_count": 2,
     "metadata": {},
     "output_type": "execute_result"
    }
   ],
   "source": [
    "\n",
    "ex_list = [9, 2, 5, 0, 2]\n",
    "ex_list.sort()\n",
    "ex_list.append(7)\n",
    "ex_list.reverse()\n",
    "ex_list.remove(2)\n",
    "\"\"\"\n",
    "Resposta:\n",
    "sort = [0,2,2,5,9]\n",
    "append(7) = [0,2,2,5,9,7]\n",
    "reverse = [7,9,5,2,2,0]\n",
    "remove(2) = [7,9,5,2,0]\n",
    "\"\"\"\n",
    "ex_list == [7,9,5,2,0]"
   ]
  },
  {
   "cell_type": "markdown",
   "id": "2a1103c0",
   "metadata": {},
   "source": [
    "#### Exercise - Observe que o método zip agregou as duas listas e iterou as duas simultaneamente. Agora, utilize a função dict() para criar um dicionário a partir das duas listas e use o método .values() para calcular a soma das idades. Ao final, printe a soma das idades.\n",
    "name_list=['João','Maria','Thiago','Barbara']\n",
    "age_list=[30,25,28,20]\n",
    "\n",
    "for name,age in zip(name_list,age_list):\n",
    "  print(f'{name} tem {age} anos de idade')"
   ]
  },
  {
   "cell_type": "code",
   "execution_count": 3,
   "id": "b2549e73",
   "metadata": {},
   "outputs": [
    {
     "name": "stdout",
     "output_type": "stream",
     "text": [
      "O total da soma das idades é: 103\n"
     ]
    }
   ],
   "source": [
    "name_list=['João','Maria','Thiago','Barbara']\n",
    "age_list=[30,25,28,20]\n",
    "\n",
    "\n",
    "zzz= dict(zip(name_list,age_list))\n",
    "print(f'O total da soma das idades é: {sum(zzz.values())}')\n",
    "    "
   ]
  },
  {
   "cell_type": "markdown",
   "id": "ebe0de53",
   "metadata": {},
   "source": [
    "#### Exercise  Escreva uma função na célula abaixo que faça o print retornar \"True\""
   ]
  },
  {
   "cell_type": "code",
   "execution_count": 9,
   "id": "c29ce5b4",
   "metadata": {},
   "outputs": [
    {
     "name": "stdout",
     "output_type": "stream",
     "text": [
      "True\n",
      "True\n"
     ]
    }
   ],
   "source": [
    "def shout(string,n=1):\n",
    "    upper = string.upper()\n",
    "    upperexc = upper + \"!!!\"\n",
    "    repeatedupperex = upperexc * n\n",
    "    return repeatedupperex\n",
    "print(shout(\"i did it\") == \"I DID IT!!!\")\n",
    "print(shout(\"i did it\", 3) == \"I DID IT!!!I DID IT!!!I DID IT!!!\")"
   ]
  },
  {
   "cell_type": "markdown",
   "id": "aa8437c4",
   "metadata": {},
   "source": [
    "#### Exercise crie uma função usando *args"
   ]
  },
  {
   "cell_type": "code",
   "execution_count": 15,
   "id": "8ec325d4",
   "metadata": {},
   "outputs": [
    {
     "name": "stdout",
     "output_type": "stream",
     "text": [
      "1\n",
      "50\n"
     ]
    }
   ],
   "source": [
    "def add_all(*args):                            # Função com o argumento precedido por *\n",
    "    \"\"\"Somar todos os valores de *args\"\"\"      # docstring\n",
    "    sum_total = 0                              # Soma inicial = 0\n",
    "    for num in args:                           # Iterar todos os valores dos *args\n",
    "        sum_total += num                       # Somar argumento ao total\n",
    "    return sum_total                           # Retornar o total\n",
    " \n",
    "print(add_all(1))\n",
    "print(add_all(5, 10, 15, 20))\n",
    " "
   ]
  },
  {
   "cell_type": "markdown",
   "id": "f0675b41",
   "metadata": {},
   "source": [
    "#### Exercise crie uma função com kwargs"
   ]
  },
  {
   "cell_type": "code",
   "execution_count": 4,
   "id": "58391f59",
   "metadata": {},
   "outputs": [
    {
     "name": "stdout",
     "output_type": "stream",
     "text": [
      "name: John\n",
      "\n",
      "name: Lisa\n",
      "surname: White\n",
      "job: Consultant\n"
     ]
    }
   ],
   "source": [
    "def print_all(**kwargs):                                     # Função com os kwargs precedidos por **\n",
    "    \"\"\"Print out key-value pairs in **kwargs.\"\"\"             # docstring\n",
    "    for name, value in kwargs.items():                       # iterar pelos itens de kwargs\n",
    "        print(name + \": \" + value)                           # printar o valor do par de argumentos\n",
    "\n",
    "print_all(name=\"John\")\n",
    "print(\"\") # Separando o print para facilitar a visualização\n",
    "print_all(name=\"Lisa\", surname=\"White\", job=\"Consultant\")"
   ]
  },
  {
   "cell_type": "markdown",
   "id": "8ddd4caf",
   "metadata": {},
   "source": [
    "#### Exercise - Escreva uma função que recebe qualquer número de strings e concatena todas, separadas por espaços, em uma só string. Printe a comparação do resultado com o valor esperado."
   ]
  },
  {
   "cell_type": "code",
   "execution_count": 5,
   "id": "0359f4cb",
   "metadata": {},
   "outputs": [
    {
     "name": "stdout",
     "output_type": "stream",
     "text": [
      "True\n",
      "True\n"
     ]
    }
   ],
   "source": [
    "def concatenate_all(*args):   \n",
    "     \"\"\" concatenar valores\"\"\"\n",
    "     concat_str = \"\"\n",
    "     for val in args:              \n",
    "         concat_str += (val+\" \")             \n",
    "     return concat_str                   \n",
    "\n",
    "print(concatenate_all(\"I\", \"did\", \"it\") == \"I did it \")\n",
    "print(concatenate_all(\"I\", \"did\", \"it\", \"again\", \"!!!\") == \"I did it again !!! \")\n",
    "\n",
    "\n",
    "\"\"\"\n",
    "print(\" \".join([\"I\", \"did\", \"it\"]) == \"I did it\")\n",
    "print(\" \".join([\"I\", \"did\", \"it\", \"again\", \"!!!\"]) == \"I did it again !!!\")\n",
    "\"\"\""
   ]
  },
  {
   "cell_type": "markdown",
   "id": "20868094",
   "metadata": {},
   "source": [
    "#### Exercise - Escreva uma função que recebe qualquer número de pares nome-valor representando o nome e o preço de itens de uma lista de mercado, printa o nome e valor de cada um e, ao final, printa o total da compra."
   ]
  },
  {
   "cell_type": "code",
   "execution_count": 16,
   "id": "47e19ba7",
   "metadata": {},
   "outputs": [
    {
     "name": "stdout",
     "output_type": "stream",
     "text": [
      "bananas: 5\n",
      "laranjas: 10\n",
      "carne: 20\n",
      "ovos: 12\n",
      "total: 47\n"
     ]
    }
   ],
   "source": [
    "def print_shop_list(**kwargs):\n",
    "    \"\"\"docstring\"\"\"\n",
    "    list_sum = 0\n",
    "    for name, value in kwargs.items():\n",
    "        print(name+':',value)\n",
    "        list_sum += 1\n",
    "    print(\"total:\",sum(kwargs.values()))    \n",
    "print_shop_list(bananas=5,laranjas=10,carne=20,ovos=12)"
   ]
  },
  {
   "cell_type": "markdown",
   "id": "342b5ce8",
   "metadata": {},
   "source": [
    "#### Exercise - Preencha os campos ____ ao seguir as instruções na célula abaixo."
   ]
  },
  {
   "cell_type": "code",
   "execution_count": 17,
   "id": "562d2bae",
   "metadata": {},
   "outputs": [
    {
     "name": "stdout",
     "output_type": "stream",
     "text": [
      "max_weight: 270\n",
      "min_weight: 179\n",
      "avg_normalized_weight: 0.48610213316095674\n",
      "above_avg_sum: 5.681318681318681\n"
     ]
    }
   ],
   "source": [
    "# lista de pesos em libras dos jogadores do Golden State Warriors\n",
    "weights = [224, 260, 179, 270, 190, 249, 240, 210, 230, 215, 231, 245, 210, 192, 220, 215, 215]\n",
    "\n",
    "# Primeiramente, importamos os pacotes necessários\n",
    "from functools import reduce\n",
    "\n",
    "# Você precisa normalizar os pesos, i.e., fazer todos os pesos irem de 0 até 1 de acordo com max e min\n",
    "# Então, você precisa calcular max and min\n",
    "max_weight = max(weights)\n",
    "min_weight = min(weights)\n",
    "print(\"max_weight:\", max_weight)\n",
    "print(\"min_weight:\", min_weight)\n",
    "\n",
    "# Nosso peso normalizado deveria ser: normalized_weight = (weight - min) / (max - min)\n",
    "# Use map com uma lambda function para normalizar todos os pesos da lista\n",
    "# Lembre-se que map não retorna uma lista, então você deve transformar o output em uma lista\n",
    "normalized_weights = map((lambda x: (x-min_weight)/(max_weight-min_weight)), weights)\n",
    "normalized_weights_list = list(normalized_weights)\n",
    "\n",
    "# Você precisa, agora, filtrar apenas os valores normalizados maiores que a média\n",
    "# Para fazer isso, você precisa calcular a média\n",
    "avg_normalized_weight = sum(normalized_weights_list)/len(normalized_weights_list)\n",
    "print(\"avg_normalized_weight:\",avg_normalized_weight)\n",
    "\n",
    "# Então, use filter com outra lambda function para pegar apenas os valores acima da média\n",
    "# Mais uma vez, filter não retorna uma lista. Você precisa fazer o cast (transformação)\n",
    "above_avg_weights = filter((lambda x: x > avg_normalized_weight), normalized_weights_list)\n",
    "above_avg_weights_list = list(above_avg_weights)\n",
    "\n",
    "# Para finalizar, você quer a soma de normalized_weights acima da média, mas você quer fazer isso utilizando reduce com uma lambda function\n",
    "above_avg_sum = reduce(lambda x, y: x + y, above_avg_weights_list)\n",
    "\n",
    "# Printe o resultado\n",
    "print(\"above_avg_sum:\", above_avg_sum)"
   ]
  }
 ],
 "metadata": {
  "kernelspec": {
   "display_name": "Python 3 (ipykernel)",
   "language": "python",
   "name": "python3"
  },
  "language_info": {
   "codemirror_mode": {
    "name": "ipython",
    "version": 3
   },
   "file_extension": ".py",
   "mimetype": "text/x-python",
   "name": "python",
   "nbconvert_exporter": "python",
   "pygments_lexer": "ipython3",
   "version": "3.9.7"
  }
 },
 "nbformat": 4,
 "nbformat_minor": 5
}

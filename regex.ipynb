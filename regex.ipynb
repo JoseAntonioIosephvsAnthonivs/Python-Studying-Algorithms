{
 "cells": [
  {
   "cell_type": "code",
   "execution_count": 7,
   "id": "05a7f67a",
   "metadata": {},
   "outputs": [],
   "source": [
    "## Expressões Regularex uma Abordagem Divertida"
   ]
  },
  {
   "cell_type": "code",
   "execution_count": 8,
   "id": "1c45af87",
   "metadata": {},
   "outputs": [],
   "source": [
    "import re\n"
   ]
  },
  {
   "cell_type": "code",
   "execution_count": 9,
   "id": "bbd4b2cf",
   "metadata": {},
   "outputs": [],
   "source": [
    "zzz = 'jacare'"
   ]
  },
  {
   "cell_type": "code",
   "execution_count": 11,
   "id": "e02ae39d",
   "metadata": {},
   "outputs": [
    {
     "data": {
      "text/plain": [
       "['a', 'a']"
      ]
     },
     "execution_count": 11,
     "metadata": {},
     "output_type": "execute_result"
    }
   ],
   "source": [
    "re.findall('a', zzz)"
   ]
  },
  {
   "cell_type": "code",
   "execution_count": 14,
   "id": "9320db1d",
   "metadata": {},
   "outputs": [
    {
     "data": {
      "text/plain": [
       "['ja', 'ca']"
      ]
     },
     "execution_count": 14,
     "metadata": {},
     "output_type": "execute_result"
    }
   ],
   "source": [
    "re.findall('.ae?', zzz)"
   ]
  },
  {
   "cell_type": "code",
   "execution_count": 18,
   "id": "549ea6dc",
   "metadata": {},
   "outputs": [
    {
     "data": {
      "text/plain": [
       "['e']"
      ]
     },
     "execution_count": 18,
     "metadata": {},
     "output_type": "execute_result"
    }
   ],
   "source": [
    "re.findall('a?e', zzz)"
   ]
  },
  {
   "cell_type": "code",
   "execution_count": null,
   "id": "93815efc",
   "metadata": {},
   "outputs": [],
   "source": []
  }
 ],
 "metadata": {
  "kernelspec": {
   "display_name": "Python 3 (ipykernel)",
   "language": "python",
   "name": "python3"
  },
  "language_info": {
   "codemirror_mode": {
    "name": "ipython",
    "version": 3
   },
   "file_extension": ".py",
   "mimetype": "text/x-python",
   "name": "python",
   "nbconvert_exporter": "python",
   "pygments_lexer": "ipython3",
   "version": "3.9.7"
  }
 },
 "nbformat": 4,
 "nbformat_minor": 5
}

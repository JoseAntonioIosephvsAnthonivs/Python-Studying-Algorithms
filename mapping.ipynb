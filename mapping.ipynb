{
 "cells": [
  {
   "cell_type": "markdown",
   "id": "6c94c13f",
   "metadata": {},
   "source": [
    "#### Testing Maps"
   ]
  },
  {
   "cell_type": "code",
   "execution_count": 1,
   "id": "6200f1ec",
   "metadata": {},
   "outputs": [
    {
     "data": {
      "text/plain": [
       "[1, 4, 9, 16, 25]"
      ]
     },
     "execution_count": 1,
     "metadata": {},
     "output_type": "execute_result"
    }
   ],
   "source": [
    "def square(number):\n",
    "    return number ** 2\n",
    "    \n",
    "numbers = [1,2,3,4,5]\n",
    "squared = map(square, numbers)\n",
    "\n",
    "list(squared)\n",
    "###square"
   ]
  },
  {
   "cell_type": "code",
   "execution_count": 4,
   "id": "b35d7c2c",
   "metadata": {},
   "outputs": [
    {
     "data": {
      "text/plain": [
       "[4, 8, 6, 5, 3, 9]"
      ]
     },
     "execution_count": 4,
     "metadata": {},
     "output_type": "execute_result"
    }
   ],
   "source": [
    "str_num = [\" 4\",\" 8\", \"6\",\"5\",\"3\",\"9\"]\n",
    "int_num = map(int, str_num)\n",
    "list(int_num)\n",
    "#### turn int"
   ]
  },
  {
   "cell_type": "code",
   "execution_count": 5,
   "id": "f7331fe7",
   "metadata": {},
   "outputs": [
    {
     "data": {
      "text/plain": [
       "[2, 3, 1, 0, 5, 9]"
      ]
     },
     "execution_count": 5,
     "metadata": {},
     "output_type": "execute_result"
    }
   ],
   "source": [
    "numbers = [-2,3,-1,0,5,-9]\n",
    "abs_values = list(map(abs, numbers))\n",
    "abs_values\n",
    "##### positive"
   ]
  },
  {
   "cell_type": "code",
   "execution_count": 6,
   "id": "31c57c88",
   "metadata": {},
   "outputs": [
    {
     "data": {
      "text/plain": [
       "[-2.0, 3.0, -1.0, 0.0, 5.0, -9.0]"
      ]
     },
     "execution_count": 6,
     "metadata": {},
     "output_type": "execute_result"
    }
   ],
   "source": [
    "list(map(float, numbers))\n",
    "#### float"
   ]
  },
  {
   "cell_type": "code",
   "execution_count": 8,
   "id": "0e4f02be",
   "metadata": {},
   "outputs": [
    {
     "data": {
      "text/plain": [
       "[5, 9, 6]"
      ]
     },
     "execution_count": 8,
     "metadata": {},
     "output_type": "execute_result"
    }
   ],
   "source": [
    "reptiles = ['snake','crocodile','lizard']\n",
    "list(map(len,reptiles))\n",
    "### len string"
   ]
  },
  {
   "cell_type": "code",
   "execution_count": 9,
   "id": "0eb8c94c",
   "metadata": {},
   "outputs": [
    {
     "data": {
      "text/plain": [
       "[1, 4, 9, 16, 25]"
      ]
     },
     "execution_count": 9,
     "metadata": {},
     "output_type": "execute_result"
    }
   ],
   "source": [
    "numbers = [1, 2, 3, 4, 5]\n",
    "squared = map(lambda num: num ** 2, numbers)\n",
    "list(squared)\n",
    "### square with lambda"
   ]
  },
  {
   "cell_type": "code",
   "execution_count": 10,
   "id": "63fcd7df",
   "metadata": {},
   "outputs": [
    {
     "data": {
      "text/plain": [
       "[1, 16, 243, 4096, 390625]"
      ]
     },
     "execution_count": 10,
     "metadata": {},
     "output_type": "execute_result"
    }
   ],
   "source": [
    "list1 = [1,2,3,4,5]\n",
    "list2 = [2,4,5,6,8]\n",
    "list(map(pow, list1,list2))\n",
    "### square with multiple lists"
   ]
  },
  {
   "cell_type": "code",
   "execution_count": 14,
   "id": "3db1dd87",
   "metadata": {},
   "outputs": [
    {
     "name": "stdout",
     "output_type": "stream",
     "text": [
      "['Snake', 'Crocodile', 'Lizard']\n",
      "['SNAKE', 'CROCODILE', 'LIZARD']\n",
      "['snake', 'crocodile', 'lizard']\n"
     ]
    }
   ],
   "source": [
    "reptiles = ['snake','Crocodile','lizard']\n",
    "print(list(map(str.capitalize, reptiles)))\n",
    "print(list(map(str.upper, reptiles)))\n",
    "print(list(map(str.lower, reptiles)))\n",
    "##using strings"
   ]
  },
  {
   "cell_type": "code",
   "execution_count": 31,
   "id": "a4d0c90e",
   "metadata": {},
   "outputs": [
    {
     "data": {
      "text/plain": [
       "'Jacare'"
      ]
     },
     "execution_count": 31,
     "metadata": {},
     "output_type": "execute_result"
    }
   ],
   "source": [
    "import re \n",
    "def remove_pont(args):\n",
    "    return re.sub(r'[!?.:;\"()-]', \"\", args)\n",
    "remove_pont(\"J.a-c(a)r!e?\")\n",
    "##removing pontuation with regular expression"
   ]
  },
  {
   "cell_type": "code",
   "execution_count": 57,
   "id": "4b4ee8b0",
   "metadata": {},
   "outputs": [
    {
     "name": "stdout",
     "output_type": "stream",
     "text": [
      "message codified:  vqdnh\n"
     ]
    }
   ],
   "source": [
    "##julius caesar cipher\n",
    "def rotate_chr(c):\n",
    "    rot_by = 3\n",
    "    c = c.lower()\n",
    "    alphabet = \"abcdefghijklmnopqrstuvwxyz\"\n",
    "    # Keep ponctuation and whitespace\n",
    "    if c not in alphabet:\n",
    "        return c\n",
    "    rotated_pos = ord(c) + rot_by\n",
    "    # If the rotation is inside the alphabet\n",
    "    if rotated_pos <= ord(alphabet[-1]):\n",
    "        return chr(rotated_pos)\n",
    "    # If the rotation goes beyond the alphabet\n",
    "    return chr(rotated_pos - len(alphabet))\n",
    "\n",
    "\n",
    "print(\"message codified: \",rotate_chr(\"\".join(map(rotate_chr, \"snake\"))))"
   ]
  },
  {
   "cell_type": "code",
   "execution_count": 56,
   "id": "46db0f90",
   "metadata": {},
   "outputs": [
    {
     "name": "stdout",
     "output_type": "stream",
     "text": [
      "fahrenheit converted:  [212.0, 104.0, 176.0]\n",
      "celcius converted:  [100.0, 40.0, 80.0]\n"
     ]
    }
   ],
   "source": [
    "##converting temperatures\n",
    "def convert_fahrenheit(celsius):\n",
    "    return 9 / 5 * celsius + 32\n",
    "\n",
    "def convert_celcius(fahrenheit):\n",
    "    return (fahrenheit - 32) * 5 / 9\n",
    "\n",
    "celcius_temp  = [100,40, 80]\n",
    "print(\"fahrenheit converted: \",list(map(convert_fahrenheit,celcius_temp)))\n",
    "\n",
    "fahrenheit_temp = [212,104,176]\n",
    "print(\"celcius converted: \",list(map(convert_celcius, fahrenheit_temp)))\n"
   ]
  },
  {
   "cell_type": "code",
   "execution_count": null,
   "id": "396fb0d8",
   "metadata": {},
   "outputs": [],
   "source": []
  }
 ],
 "metadata": {
  "kernelspec": {
   "display_name": "Python 3 (ipykernel)",
   "language": "python",
   "name": "python3"
  },
  "language_info": {
   "codemirror_mode": {
    "name": "ipython",
    "version": 3
   },
   "file_extension": ".py",
   "mimetype": "text/x-python",
   "name": "python",
   "nbconvert_exporter": "python",
   "pygments_lexer": "ipython3",
   "version": "3.9.7"
  }
 },
 "nbformat": 4,
 "nbformat_minor": 5
}

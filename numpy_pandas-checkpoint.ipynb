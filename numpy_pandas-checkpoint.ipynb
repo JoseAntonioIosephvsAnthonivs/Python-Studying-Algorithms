{
 "cells": [
  {
   "cell_type": "markdown",
   "metadata": {
    "id": "xDZkVGOjI7Uc"
   },
   "source": [
    "<a name=\"numpy\"></a>\n",
    "## 2. NumPy\n",
    "\n"
   ]
  },
  {
   "cell_type": "markdown",
   "metadata": {
    "id": "FYsV7fiyI7Uc"
   },
   "source": [
    "### 2.1. O que é o NumPy?\n",
    "\n",
    "**NumPy** é a abreviação de *Numerical Python* ou *Numeric Python*. Ela é uma biblioteca *open-source* (ou seja, é um software cujo código original é disponibilizado livremente e pode ser distribuído e modificado) que oferece suporte a arrays e matrizes multidimensionais, provendo diversas funções matemáticas úteis em computação científica.\n",
    "\n",
    "Mas por que você deveria utilizar o NumPy? É simples! As listas do Python funcionam como as arrays, no entanto, são lentas para utilização com grandes volumes de dados. No ramo de Ciência de Dados, velocidade e recursos durante o processamento são bem importantes! Dessa forma, o NumPy nos possibilita utilizar os objetos arrays, que são bem mais rápidos que as listas tradicionais do Python.\n",
    "\n",
    "O **ndarray** é o objeto fundamental do NumPy. Este objeto é uma matriz N-dimensional, vamos entender melhor como este objeto funciona nas células abaixo."
   ]
  },
  {
   "cell_type": "markdown",
   "metadata": {
    "id": "OWBF8V3fI7Ud"
   },
   "source": [
    "#### 2.1.1. Importando o NumPy"
   ]
  },
  {
   "cell_type": "markdown",
   "metadata": {
    "id": "cmh4gzdFJqp6"
   },
   "source": [
    "Na aula anterior você já aprendeu a importar o NumPy, vamos importá-lo com o alias ```np```."
   ]
  },
  {
   "cell_type": "code",
   "execution_count": 7,
   "metadata": {
    "id": "s2sCbGy_I7Ue",
    "scrolled": false
   },
   "outputs": [],
   "source": [
    "import numpy as np"
   ]
  },
  {
   "cell_type": "markdown",
   "metadata": {
    "id": "FqF1WpJ7I7Uq"
   },
   "source": [
    "Vamos agora observar o porquê o NumPy é tão poderoso e preferível às listas do Python.\n",
    "\n",
    "Imagine que você tenha duas listas de dados de indivíduos, com alturas e pesos, e queira calcular o IMC [(Índice de Massa Corporal)](https://pt.wikipedia.org/wiki/Índice_de_massa_corporal) de cada um deles, como mostrado abaixo:"
   ]
  },
  {
   "cell_type": "code",
   "execution_count": 8,
   "metadata": {
    "id": "4BxlI-C-I7Ut"
   },
   "outputs": [
    {
     "ename": "TypeError",
     "evalue": "unsupported operand type(s) for ** or pow(): 'list' and 'int'",
     "output_type": "error",
     "traceback": [
      "\u001b[1;31m---------------------------------------------------------------------------\u001b[0m",
      "\u001b[1;31mTypeError\u001b[0m                                 Traceback (most recent call last)",
      "Input \u001b[1;32mIn [8]\u001b[0m, in \u001b[0;36m<cell line: 5>\u001b[1;34m()\u001b[0m\n\u001b[0;32m      2\u001b[0m peso \u001b[38;5;241m=\u001b[39m [\u001b[38;5;241m89.0\u001b[39m, \u001b[38;5;241m77.3\u001b[39m, \u001b[38;5;241m55.9\u001b[39m, \u001b[38;5;241m99.4\u001b[39m]\n\u001b[0;32m      4\u001b[0m \u001b[38;5;66;03m# Calculando o IMC\u001b[39;00m\n\u001b[1;32m----> 5\u001b[0m imc \u001b[38;5;241m=\u001b[39m peso \u001b[38;5;241m/\u001b[39m \u001b[43maltura\u001b[49m\u001b[43m \u001b[49m\u001b[38;5;241;43m*\u001b[39;49m\u001b[38;5;241;43m*\u001b[39;49m\u001b[43m \u001b[49m\u001b[38;5;241;43m2\u001b[39;49m\n",
      "\u001b[1;31mTypeError\u001b[0m: unsupported operand type(s) for ** or pow(): 'list' and 'int'"
     ]
    }
   ],
   "source": [
    "altura = [1.81, 1.77, 1.69, 1.91]\n",
    "peso = [89.0, 77.3, 55.9, 99.4]\n",
    "\n",
    "# Calculando o IMC\n",
    "imc = peso / altura ** 2"
   ]
  },
  {
   "cell_type": "markdown",
   "metadata": {
    "id": "qCtEhF62I7Uv"
   },
   "source": [
    "Observe que o Python nos retornou um erro porque não é possivel realizar cálculos com listas, para isso vamos utilizar os arrays do NumPy!"
   ]
  },
  {
   "cell_type": "code",
   "execution_count": 9,
   "metadata": {
    "id": "KNMFG6iEI7Uw"
   },
   "outputs": [
    {
     "data": {
      "text/plain": [
       "array([27.16644791, 24.67362508, 19.57214383, 27.24706011])"
      ]
     },
     "execution_count": 9,
     "metadata": {},
     "output_type": "execute_result"
    }
   ],
   "source": [
    "# Criando os arrays com o NumPy\n",
    "\n",
    "np_altura = np.array(altura)\n",
    "np_peso = np.array(peso)\n",
    "\n",
    "# Calculando o IMC\n",
    "imc = np_peso / np_altura ** 2\n",
    "imc"
   ]
  },
  {
   "cell_type": "markdown",
   "metadata": {
    "id": "w0SOdKBbI7Uy"
   },
   "source": [
    "O Numpy consegue realizar perfeitamente as operações elemento a elemento!\n",
    "\n",
    "Mas fique atento! O NumPy só consegue fazer isto pois ele assume que cada array possui elementos de um único tipo de dado. Se você tentar criar um array com tipos de dados diferentes, o NumPy irá converter todos os elementos para um único tipo. Observe abaixo:\n"
   ]
  },
  {
   "cell_type": "code",
   "execution_count": 10,
   "metadata": {
    "id": "6EnSIBeviRhW"
   },
   "outputs": [
    {
     "data": {
      "text/plain": [
       "array(['1.0', '4', 'True', 'NumPy'], dtype='<U32')"
      ]
     },
     "execution_count": 10,
     "metadata": {},
     "output_type": "execute_result"
    }
   ],
   "source": [
    "np.array([1.0, 4, True, \"NumPy\"])"
   ]
  },
  {
   "cell_type": "markdown",
   "metadata": {
    "id": "MhnufEJkJqp-"
   },
   "source": [
    "\n",
    "Além disso, algumas operações podem funcionar de forma diferente do que você imagina. Veja o exemplo abaixo:"
   ]
  },
  {
   "cell_type": "code",
   "execution_count": 11,
   "metadata": {
    "id": "tML_YhdJI7Uz"
   },
   "outputs": [
    {
     "data": {
      "text/plain": [
       "[1.81, 1.77, 1.69, 1.91, 1.81, 1.77, 1.69, 1.91]"
      ]
     },
     "execution_count": 11,
     "metadata": {},
     "output_type": "execute_result"
    }
   ],
   "source": [
    "# Lista do Python\n",
    "altura * 2"
   ]
  },
  {
   "cell_type": "code",
   "execution_count": 12,
   "metadata": {
    "id": "YDEKa-xFI7U1"
   },
   "outputs": [
    {
     "data": {
      "text/plain": [
       "array([3.62, 3.54, 3.38, 3.82])"
      ]
     },
     "execution_count": 12,
     "metadata": {},
     "output_type": "execute_result"
    }
   ],
   "source": [
    "# NumPy array\n",
    "np_altura * 2"
   ]
  },
  {
   "cell_type": "markdown",
   "metadata": {
    "id": "pcH2OAfDI7U3"
   },
   "source": [
    "#### 2.1.2. Selecionando subconjuntos de NumPy Arrays\n",
    "A seleção de subconjuntos de NumPy arrays funciona de forma similar à listas de Python."
   ]
  },
  {
   "cell_type": "code",
   "execution_count": 13,
   "metadata": {
    "id": "rwniB6TNI7U3"
   },
   "outputs": [
    {
     "data": {
      "text/plain": [
       "19.572143832498863"
      ]
     },
     "execution_count": 13,
     "metadata": {},
     "output_type": "execute_result"
    }
   ],
   "source": [
    "# retornando o terceiro elemento da array\n",
    "imc[2]"
   ]
  },
  {
   "cell_type": "markdown",
   "metadata": {
    "id": "uj--wzxrI7U5"
   },
   "source": [
    "Você também pode selecionar subconjuntos baseados em condições, de forma que apenas os valores que satisfazem as condições serão retornados."
   ]
  },
  {
   "cell_type": "code",
   "execution_count": 14,
   "metadata": {
    "id": "RwCbDMxwI7U6"
   },
   "outputs": [
    {
     "data": {
      "text/plain": [
       "array([27.16644791, 27.24706011])"
      ]
     },
     "execution_count": 14,
     "metadata": {},
     "output_type": "execute_result"
    }
   ],
   "source": [
    "imc[imc > 25]"
   ]
  },
  {
   "cell_type": "markdown",
   "metadata": {
    "id": "UxtVUoQ-JqqC"
   },
   "source": [
    "Podemos combinar a seleção de um subconjunto com a utilização de uma função, observe:"
   ]
  },
  {
   "cell_type": "code",
   "execution_count": 15,
   "metadata": {
    "id": "Gx5DzL4LJqqC"
   },
   "outputs": [
    {
     "data": {
      "text/plain": [
       "51.840072986433796"
      ]
     },
     "execution_count": 15,
     "metadata": {},
     "output_type": "execute_result"
    }
   ],
   "source": [
    "# soma do IMC do primeiro e segundo elementos\n",
    "sum(imc[0:2])"
   ]
  },
  {
   "cell_type": "markdown",
   "metadata": {
    "id": "2zxPjcqzI7U8"
   },
   "source": [
    "Agora vamos fazer um exercício para fixação."
   ]
  },
  {
   "cell_type": "markdown",
   "metadata": {
    "id": "DFgrAn-4I7U9"
   },
   "source": [
    "#### Exercício 2.1"
   ]
  },
  {
   "cell_type": "code",
   "execution_count": 16,
   "metadata": {
    "deletable": false,
    "exid": "2.1.1",
    "id": "xCqSvuZKI7U9"
   },
   "outputs": [
    {
     "name": "stdout",
     "output_type": "stream",
     "text": [
      "<class 'numpy.ndarray'>\n"
     ]
    }
   ],
   "source": [
    "#Exercício 2.1.1\n",
    "# lista de pesos de castanhas\n",
    "c_peso = [0.946, 0.918, 0.906, 0.904, 0.858, 0.774, 0.652, 0.516, 0.478, 0.404, 0.396, 0.364, 0.342, 0.304, \n",
    "            0.262, 0.208, 0.134, 0.974, 0.792, 0.792, 0.628, 0.552, 0.506, 0.478, 0.462, 0.436, 0.408, 0.378, \n",
    "            0.3, 0.298, 0.268, 0.252, 0.16, 0.114, 0.092, 0.936, 0.894, 0.744, 0.706, 0.694, 0.69, 0.652, 0.518, \n",
    "            0.508, 0.502, 0.5, 0.47, 0.44, 0.39, 0.384]\n",
    "\n",
    "# Importe o numpy como np\n",
    "import numpy as np\n",
    "\n",
    "# Crie um numpy array (np_c_peso) a partir de c_peso\n",
    "np_c_peso = np.array(c_peso)\n",
    "\n",
    "# Printe o tipo de np_c_peso\n",
    "print(type(np_c_peso))"
   ]
  },
  {
   "cell_type": "code",
   "execution_count": 17,
   "metadata": {
    "deletable": false,
    "exid": "2.1.2",
    "id": "2Q3pveLOI7U_",
    "scrolled": false
   },
   "outputs": [
    {
     "data": {
      "text/plain": [
       "array([42.57, 41.31, 40.77, 40.68, 38.61, 34.83, 29.34, 23.22, 21.51,\n",
       "       18.18, 17.82, 16.38, 15.39, 13.68, 11.79,  9.36,  6.03, 43.83,\n",
       "       35.64, 35.64, 28.26, 24.84, 22.77, 21.51, 20.79, 19.62, 18.36,\n",
       "       17.01, 13.5 , 13.41, 12.06, 11.34,  7.2 ,  5.13,  4.14, 42.12,\n",
       "       40.23, 33.48, 31.77, 31.23, 31.05, 29.34, 23.31, 22.86, 22.59,\n",
       "       22.5 , 21.15, 19.8 , 17.55, 17.28])"
      ]
     },
     "execution_count": 17,
     "metadata": {},
     "output_type": "execute_result"
    }
   ],
   "source": [
    "#Exercício 2.1.2\n",
    "c_kg_preco = 45.00\n",
    "\n",
    "# Crie um numpy array (np_c_despesa) a partir de np_c_peso com a quantia gasta em cada compra\n",
    "np_c_despesa = np.array(np_c_peso * c_kg_preco)\n",
    "np_c_despesa"
   ]
  },
  {
   "cell_type": "code",
   "execution_count": 18,
   "metadata": {
    "deletable": false,
    "exid": "2.1.3",
    "id": "Xe-lvBwBI7VB",
    "scrolled": true
   },
   "outputs": [
    {
     "data": {
      "text/plain": [
       "563.76"
      ]
     },
     "execution_count": 18,
     "metadata": {},
     "output_type": "execute_result"
    }
   ],
   "source": [
    "#Exercício 2.1.3\n",
    "# Crie a variável compras_acima_30 que corresponde ao valor total gasto nas compras que custaram mais de R$ 30.Printe o resultado\n",
    "compras_acima_30 =  np_c_despesa[np_c_despesa > 30].sum()\n",
    "compras_acima_30"
   ]
  },
  {
   "cell_type": "code",
   "execution_count": 19,
   "metadata": {
    "deletable": false,
    "exid": "2.1.4",
    "id": "wDn9adM4JqqF"
   },
   "outputs": [
    {
     "data": {
      "text/plain": [
       "0.552"
      ]
     },
     "execution_count": 19,
     "metadata": {},
     "output_type": "execute_result"
    }
   ],
   "source": [
    "# Exercício 2.1.4\n",
    "# Printe o peso no indíce 20 (vigésima primeira compra)\n",
    "np_c_peso[21] # era 20 # 19 #0.792, 0.628, 0.552  linha 1 coluna 6"
   ]
  },
  {
   "cell_type": "markdown",
   "metadata": {
    "id": "C-4-5HH1I7VD"
   },
   "source": [
    "#### 2.1.3.  Array N-dimensional\n",
    "Vamos verificar o tipo dos arrays criados acima!"
   ]
  },
  {
   "cell_type": "code",
   "execution_count": 20,
   "metadata": {
    "id": "LCgv4mtYI7VD"
   },
   "outputs": [
    {
     "name": "stdout",
     "output_type": "stream",
     "text": [
      "<class 'numpy.ndarray'>\n"
     ]
    }
   ],
   "source": [
    "print(type(np_c_peso))"
   ]
  },
  {
   "cell_type": "markdown",
   "metadata": {
    "id": "ACK51kB7I7VG"
   },
   "source": [
    "**ndarrays** significam arrays N-dimensionais, vamos criar um NumPy array multi-dimensional a partir de listas tradicionais do Python."
   ]
  },
  {
   "cell_type": "code",
   "execution_count": 21,
   "metadata": {
    "id": "xPyc-WqnI7VG"
   },
   "outputs": [
    {
     "data": {
      "text/plain": [
       "array([[ 1.81,  1.77,  1.69,  1.91],\n",
       "       [89.  , 77.3 , 55.9 , 99.4 ]])"
      ]
     },
     "execution_count": 21,
     "metadata": {},
     "output_type": "execute_result"
    }
   ],
   "source": [
    "np_2d = np.array([[1.81, 1.77, 1.69, 1.91],\n",
    "                  [89.0, 77.3, 55.9, 99.4]])\n",
    "np_2d"
   ]
  },
  {
   "cell_type": "markdown",
   "metadata": {
    "id": "pdWHekG8I7VI"
   },
   "source": [
    "Cada sublista da lista corresponde à uma linha da array bi-dimensional criada.\n",
    "Nós podemos verificar o tamanho do array usando o atributo ```shape```."
   ]
  },
  {
   "cell_type": "code",
   "execution_count": 22,
   "metadata": {
    "id": "NDV2yCBVI7VI"
   },
   "outputs": [
    {
     "data": {
      "text/plain": [
       "(2, 4)"
      ]
     },
     "execution_count": 22,
     "metadata": {},
     "output_type": "execute_result"
    }
   ],
   "source": [
    "np_2d.shape"
   ]
  },
  {
   "cell_type": "markdown",
   "metadata": {
    "id": "wlRoKTY7I7VK"
   },
   "source": [
    "Podemos ver que o np_2d tem 2 linhas e 4 colunas."
   ]
  },
  {
   "cell_type": "markdown",
   "metadata": {
    "id": "7FwtOqG0I7VK"
   },
   "source": [
    "#### 2.1.4. Selecionando subconjuntos de array bidimensional\n",
    "\n",
    "Assim como o array unidimensional, também podemos selecionar um subconjunto de um array bidimensional, usando o índice da linha e coluna como exemplifica a imagem abaixo.\n",
    "![Subsetting](https://imgur.com/08EIOjy.png)\n",
    "Veja alguns exemplos de como isso é feito."
   ]
  },
  {
   "cell_type": "code",
   "execution_count": 23,
   "metadata": {
    "id": "wuhs2K0II7VL"
   },
   "outputs": [
    {
     "data": {
      "text/plain": [
       "array([1.81, 1.77, 1.69, 1.91])"
      ]
     },
     "execution_count": 23,
     "metadata": {},
     "output_type": "execute_result"
    }
   ],
   "source": [
    "# Selecionando a primeira linha\n",
    "np_2d[0]"
   ]
  },
  {
   "cell_type": "code",
   "execution_count": 24,
   "metadata": {
    "id": "9XQL-bOLI7VN"
   },
   "outputs": [
    {
     "data": {
      "text/plain": [
       "1.69"
      ]
     },
     "execution_count": 24,
     "metadata": {},
     "output_type": "execute_result"
    }
   ],
   "source": [
    "# Selecionando a altura (primeira linha) do terceiro elemento\n",
    "np_2d[0][2]"
   ]
  },
  {
   "cell_type": "markdown",
   "metadata": {
    "id": "nNYPyUANI7VO"
   },
   "source": [
    "Basicamente nós selecionamos a linha, e a partir daquela linha fazemos outra seleção.\n",
    "\n",
    "Também é possível selecionar utilizando vírgulas dentro de colchetes: ```array[linha, coluna]```"
   ]
  },
  {
   "cell_type": "code",
   "execution_count": 25,
   "metadata": {
    "id": "JalM9A2EI7VP"
   },
   "outputs": [
    {
     "data": {
      "text/plain": [
       "1.69"
      ]
     },
     "execution_count": 25,
     "metadata": {},
     "output_type": "execute_result"
    }
   ],
   "source": [
    "# Primeira linha e terceira colna\n",
    "np_2d[0, 2]"
   ]
  },
  {
   "cell_type": "code",
   "execution_count": 26,
   "metadata": {
    "id": "ksqMjmYEI7VR"
   },
   "outputs": [
    {
     "data": {
      "text/plain": [
       "array([[ 1.77,  1.69],\n",
       "       [77.3 , 55.9 ]])"
      ]
     },
     "execution_count": 26,
     "metadata": {},
     "output_type": "execute_result"
    }
   ],
   "source": [
    "# Todas as linhas e segunda e terceira coluna\n",
    "np_2d[:, 1:3] "
   ]
  },
  {
   "cell_type": "markdown",
   "metadata": {
    "id": "WcAa54mqI7VT"
   },
   "source": [
    "#### Exercício 2.2\n",
    "\n",
    "Abaixo temos uma lista de listas contendo informações de vendas de castanhas de uma loja. Cada lista representa uma venda que foi realizada. O primeiro elemento de cada lista é o dia que  venda foi feita, o segundo elemento representa o peso das castanhas compradas. Por fim, o terceiro elemento é a quantia paga pelas castanhas.\n",
    "\n",
    "Com isso em mente, faça os seguintes exercícios:"
   ]
  },
  {
   "cell_type": "code",
   "execution_count": 27,
   "metadata": {
    "deletable": false,
    "exid": "2.2.1",
    "id": "UjZhdLusI7VU"
   },
   "outputs": [
    {
     "name": "stdout",
     "output_type": "stream",
     "text": [
      "<class 'numpy.ndarray'>\n"
     ]
    },
    {
     "data": {
      "text/plain": [
       "(50, 3)"
      ]
     },
     "execution_count": 27,
     "metadata": {},
     "output_type": "execute_result"
    }
   ],
   "source": [
    "# Exercício 2.2.1\n",
    "castanha = [[2, 0.946, 66.1], \n",
    "          [2, 0.918, 32.96], \n",
    "          [2, 0.906, 58.76],\n",
    "          [2, 0.904, 29.14], \n",
    "          [2, 0.858, 59.96],\n",
    "          [2, 0.774, 27.77],\n",
    "          [2, 0.652, 42.3], #42.3  linha 7  coluna 3\n",
    "          [2, 0.516, 18.51], \n",
    "          [2, 0.478, 17.15],\n",
    "          [2, 0.404, 28.22], \n",
    "          [2, 0.396, 7.88], \n",
    "          [2, 0.364, 7.24],\n",
    "          [2, 0.342, 22.18], \n",
    "          [2, 0.304, 10.91], \n",
    "          [2, 0.262, 9.41], \n",
    "          [2, 0.208, 4.13],\n",
    "          [2, 0.134, 9.36],\n",
    "          [4, 0.974, 34.95],\n",
    "          [4, 0.792, 51.38],\n",
    "          [4, 0.792, 51.38], \n",
    "          [4, 0.628, 12.48], \n",
    "          [4, 0.552, 19.81], \n",
    "          [4, 0.506, 25], \n",
    "          [4, 0.478, 31], \n",
    "          [4, 0.462, 32.24],\n",
    "          [4, 0.436, 28.28],\n",
    "          [4, 0.408, 14.64],\n",
    "          [4, 0.378, 13.56],\n",
    "          [4, 0.3, 19.46],\n",
    "          [4, 0.298, 10.69],\n",
    "          [4, 0.268, 9.62],\n",
    "          [4, 0.252, 16.34],\n",
    "          [4, 0.16, 3.18],\n",
    "          [4, 0.114, 4.09],\n",
    "          [4, 0.092, 5.97],\n",
    "          [5, 0.936, 65.33],\n",
    "          [5, 0.894, 32.07],\n",
    "          [5, 0.744, 48.28], \n",
    "          [5, 0.706, 25.34],\n",
    "          [5, 0.694, 24.91], \n",
    "          [5, 0.69, 13.72], \n",
    "          [5, 0.652, 42.32], \n",
    "          [5, 0.518, 33.6], \n",
    "          [5, 0.508, 18.23],\n",
    "          [5, 0.502, 35.09],\n",
    "          [5, 0.5, 27.45], \n",
    "          [5, 0.47, 9.35], \n",
    "          [5, 0.44, 28.54],\n",
    "          [5, 0.39, 7.76], \n",
    "          [5, 0.384, 21.08]]\n",
    "\n",
    "# Crie um numpy array 2d (np_castanha) a partir de castanha\n",
    "np_castanha = np.array(castanha)\n",
    "\n",
    "# Printe o tipo de np_castanha\n",
    "print(type(np_castanha))\n",
    "\n",
    "# Printe as dimensões (número de linhas e colunas)\n",
    "np_castanha.shape"
   ]
  },
  {
   "cell_type": "code",
   "execution_count": 28,
   "metadata": {
    "deletable": false,
    "exid": "2.2.2",
    "id": "SWkISBQDI7VX",
    "scrolled": false
   },
   "outputs": [
    {
     "data": {
      "text/plain": [
       "array([0.946, 0.918, 0.906, 0.904, 0.858, 0.774, 0.652, 0.516, 0.478,\n",
       "       0.404, 0.396, 0.364, 0.342, 0.304, 0.262, 0.208, 0.134, 0.974,\n",
       "       0.792, 0.792, 0.628, 0.552, 0.506, 0.478, 0.462, 0.436, 0.408,\n",
       "       0.378, 0.3  , 0.298, 0.268, 0.252, 0.16 , 0.114, 0.092, 0.936,\n",
       "       0.894, 0.744, 0.706, 0.694, 0.69 , 0.652, 0.518, 0.508, 0.502,\n",
       "       0.5  , 0.47 , 0.44 , 0.39 , 0.384])"
      ]
     },
     "execution_count": 28,
     "metadata": {},
     "output_type": "execute_result"
    }
   ],
   "source": [
    "# Exercício 2.2.2\n",
    "# Crie um numpy array (np_peso) que corresponde à toda segunda coluna de np_castanha\n",
    "np_peso = np_castanha[ :,1]    \n",
    "np_peso  "
   ]
  },
  {
   "cell_type": "code",
   "execution_count": 29,
   "metadata": {
    "id": "PFzZj3zNJqqK"
   },
   "outputs": [
    {
     "name": "stdout",
     "output_type": "stream",
     "text": [
      "42.3\n",
      "[[ 4.     0.974 34.95 ]\n",
      " [ 4.     0.792 51.38 ]\n",
      " [ 4.     0.792 51.38 ]\n",
      " [ 4.     0.628 12.48 ]\n",
      " [ 4.     0.552 19.81 ]\n",
      " [ 4.     0.506 25.   ]\n",
      " [ 4.     0.478 31.   ]\n",
      " [ 4.     0.462 32.24 ]\n",
      " [ 4.     0.436 28.28 ]\n",
      " [ 4.     0.408 14.64 ]\n",
      " [ 4.     0.378 13.56 ]\n",
      " [ 4.     0.3   19.46 ]\n",
      " [ 4.     0.298 10.69 ]\n",
      " [ 4.     0.268  9.62 ]\n",
      " [ 4.     0.252 16.34 ]\n",
      " [ 4.     0.16   3.18 ]\n",
      " [ 4.     0.114  4.09 ]\n",
      " [ 4.     0.092  5.97 ]\n",
      " [ 5.     0.936 65.33 ]\n",
      " [ 5.     0.894 32.07 ]\n",
      " [ 5.     0.744 48.28 ]\n",
      " [ 5.     0.706 25.34 ]\n",
      " [ 5.     0.694 24.91 ]\n",
      " [ 5.     0.69  13.72 ]\n",
      " [ 5.     0.652 42.32 ]\n",
      " [ 5.     0.518 33.6  ]\n",
      " [ 5.     0.508 18.23 ]\n",
      " [ 5.     0.502 35.09 ]\n",
      " [ 5.     0.5   27.45 ]\n",
      " [ 5.     0.47   9.35 ]\n",
      " [ 5.     0.44  28.54 ]\n",
      " [ 5.     0.39   7.76 ]\n",
      " [ 5.     0.384 21.08 ]]\n"
     ]
    }
   ],
   "source": [
    "# Exercício 2.2.3\n",
    "# Printe o preço da 14ª (décima quarta) venda\n",
    "print(np_castanha[6][2])\n",
    "# Printe todas as vendas feitas após o dia 2\n",
    "print(np_castanha[17:,:])"
   ]
  },
  {
   "cell_type": "markdown",
   "metadata": {
    "id": "YIEqkTlVI7VZ"
   },
   "source": [
    "#### 2.1.5. Estatística básica com NumPy\n",
    "Costumeiramente o primeiro passo para analisar nossos dados é conhecê-los através de estatística descritiva. O NumPy pode ser usado para obter essa visão inicial dos dados mesmo com grande quantidade de observações. Nos próximos módulos teremos uma aula dedicada à estatística básica, então não se preocupe se você não entender algum dos conceitos utilizados abaixo.\n",
    "\n",
    "Vamos então usar alguns atributos do NumPy para começar a analisar nossos dados."
   ]
  },
  {
   "cell_type": "code",
   "execution_count": 30,
   "metadata": {
    "id": "sTkUT6xzI7VZ"
   },
   "outputs": [
    {
     "data": {
      "text/plain": [
       "80.4"
      ]
     },
     "execution_count": 30,
     "metadata": {},
     "output_type": "execute_result"
    }
   ],
   "source": [
    "np_a_p = np.array([[1.81, 89.0],\n",
    "                  [1.77, 77.3],\n",
    "                  [1.69, 55.9],\n",
    "                  [1.91, 99.4]])\n",
    "\n",
    "# Calculando a média dos pesos\n",
    "np.mean(np_a_p[:, 1])"
   ]
  },
  {
   "cell_type": "code",
   "execution_count": 31,
   "metadata": {
    "id": "GFAOifpqI7Vc"
   },
   "outputs": [
    {
     "data": {
      "text/plain": [
       "83.15"
      ]
     },
     "execution_count": 31,
     "metadata": {},
     "output_type": "execute_result"
    }
   ],
   "source": [
    "# calculando a mediana dos pesos\n",
    "np.median(np_a_p[:, 1])"
   ]
  },
  {
   "cell_type": "code",
   "execution_count": 32,
   "metadata": {
    "id": "Y3z2MNdDI7Vd"
   },
   "outputs": [
    {
     "data": {
      "text/plain": [
       "array([[1.        , 0.96933562],\n",
       "       [0.96933562, 1.        ]])"
      ]
     },
     "execution_count": 32,
     "metadata": {},
     "output_type": "execute_result"
    }
   ],
   "source": [
    "# calculando os coeficientes de correlação entre pesos e alturas\n",
    "np.corrcoef(np_a_p[:, 0], np_a_p[:, 1])"
   ]
  },
  {
   "cell_type": "code",
   "execution_count": 33,
   "metadata": {
    "id": "Dd8HC0onI7Vg"
   },
   "outputs": [
    {
     "data": {
      "text/plain": [
       "16.16183776678878"
      ]
     },
     "execution_count": 33,
     "metadata": {},
     "output_type": "execute_result"
    }
   ],
   "source": [
    "# calculando o desvio padrão dos pesos\n",
    "np.std(np_a_p[:, 1])"
   ]
  },
  {
   "cell_type": "code",
   "execution_count": 34,
   "metadata": {
    "id": "b2taaZh6I7Vh"
   },
   "outputs": [
    {
     "data": {
      "text/plain": [
       "321.6"
      ]
     },
     "execution_count": 34,
     "metadata": {},
     "output_type": "execute_result"
    }
   ],
   "source": [
    "# calculando a soma dos pesos\n",
    "np.sum(np_a_p[:, 1])"
   ]
  },
  {
   "cell_type": "markdown",
   "metadata": {
    "id": "DzNkxEpAI7Vj"
   },
   "source": [
    "Alguns desses atributos já estão disponíveis no Python, no entanto, a principal diferença entre eles é a performance. Os atributos do NumPy são mais rápidos na execução do que os básicos do Python."
   ]
  },
  {
   "cell_type": "markdown",
   "metadata": {
    "id": "cv9uSyMSI7Vj"
   },
   "source": [
    "Lembrando que sempre que tiver dificuldade para entender algum atributo, você pode consultar a documentação do [NumPy](https://numpy.org/doc/)."
   ]
  },
  {
   "cell_type": "markdown",
   "metadata": {
    "id": "Pp0AJiz8I7Vk"
   },
   "source": [
    "Agora que aprendemos como o NumPy funciona, vamos aprender sobre uma das bibliotecas mais utilizadas para manipulação de dados em Python, o **Pandas**!"
   ]
  },
  {
   "cell_type": "markdown",
   "metadata": {
    "id": "0jW-2-KjI7Vk"
   },
   "source": [
    "<a name=\"pandas\"></a>\n",
    "## 3. Pandas\n",
    "\n",
    "### 3.1. O que é o Pandas?\n",
    "\n",
    "Pandas é uma biblioteca *open source*, que proporciona estruturas de dados e ferramentas de análise de dados de alta performance e fáceis de usar para Python. Vamos entender melhor o que alguns termos significam:\n",
    " - *open source*: assim como o NumPy, seu código original é disponibilizado livremente e pode ser distribuido e modificado. Isso significa que qualquer um pode contribuir para a evolução do Pandas!\n",
    " - alta performance: Pandas é escrito em Python, Cython e C. Isso permite que os cientistas de dados consigam utilizá-lo para lidar com conjuntos de dados muito grandes (daqueles que o Excel não conseguiria nem abrir) e fazer operações sobre esses dados com facilidade. Dessa forma, Pandas torna nosso trabalho melhor e mais fácil provendo ótima performânce.\n",
    " - estruturas de dados e análises de dados: o motivo pelo qual Pandas existe. Muitas vezes precisamos obter insights de dados crus como documentos de textos, tabelas e etc. Pandas é capaz de lidar com esses tipos de dados para que possamos analisá-los.\n",
    "\n",
    "Em resumo, **Pandas fornece estrutura de dados especializadas e ferramentas para manipulação de dados**. Sua ótima performance, facilidade de uso e comunidade dedicada são as principais razões de sua vasta adoção entre cientistas de dados. \n",
    "\n",
    "Agora vamos começar a utilizá-lo! Se você está utilizando o Anaconda ou o Google Colab, já deve ter ele instalado. Senão, é possível achar os passos de instalação [neste link](https://pandas.pydata.org/). <br>\n",
    "\n",
    "### 3.2. Básico de Pandas\n",
    "\n",
    "Vamos relembrar as etapas da construção de um modelo de dados para entender a importância do Pandas:\n",
    "\n",
    "1. Entendimento do problema / Definição do escopo\n",
    "2. Definição do objetivo e métricas de avaliação\n",
    "3. Determinação dos dados necessários\n",
    "4. Aquisição dos dados\n",
    "5. Tratamento e manipulação dos dados\n",
    "6. Análise Exploratória dos Dados (E.D.A.)\n",
    "7. Engenharia de Variáveis\n",
    "8. Construção e avaliação do modelo\n",
    "9. Interpretação dos resultados e apresentação dos dados\n",
    "10. Deploy\n",
    "11. Monitoramento e manutenção\n",
    "\n",
    "Então, mas em quais etapas o Pandas é mais utilizado? Nas etapas 4 a 7 e 9! Ou seja, das 11 etapas, o Pandas pode nos ajudar em 5 delas! Isso mostra o quão poderosa essa biblioteca é, e porque utilizamos ela diariamente.\n",
    "\n",
    "#### 3.2.1. Como importá-lo?\n",
    "\n",
    "O Pandas é geralmente importado sempre da mesma forma, como mostramos abaixo. Aproveitamos também para importar o NumPy, biblioteca que já apresentamos anteriormente."
   ]
  },
  {
   "cell_type": "code",
   "execution_count": 35,
   "metadata": {
    "id": "D3lVTBtPI7Vk"
   },
   "outputs": [
    {
     "name": "stdout",
     "output_type": "stream",
     "text": [
      "Requirement already satisfied: pandas in c:\\users\\jojos\\appdata\\local\\programs\\python\\python39\\lib\\site-packages (1.4.2)\n",
      "Requirement already satisfied: python-dateutil>=2.8.1 in c:\\users\\jojos\\appdata\\local\\programs\\python\\python39\\lib\\site-packages (from pandas) (2.8.2)\n",
      "Requirement already satisfied: numpy>=1.18.5 in c:\\users\\jojos\\appdata\\local\\programs\\python\\python39\\lib\\site-packages (from pandas) (1.20.3)\n",
      "Requirement already satisfied: pytz>=2020.1 in c:\\users\\jojos\\appdata\\local\\programs\\python\\python39\\lib\\site-packages (from pandas) (2021.1)\n",
      "Requirement already satisfied: six>=1.5 in c:\\users\\jojos\\appdata\\local\\programs\\python\\python39\\lib\\site-packages (from python-dateutil>=2.8.1->pandas) (1.15.0)\n"
     ]
    }
   ],
   "source": [
    "!pip install pandas\n",
    "import pandas as pd\n",
    "import numpy as np"
   ]
  },
  {
   "cell_type": "markdown",
   "metadata": {
    "id": "6qKrzYVYI7Vm"
   },
   "source": [
    "#### 3.2.2. Objetos do Pandas\n",
    "\n",
    "Existem 2 principais tipos de objetos no Pandas: as [*Series*](https://pandas.pydata.org/pandas-docs/stable/reference/api/pandas.Series.html#pandas.Series) e os *DataFrames*. As *Series* são sequências de uma dimensão  de elementos (para ser mais específico *ndarray*), todos do mesmo tipo de dados, com rótulos/índices (*labels*). São o objeto primário do Pandas, tudo vai funcionar baseado nelas. Pra criar um objeto do tipo *Series*, podemos fazer o seguinte:"
   ]
  },
  {
   "cell_type": "code",
   "execution_count": 36,
   "metadata": {
    "id": "tlrOSdwAI7Vn"
   },
   "outputs": [
    {
     "data": {
      "text/plain": [
       "0    1.0\n",
       "1    3.0\n",
       "2    5.0\n",
       "3    NaN\n",
       "4    6.0\n",
       "5    8.0\n",
       "dtype: float64"
      ]
     },
     "execution_count": 36,
     "metadata": {},
     "output_type": "execute_result"
    }
   ],
   "source": [
    "s = pd.Series([1, 3, 5, np.nan, 6, 8])\n",
    "s"
   ]
  },
  {
   "cell_type": "markdown",
   "metadata": {
    "id": "XoMUtFTEI7Vp"
   },
   "source": [
    "Podemos ver acima que cada elemento da *Series* tem um rótulo relacionado. Esses rótulos podem ser tanto numéricos quanto de texto! Ao final do objeto temos a informação sobre o tipo de dados da *Series*: nesse caso, números *float64*. <br>\n",
    "O outro objeto principal do Pandas é o [*DataFrame*](https://pandas.pydata.org/pandas-docs/stable/reference/api/pandas.DataFrame.html#pandas.DataFrame), que é basicamente uma coleção de *Series* com rótulos em comum. O *DataFrame* é bem parecido com uma tabela de Excel, com seus índices e colunas. Tanto suas linhas quanto suas colunas tem rótulos, nos permitindo acessar qualquer célula pela sua coordenada. Há diversas formas de criar um *DataFrame*, vamos começar com o mais simples:"
   ]
  },
  {
   "cell_type": "code",
   "execution_count": 37,
   "metadata": {
    "id": "vNO6qyIfI7Vq"
   },
   "outputs": [
    {
     "data": {
      "text/html": [
       "<div>\n",
       "<style scoped>\n",
       "    .dataframe tbody tr th:only-of-type {\n",
       "        vertical-align: middle;\n",
       "    }\n",
       "\n",
       "    .dataframe tbody tr th {\n",
       "        vertical-align: top;\n",
       "    }\n",
       "\n",
       "    .dataframe thead th {\n",
       "        text-align: right;\n",
       "    }\n",
       "</style>\n",
       "<table border=\"1\" class=\"dataframe\">\n",
       "  <thead>\n",
       "    <tr style=\"text-align: right;\">\n",
       "      <th></th>\n",
       "      <th>A</th>\n",
       "      <th>B</th>\n",
       "      <th>C</th>\n",
       "      <th>D</th>\n",
       "    </tr>\n",
       "  </thead>\n",
       "  <tbody>\n",
       "    <tr>\n",
       "      <th>2021-01-01</th>\n",
       "      <td>0.513671</td>\n",
       "      <td>0.567810</td>\n",
       "      <td>-0.404597</td>\n",
       "      <td>-1.184560</td>\n",
       "    </tr>\n",
       "    <tr>\n",
       "      <th>2021-01-02</th>\n",
       "      <td>3.683785</td>\n",
       "      <td>0.447536</td>\n",
       "      <td>1.258245</td>\n",
       "      <td>-1.199218</td>\n",
       "    </tr>\n",
       "    <tr>\n",
       "      <th>2021-01-03</th>\n",
       "      <td>-0.072961</td>\n",
       "      <td>-1.544898</td>\n",
       "      <td>0.104815</td>\n",
       "      <td>-0.164407</td>\n",
       "    </tr>\n",
       "    <tr>\n",
       "      <th>2021-01-04</th>\n",
       "      <td>0.191723</td>\n",
       "      <td>-0.961089</td>\n",
       "      <td>0.885622</td>\n",
       "      <td>1.192206</td>\n",
       "    </tr>\n",
       "    <tr>\n",
       "      <th>2021-01-05</th>\n",
       "      <td>0.636350</td>\n",
       "      <td>-0.912451</td>\n",
       "      <td>1.131214</td>\n",
       "      <td>0.167446</td>\n",
       "    </tr>\n",
       "    <tr>\n",
       "      <th>2021-01-06</th>\n",
       "      <td>-1.358215</td>\n",
       "      <td>0.562612</td>\n",
       "      <td>0.229049</td>\n",
       "      <td>-0.046068</td>\n",
       "    </tr>\n",
       "  </tbody>\n",
       "</table>\n",
       "</div>"
      ],
      "text/plain": [
       "                   A         B         C         D\n",
       "2021-01-01  0.513671  0.567810 -0.404597 -1.184560\n",
       "2021-01-02  3.683785  0.447536  1.258245 -1.199218\n",
       "2021-01-03 -0.072961 -1.544898  0.104815 -0.164407\n",
       "2021-01-04  0.191723 -0.961089  0.885622  1.192206\n",
       "2021-01-05  0.636350 -0.912451  1.131214  0.167446\n",
       "2021-01-06 -1.358215  0.562612  0.229049 -0.046068"
      ]
     },
     "execution_count": 37,
     "metadata": {},
     "output_type": "execute_result"
    }
   ],
   "source": [
    "dates = pd.date_range('20210101', periods=6) #estamos criando uma lista de datas entre 01/01/2021 e 06/01/2021. Note que estamos usando uma função do Pandas\n",
    "df = pd.DataFrame(\n",
    "    np.random.randn(6, 4), #apenas números aleatórios nas células\n",
    "    index=dates,  #especificando quais são os índices. Eles aceitam até datas como índice! Isso é muito bom para lidar com dados de séries temporais\n",
    "    columns=list('ABCD')) #especificando como quero que sejam os nomes das colunas, passando uma lista de letras\n",
    "df"
   ]
  },
  {
   "cell_type": "markdown",
   "metadata": {
    "id": "KCFQaOxrI7Vs"
   },
   "source": [
    "Isso é um *DataFrame*! Uma coisa boa do Pandas com o Jupyter Notebook é que eles mostram o *DataFrame* de uma forma bastante amigável. Agora que sabemos sobre as duas principais estruturas de dados do Pandas, podemos aprender sobre os principais métodos e funcionalidades dessa biblioteca, e para isso vamos utilizar dados reais sobre uma das marcas mais conhecidas dos desenhos e videogames, a franquia Pokémon :)\n",
    "\n",
    "Observação: um *DataFrame* pode ser visto como um dicionário de listas.\n",
    "\n",
    "#### 3.2.3. Carregando o conjunto de dados\n",
    "\n",
    "Um dos tipos de dados mais comuns para se guardar arquivos são os CSVs (comma-separated values, em português, valores separados por vírgulas). O Pandas tem diversas funções para transformar os mais variados tipos de arquivos em *DataFrames*, como csv, Excel, json e etc. Nesse exemplo, vamos usar o [leitor de csv](https://pandas.pydata.org/pandas-docs/stable/reference/api/pandas.read_csv.html). Execute a célula abaixo para carregar os dados dos Pokémons.\n",
    "\n",
    "Caso você não conheça, [Pokémon](https://www.pokemon.com/us/) é uma franquia japonesa composta por jogos de videogame, desenhos, cartas colecionáveis, entre outros produtos. Nos jogos, principal produto da franquia, os humanos (conhecidos como treinadores Pokémon) capturam e treinam os monstrinhos (Pokémons) para realizar diversas aventuras e batalhas. Cada Pokémon pode ser de diferentes tipos (fogo, água, elétrico, pedra, etc) e apresentam diferentes níveis de habilidades (ataque, defesa, velocidade, etc). Além disso, alguns Pokémons são mais raros que outros (conhecidos como lendários).\n",
    "\n",
    "Caso você esteja utilizando o Google Colab, não se esqueça de conectar no seu Drive e alterar o caminho para a pasta que contém seus arquivos de dados."
   ]
  },
  {
   "cell_type": "code",
   "execution_count": 38,
   "metadata": {
    "id": "cM-UjmFTI7Vs"
   },
   "outputs": [],
   "source": [
    "pkmn = pd.read_csv(\n",
    "    'pokemon_data.csv', #o caminho para o arquivo que se quer ler\n",
    "    sep=',') #o caracter utilizado para separar os valores   fut_players_data"
   ]
  },
  {
   "cell_type": "markdown",
   "metadata": {
    "id": "LQCKYMjYI7Vu"
   },
   "source": [
    "#### 3.2.4. Visualizações iniciais\n",
    "Ótimo! Acabamos de criar um *DataFrame* a partir de um arquivo csv. Mas como gostamos de verificar as coisas, seria interessante saber algumas informações como: o que os dados contêm, como são as colunas, se tem valores nulos e etc. O Pandas tem 4 métodos principais para isso:"
   ]
  },
  {
   "cell_type": "code",
   "execution_count": 39,
   "metadata": {
    "id": "0H8TyInJI7Vu"
   },
   "outputs": [
    {
     "name": "stdout",
     "output_type": "stream",
     "text": [
      "<class 'pandas.core.frame.DataFrame'>\n",
      "RangeIndex: 800 entries, 0 to 799\n",
      "Data columns (total 13 columns):\n",
      " #   Column      Non-Null Count  Dtype \n",
      "---  ------      --------------  ----- \n",
      " 0   #           800 non-null    int64 \n",
      " 1   Name        800 non-null    object\n",
      " 2   Type 1      800 non-null    object\n",
      " 3   Type 2      414 non-null    object\n",
      " 4   Total       800 non-null    int64 \n",
      " 5   HP          800 non-null    int64 \n",
      " 6   Attack      800 non-null    int64 \n",
      " 7   Defense     800 non-null    int64 \n",
      " 8   Sp. Atk     800 non-null    int64 \n",
      " 9   Sp. Def     800 non-null    int64 \n",
      " 10  Speed       800 non-null    int64 \n",
      " 11  Generation  800 non-null    int64 \n",
      " 12  Legendary   800 non-null    bool  \n",
      "dtypes: bool(1), int64(9), object(3)\n",
      "memory usage: 75.9+ KB\n"
     ]
    }
   ],
   "source": [
    "pkmn.info()"
   ]
  },
  {
   "cell_type": "markdown",
   "metadata": {
    "id": "jSWYqoxFI7Vw"
   },
   "source": [
    "A primeira coisa que é interessante de se fazer após ler um conjunto de dados em um *DataFrame* é utilizar o método *info()*. Ele mostra informações como:\n",
    " - a classe do objeto criado\n",
    " - o intervalo do índice e quantas linhas de dados se tem\n",
    " - as colunas, seus nomes e tipos de dados\n",
    " - quais os tipos de dados presentes no *DataFrame* e quantas colunas de cada\n",
    " - a quantidade de memória utilizada pelo computador para guardar esses dados\n",
    "\n",
    "Podemos ver que temos uma base sobre Pokémon, com 800 linhas com índices númericos de 0 a 799, 13 colunas de três tipos de dados diferentes, usando cerca de ~76kB de memória RAM. As informações presentes sobre os Pokémons são o número, o nome, o tipo (alguns tem subtipo, mas não todos, por isso os dados faltantes na coluna *Type 2*), estatísticas de ataque, defesa e velocidade, a geração (novos Pokémons são apresentados a cada alguns anos, e cada grupo é conhecido por uma geração) e a indicação se ele é lendário (como uma espécie mística). <br> Todas essas informações a gente conseguiu descobrir com apenas uma linha de código! Vamos então ver como o *DataFrame* realmente é. Temos dois métodos para isso:"
   ]
  },
  {
   "cell_type": "code",
   "execution_count": 40,
   "metadata": {
    "id": "Ly2u3gbBI7Vw"
   },
   "outputs": [
    {
     "data": {
      "text/html": [
       "<div>\n",
       "<style scoped>\n",
       "    .dataframe tbody tr th:only-of-type {\n",
       "        vertical-align: middle;\n",
       "    }\n",
       "\n",
       "    .dataframe tbody tr th {\n",
       "        vertical-align: top;\n",
       "    }\n",
       "\n",
       "    .dataframe thead th {\n",
       "        text-align: right;\n",
       "    }\n",
       "</style>\n",
       "<table border=\"1\" class=\"dataframe\">\n",
       "  <thead>\n",
       "    <tr style=\"text-align: right;\">\n",
       "      <th></th>\n",
       "      <th>#</th>\n",
       "      <th>Name</th>\n",
       "      <th>Type 1</th>\n",
       "      <th>Type 2</th>\n",
       "      <th>Total</th>\n",
       "      <th>HP</th>\n",
       "      <th>Attack</th>\n",
       "      <th>Defense</th>\n",
       "      <th>Sp. Atk</th>\n",
       "      <th>Sp. Def</th>\n",
       "      <th>Speed</th>\n",
       "      <th>Generation</th>\n",
       "      <th>Legendary</th>\n",
       "    </tr>\n",
       "  </thead>\n",
       "  <tbody>\n",
       "    <tr>\n",
       "      <th>0</th>\n",
       "      <td>1</td>\n",
       "      <td>Bulbasaur</td>\n",
       "      <td>Grass</td>\n",
       "      <td>Poison</td>\n",
       "      <td>318</td>\n",
       "      <td>45</td>\n",
       "      <td>49</td>\n",
       "      <td>49</td>\n",
       "      <td>65</td>\n",
       "      <td>65</td>\n",
       "      <td>45</td>\n",
       "      <td>1</td>\n",
       "      <td>False</td>\n",
       "    </tr>\n",
       "    <tr>\n",
       "      <th>1</th>\n",
       "      <td>2</td>\n",
       "      <td>Ivysaur</td>\n",
       "      <td>Grass</td>\n",
       "      <td>Poison</td>\n",
       "      <td>405</td>\n",
       "      <td>60</td>\n",
       "      <td>62</td>\n",
       "      <td>63</td>\n",
       "      <td>80</td>\n",
       "      <td>80</td>\n",
       "      <td>60</td>\n",
       "      <td>1</td>\n",
       "      <td>False</td>\n",
       "    </tr>\n",
       "    <tr>\n",
       "      <th>2</th>\n",
       "      <td>3</td>\n",
       "      <td>Venusaur</td>\n",
       "      <td>Grass</td>\n",
       "      <td>Poison</td>\n",
       "      <td>525</td>\n",
       "      <td>80</td>\n",
       "      <td>82</td>\n",
       "      <td>83</td>\n",
       "      <td>100</td>\n",
       "      <td>100</td>\n",
       "      <td>80</td>\n",
       "      <td>1</td>\n",
       "      <td>False</td>\n",
       "    </tr>\n",
       "    <tr>\n",
       "      <th>3</th>\n",
       "      <td>3</td>\n",
       "      <td>VenusaurMega Venusaur</td>\n",
       "      <td>Grass</td>\n",
       "      <td>Poison</td>\n",
       "      <td>625</td>\n",
       "      <td>80</td>\n",
       "      <td>100</td>\n",
       "      <td>123</td>\n",
       "      <td>122</td>\n",
       "      <td>120</td>\n",
       "      <td>80</td>\n",
       "      <td>1</td>\n",
       "      <td>False</td>\n",
       "    </tr>\n",
       "    <tr>\n",
       "      <th>4</th>\n",
       "      <td>4</td>\n",
       "      <td>Charmander</td>\n",
       "      <td>Fire</td>\n",
       "      <td>NaN</td>\n",
       "      <td>309</td>\n",
       "      <td>39</td>\n",
       "      <td>52</td>\n",
       "      <td>43</td>\n",
       "      <td>60</td>\n",
       "      <td>50</td>\n",
       "      <td>65</td>\n",
       "      <td>1</td>\n",
       "      <td>False</td>\n",
       "    </tr>\n",
       "  </tbody>\n",
       "</table>\n",
       "</div>"
      ],
      "text/plain": [
       "   #                   Name Type 1  Type 2  Total  HP  Attack  Defense  \\\n",
       "0  1              Bulbasaur  Grass  Poison    318  45      49       49   \n",
       "1  2                Ivysaur  Grass  Poison    405  60      62       63   \n",
       "2  3               Venusaur  Grass  Poison    525  80      82       83   \n",
       "3  3  VenusaurMega Venusaur  Grass  Poison    625  80     100      123   \n",
       "4  4             Charmander   Fire     NaN    309  39      52       43   \n",
       "\n",
       "   Sp. Atk  Sp. Def  Speed  Generation  Legendary  \n",
       "0       65       65     45           1      False  \n",
       "1       80       80     60           1      False  \n",
       "2      100      100     80           1      False  \n",
       "3      122      120     80           1      False  \n",
       "4       60       50     65           1      False  "
      ]
     },
     "execution_count": 40,
     "metadata": {},
     "output_type": "execute_result"
    }
   ],
   "source": [
    "pkmn.head()"
   ]
  },
  {
   "cell_type": "code",
   "execution_count": 41,
   "metadata": {
    "id": "LFDpCiTlI7Vz"
   },
   "outputs": [
    {
     "data": {
      "text/html": [
       "<div>\n",
       "<style scoped>\n",
       "    .dataframe tbody tr th:only-of-type {\n",
       "        vertical-align: middle;\n",
       "    }\n",
       "\n",
       "    .dataframe tbody tr th {\n",
       "        vertical-align: top;\n",
       "    }\n",
       "\n",
       "    .dataframe thead th {\n",
       "        text-align: right;\n",
       "    }\n",
       "</style>\n",
       "<table border=\"1\" class=\"dataframe\">\n",
       "  <thead>\n",
       "    <tr style=\"text-align: right;\">\n",
       "      <th></th>\n",
       "      <th>#</th>\n",
       "      <th>Name</th>\n",
       "      <th>Type 1</th>\n",
       "      <th>Type 2</th>\n",
       "      <th>Total</th>\n",
       "      <th>HP</th>\n",
       "      <th>Attack</th>\n",
       "      <th>Defense</th>\n",
       "      <th>Sp. Atk</th>\n",
       "      <th>Sp. Def</th>\n",
       "      <th>Speed</th>\n",
       "      <th>Generation</th>\n",
       "      <th>Legendary</th>\n",
       "    </tr>\n",
       "  </thead>\n",
       "  <tbody>\n",
       "    <tr>\n",
       "      <th>795</th>\n",
       "      <td>719</td>\n",
       "      <td>Diancie</td>\n",
       "      <td>Rock</td>\n",
       "      <td>Fairy</td>\n",
       "      <td>600</td>\n",
       "      <td>50</td>\n",
       "      <td>100</td>\n",
       "      <td>150</td>\n",
       "      <td>100</td>\n",
       "      <td>150</td>\n",
       "      <td>50</td>\n",
       "      <td>6</td>\n",
       "      <td>True</td>\n",
       "    </tr>\n",
       "    <tr>\n",
       "      <th>796</th>\n",
       "      <td>719</td>\n",
       "      <td>DiancieMega Diancie</td>\n",
       "      <td>Rock</td>\n",
       "      <td>Fairy</td>\n",
       "      <td>700</td>\n",
       "      <td>50</td>\n",
       "      <td>160</td>\n",
       "      <td>110</td>\n",
       "      <td>160</td>\n",
       "      <td>110</td>\n",
       "      <td>110</td>\n",
       "      <td>6</td>\n",
       "      <td>True</td>\n",
       "    </tr>\n",
       "    <tr>\n",
       "      <th>797</th>\n",
       "      <td>720</td>\n",
       "      <td>HoopaHoopa Confined</td>\n",
       "      <td>Psychic</td>\n",
       "      <td>Ghost</td>\n",
       "      <td>600</td>\n",
       "      <td>80</td>\n",
       "      <td>110</td>\n",
       "      <td>60</td>\n",
       "      <td>150</td>\n",
       "      <td>130</td>\n",
       "      <td>70</td>\n",
       "      <td>6</td>\n",
       "      <td>True</td>\n",
       "    </tr>\n",
       "    <tr>\n",
       "      <th>798</th>\n",
       "      <td>720</td>\n",
       "      <td>HoopaHoopa Unbound</td>\n",
       "      <td>Psychic</td>\n",
       "      <td>Dark</td>\n",
       "      <td>680</td>\n",
       "      <td>80</td>\n",
       "      <td>160</td>\n",
       "      <td>60</td>\n",
       "      <td>170</td>\n",
       "      <td>130</td>\n",
       "      <td>80</td>\n",
       "      <td>6</td>\n",
       "      <td>True</td>\n",
       "    </tr>\n",
       "    <tr>\n",
       "      <th>799</th>\n",
       "      <td>721</td>\n",
       "      <td>Volcanion</td>\n",
       "      <td>Fire</td>\n",
       "      <td>Water</td>\n",
       "      <td>600</td>\n",
       "      <td>80</td>\n",
       "      <td>110</td>\n",
       "      <td>120</td>\n",
       "      <td>130</td>\n",
       "      <td>90</td>\n",
       "      <td>70</td>\n",
       "      <td>6</td>\n",
       "      <td>True</td>\n",
       "    </tr>\n",
       "  </tbody>\n",
       "</table>\n",
       "</div>"
      ],
      "text/plain": [
       "       #                 Name   Type 1 Type 2  Total  HP  Attack  Defense  \\\n",
       "795  719              Diancie     Rock  Fairy    600  50     100      150   \n",
       "796  719  DiancieMega Diancie     Rock  Fairy    700  50     160      110   \n",
       "797  720  HoopaHoopa Confined  Psychic  Ghost    600  80     110       60   \n",
       "798  720   HoopaHoopa Unbound  Psychic   Dark    680  80     160       60   \n",
       "799  721            Volcanion     Fire  Water    600  80     110      120   \n",
       "\n",
       "     Sp. Atk  Sp. Def  Speed  Generation  Legendary  \n",
       "795      100      150     50           6       True  \n",
       "796      160      110    110           6       True  \n",
       "797      150      130     70           6       True  \n",
       "798      170      130     80           6       True  \n",
       "799      130       90     70           6       True  "
      ]
     },
     "execution_count": 41,
     "metadata": {},
     "output_type": "execute_result"
    }
   ],
   "source": [
    "pkmn.tail()"
   ]
  },
  {
   "cell_type": "markdown",
   "metadata": {
    "id": "3jMRnRWEI7V2"
   },
   "source": [
    "Os métodos *.head()* e *.tail()* mostram, respectivamente, as primeiras e últimas *n* linhas do *DataFrame* (por padrão, *n*=5, mas você pode passar qualquer número como parâmetro) mostrando os índices e os nomes das colunas como numa tabela."
   ]
  },
  {
   "cell_type": "code",
   "execution_count": 42,
   "metadata": {
    "id": "snLGHsfkI7V2"
   },
   "outputs": [
    {
     "data": {
      "text/html": [
       "<div>\n",
       "<style scoped>\n",
       "    .dataframe tbody tr th:only-of-type {\n",
       "        vertical-align: middle;\n",
       "    }\n",
       "\n",
       "    .dataframe tbody tr th {\n",
       "        vertical-align: top;\n",
       "    }\n",
       "\n",
       "    .dataframe thead th {\n",
       "        text-align: right;\n",
       "    }\n",
       "</style>\n",
       "<table border=\"1\" class=\"dataframe\">\n",
       "  <thead>\n",
       "    <tr style=\"text-align: right;\">\n",
       "      <th></th>\n",
       "      <th>#</th>\n",
       "      <th>Total</th>\n",
       "      <th>HP</th>\n",
       "      <th>Attack</th>\n",
       "      <th>Defense</th>\n",
       "      <th>Sp. Atk</th>\n",
       "      <th>Sp. Def</th>\n",
       "      <th>Speed</th>\n",
       "      <th>Generation</th>\n",
       "    </tr>\n",
       "  </thead>\n",
       "  <tbody>\n",
       "    <tr>\n",
       "      <th>count</th>\n",
       "      <td>800.000000</td>\n",
       "      <td>800.00000</td>\n",
       "      <td>800.000000</td>\n",
       "      <td>800.000000</td>\n",
       "      <td>800.000000</td>\n",
       "      <td>800.000000</td>\n",
       "      <td>800.000000</td>\n",
       "      <td>800.000000</td>\n",
       "      <td>800.00000</td>\n",
       "    </tr>\n",
       "    <tr>\n",
       "      <th>mean</th>\n",
       "      <td>362.813750</td>\n",
       "      <td>435.10250</td>\n",
       "      <td>69.258750</td>\n",
       "      <td>79.001250</td>\n",
       "      <td>73.842500</td>\n",
       "      <td>72.820000</td>\n",
       "      <td>71.902500</td>\n",
       "      <td>68.277500</td>\n",
       "      <td>3.32375</td>\n",
       "    </tr>\n",
       "    <tr>\n",
       "      <th>std</th>\n",
       "      <td>208.343798</td>\n",
       "      <td>119.96304</td>\n",
       "      <td>25.534669</td>\n",
       "      <td>32.457366</td>\n",
       "      <td>31.183501</td>\n",
       "      <td>32.722294</td>\n",
       "      <td>27.828916</td>\n",
       "      <td>29.060474</td>\n",
       "      <td>1.66129</td>\n",
       "    </tr>\n",
       "    <tr>\n",
       "      <th>min</th>\n",
       "      <td>1.000000</td>\n",
       "      <td>180.00000</td>\n",
       "      <td>1.000000</td>\n",
       "      <td>5.000000</td>\n",
       "      <td>5.000000</td>\n",
       "      <td>10.000000</td>\n",
       "      <td>20.000000</td>\n",
       "      <td>5.000000</td>\n",
       "      <td>1.00000</td>\n",
       "    </tr>\n",
       "    <tr>\n",
       "      <th>25%</th>\n",
       "      <td>184.750000</td>\n",
       "      <td>330.00000</td>\n",
       "      <td>50.000000</td>\n",
       "      <td>55.000000</td>\n",
       "      <td>50.000000</td>\n",
       "      <td>49.750000</td>\n",
       "      <td>50.000000</td>\n",
       "      <td>45.000000</td>\n",
       "      <td>2.00000</td>\n",
       "    </tr>\n",
       "    <tr>\n",
       "      <th>50%</th>\n",
       "      <td>364.500000</td>\n",
       "      <td>450.00000</td>\n",
       "      <td>65.000000</td>\n",
       "      <td>75.000000</td>\n",
       "      <td>70.000000</td>\n",
       "      <td>65.000000</td>\n",
       "      <td>70.000000</td>\n",
       "      <td>65.000000</td>\n",
       "      <td>3.00000</td>\n",
       "    </tr>\n",
       "    <tr>\n",
       "      <th>75%</th>\n",
       "      <td>539.250000</td>\n",
       "      <td>515.00000</td>\n",
       "      <td>80.000000</td>\n",
       "      <td>100.000000</td>\n",
       "      <td>90.000000</td>\n",
       "      <td>95.000000</td>\n",
       "      <td>90.000000</td>\n",
       "      <td>90.000000</td>\n",
       "      <td>5.00000</td>\n",
       "    </tr>\n",
       "    <tr>\n",
       "      <th>max</th>\n",
       "      <td>721.000000</td>\n",
       "      <td>780.00000</td>\n",
       "      <td>255.000000</td>\n",
       "      <td>190.000000</td>\n",
       "      <td>230.000000</td>\n",
       "      <td>194.000000</td>\n",
       "      <td>230.000000</td>\n",
       "      <td>180.000000</td>\n",
       "      <td>6.00000</td>\n",
       "    </tr>\n",
       "  </tbody>\n",
       "</table>\n",
       "</div>"
      ],
      "text/plain": [
       "                #      Total          HP      Attack     Defense     Sp. Atk  \\\n",
       "count  800.000000  800.00000  800.000000  800.000000  800.000000  800.000000   \n",
       "mean   362.813750  435.10250   69.258750   79.001250   73.842500   72.820000   \n",
       "std    208.343798  119.96304   25.534669   32.457366   31.183501   32.722294   \n",
       "min      1.000000  180.00000    1.000000    5.000000    5.000000   10.000000   \n",
       "25%    184.750000  330.00000   50.000000   55.000000   50.000000   49.750000   \n",
       "50%    364.500000  450.00000   65.000000   75.000000   70.000000   65.000000   \n",
       "75%    539.250000  515.00000   80.000000  100.000000   90.000000   95.000000   \n",
       "max    721.000000  780.00000  255.000000  190.000000  230.000000  194.000000   \n",
       "\n",
       "          Sp. Def       Speed  Generation  \n",
       "count  800.000000  800.000000   800.00000  \n",
       "mean    71.902500   68.277500     3.32375  \n",
       "std     27.828916   29.060474     1.66129  \n",
       "min     20.000000    5.000000     1.00000  \n",
       "25%     50.000000   45.000000     2.00000  \n",
       "50%     70.000000   65.000000     3.00000  \n",
       "75%     90.000000   90.000000     5.00000  \n",
       "max    230.000000  180.000000     6.00000  "
      ]
     },
     "execution_count": 42,
     "metadata": {},
     "output_type": "execute_result"
    }
   ],
   "source": [
    "pkmn.describe()"
   ]
  },
  {
   "cell_type": "markdown",
   "metadata": {
    "id": "F6pyg9YmI7V4"
   },
   "source": [
    "Por fim, o método *.describe()* na sua forma padrão mostra um resumo estatístico de todas as colunas numéricas. É um método bom para ter uma ideia inicial sobre o que ocorre nas colunas de uma perspectiva estatística.\n",
    "\n",
    "#### Exercício 3.1\n",
    "Use o arquivo de jogadores do FIFA Ultimate Team para os exercícios de Pandas. Caso você não conheça, o Ultimate Team (FUT) é um modo de jogo do FIFA (um jogo de simulador de futebol) onde você monta seu próprio time comprando jogadores do jogo. Cada jogador pode apresentar diferentes níveis de habilidade em algumas características, como \"drible\", \"chute\", \"passe\", entre outras.  <br>\n",
    "Substitua os \\____ abaixo para ler o arquivo e siga as instruções para ter as visualizações iniciais."
   ]
  },
  {
   "cell_type": "code",
   "execution_count": 43,
   "metadata": {
    "id": "K1xcUEs4I7V6"
   },
   "outputs": [
    {
     "data": {
      "text/html": [
       "<div>\n",
       "<style scoped>\n",
       "    .dataframe tbody tr th:only-of-type {\n",
       "        vertical-align: middle;\n",
       "    }\n",
       "\n",
       "    .dataframe tbody tr th {\n",
       "        vertical-align: top;\n",
       "    }\n",
       "\n",
       "    .dataframe thead th {\n",
       "        text-align: right;\n",
       "    }\n",
       "</style>\n",
       "<table border=\"1\" class=\"dataframe\">\n",
       "  <thead>\n",
       "    <tr style=\"text-align: right;\">\n",
       "      <th></th>\n",
       "      <th>player_id</th>\n",
       "      <th>player_name</th>\n",
       "      <th>player_extended_name</th>\n",
       "      <th>quality</th>\n",
       "      <th>revision</th>\n",
       "      <th>origin</th>\n",
       "      <th>overall</th>\n",
       "      <th>club</th>\n",
       "      <th>league</th>\n",
       "      <th>nationality</th>\n",
       "      <th>...</th>\n",
       "      <th>cam</th>\n",
       "      <th>cf</th>\n",
       "      <th>rf</th>\n",
       "      <th>lf</th>\n",
       "      <th>rw</th>\n",
       "      <th>lw</th>\n",
       "      <th>st</th>\n",
       "      <th>traits</th>\n",
       "      <th>specialities</th>\n",
       "      <th>base_id</th>\n",
       "    </tr>\n",
       "  </thead>\n",
       "  <tbody>\n",
       "    <tr>\n",
       "      <th>0</th>\n",
       "      <td>1</td>\n",
       "      <td>Pelé</td>\n",
       "      <td>Arantes Nascimento Edson</td>\n",
       "      <td>Gold - Rare</td>\n",
       "      <td>Icon</td>\n",
       "      <td>Prime</td>\n",
       "      <td>98</td>\n",
       "      <td>Icons</td>\n",
       "      <td>Icons</td>\n",
       "      <td>Brazil</td>\n",
       "      <td>...</td>\n",
       "      <td>96.0</td>\n",
       "      <td>96.0</td>\n",
       "      <td>96.0</td>\n",
       "      <td>96.0</td>\n",
       "      <td>96.0</td>\n",
       "      <td>96.0</td>\n",
       "      <td>95.0</td>\n",
       "      <td>Finesse Shot</td>\n",
       "      <td>Speedster, Aerial Threat, Dribbler, Play Maker...</td>\n",
       "      <td>237067</td>\n",
       "    </tr>\n",
       "    <tr>\n",
       "      <th>1</th>\n",
       "      <td>2</td>\n",
       "      <td>Maradona</td>\n",
       "      <td>Diego Maradona</td>\n",
       "      <td>Gold - Rare</td>\n",
       "      <td>Icon</td>\n",
       "      <td>Prime</td>\n",
       "      <td>97</td>\n",
       "      <td>Icons</td>\n",
       "      <td>Icons</td>\n",
       "      <td>Argentina</td>\n",
       "      <td>...</td>\n",
       "      <td>95.0</td>\n",
       "      <td>94.0</td>\n",
       "      <td>94.0</td>\n",
       "      <td>94.0</td>\n",
       "      <td>94.0</td>\n",
       "      <td>94.0</td>\n",
       "      <td>90.0</td>\n",
       "      <td>Avoids Using Weaker Foot, Finesse Shot, Flair,...</td>\n",
       "      <td>Speedster, Dribbler, Play Maker, Distance Shoo...</td>\n",
       "      <td>190042</td>\n",
       "    </tr>\n",
       "    <tr>\n",
       "      <th>2</th>\n",
       "      <td>3</td>\n",
       "      <td>Ronaldo</td>\n",
       "      <td>Nazário de Lima Ronaldo Luís</td>\n",
       "      <td>Gold - Rare</td>\n",
       "      <td>Icon</td>\n",
       "      <td>Prime</td>\n",
       "      <td>96</td>\n",
       "      <td>Icons</td>\n",
       "      <td>Icons</td>\n",
       "      <td>Brazil</td>\n",
       "      <td>...</td>\n",
       "      <td>91.0</td>\n",
       "      <td>94.0</td>\n",
       "      <td>94.0</td>\n",
       "      <td>94.0</td>\n",
       "      <td>92.0</td>\n",
       "      <td>92.0</td>\n",
       "      <td>94.0</td>\n",
       "      <td>Tries To Beat Defensive Line, Finesse Shot</td>\n",
       "      <td>Speedster, Dribbler, Distance Shooter, FK Spec...</td>\n",
       "      <td>37576</td>\n",
       "    </tr>\n",
       "    <tr>\n",
       "      <th>3</th>\n",
       "      <td>4</td>\n",
       "      <td>Pelé</td>\n",
       "      <td>Arantes Nascimento Edson</td>\n",
       "      <td>Gold - Rare</td>\n",
       "      <td>Icon</td>\n",
       "      <td>Medium</td>\n",
       "      <td>95</td>\n",
       "      <td>Icons</td>\n",
       "      <td>Icons</td>\n",
       "      <td>Brazil</td>\n",
       "      <td>...</td>\n",
       "      <td>93.0</td>\n",
       "      <td>94.0</td>\n",
       "      <td>94.0</td>\n",
       "      <td>94.0</td>\n",
       "      <td>94.0</td>\n",
       "      <td>94.0</td>\n",
       "      <td>92.0</td>\n",
       "      <td>Finesse Shot</td>\n",
       "      <td>Speedster, Dribbler, Distance Shooter, Crosser...</td>\n",
       "      <td>237068</td>\n",
       "    </tr>\n",
       "    <tr>\n",
       "      <th>4</th>\n",
       "      <td>5</td>\n",
       "      <td>Maradona</td>\n",
       "      <td>Diego Maradona</td>\n",
       "      <td>Gold - Rare</td>\n",
       "      <td>Icon</td>\n",
       "      <td>Medium</td>\n",
       "      <td>95</td>\n",
       "      <td>Icons</td>\n",
       "      <td>Icons</td>\n",
       "      <td>Argentina</td>\n",
       "      <td>...</td>\n",
       "      <td>93.0</td>\n",
       "      <td>92.0</td>\n",
       "      <td>92.0</td>\n",
       "      <td>92.0</td>\n",
       "      <td>92.0</td>\n",
       "      <td>92.0</td>\n",
       "      <td>88.0</td>\n",
       "      <td>Avoids Using Weaker Foot, Finesse Shot, Flair,...</td>\n",
       "      <td>Dribbler, Play Maker, Distance Shooter, Crosse...</td>\n",
       "      <td>237074</td>\n",
       "    </tr>\n",
       "    <tr>\n",
       "      <th>5</th>\n",
       "      <td>6</td>\n",
       "      <td>Maldini</td>\n",
       "      <td>Paolo Maldini</td>\n",
       "      <td>Gold - Rare</td>\n",
       "      <td>Icon</td>\n",
       "      <td>Prime</td>\n",
       "      <td>94</td>\n",
       "      <td>Icons</td>\n",
       "      <td>Icons</td>\n",
       "      <td>Italy</td>\n",
       "      <td>...</td>\n",
       "      <td>70.0</td>\n",
       "      <td>68.0</td>\n",
       "      <td>68.0</td>\n",
       "      <td>68.0</td>\n",
       "      <td>69.0</td>\n",
       "      <td>69.0</td>\n",
       "      <td>70.0</td>\n",
       "      <td>Team Player</td>\n",
       "      <td>Aerial Threat, Tackler, Tactician, Complete De...</td>\n",
       "      <td>238439</td>\n",
       "    </tr>\n",
       "    <tr>\n",
       "      <th>6</th>\n",
       "      <td>7</td>\n",
       "      <td>Ronaldo</td>\n",
       "      <td>Nazário de Lima Ronaldo Luís</td>\n",
       "      <td>Gold - Rare</td>\n",
       "      <td>Icon</td>\n",
       "      <td>Medium</td>\n",
       "      <td>94</td>\n",
       "      <td>Icons</td>\n",
       "      <td>Icons</td>\n",
       "      <td>Brazil</td>\n",
       "      <td>...</td>\n",
       "      <td>90.0</td>\n",
       "      <td>92.0</td>\n",
       "      <td>92.0</td>\n",
       "      <td>92.0</td>\n",
       "      <td>91.0</td>\n",
       "      <td>91.0</td>\n",
       "      <td>92.0</td>\n",
       "      <td>Finesse Shot</td>\n",
       "      <td>Speedster, Dribbler, Distance Shooter, FK Spec...</td>\n",
       "      <td>237064</td>\n",
       "    </tr>\n",
       "    <tr>\n",
       "      <th>7</th>\n",
       "      <td>8</td>\n",
       "      <td>Yashin</td>\n",
       "      <td>Lev Yashin</td>\n",
       "      <td>Gold - Rare</td>\n",
       "      <td>Icon</td>\n",
       "      <td>Prime</td>\n",
       "      <td>94</td>\n",
       "      <td>Icons</td>\n",
       "      <td>Icons</td>\n",
       "      <td>Russia</td>\n",
       "      <td>...</td>\n",
       "      <td>NaN</td>\n",
       "      <td>NaN</td>\n",
       "      <td>NaN</td>\n",
       "      <td>NaN</td>\n",
       "      <td>NaN</td>\n",
       "      <td>NaN</td>\n",
       "      <td>NaN</td>\n",
       "      <td>Puncher, Team Player</td>\n",
       "      <td>NaN</td>\n",
       "      <td>238380</td>\n",
       "    </tr>\n",
       "    <tr>\n",
       "      <th>8</th>\n",
       "      <td>9</td>\n",
       "      <td>Ronaldinho</td>\n",
       "      <td>de Assis Moreira Ronaldo</td>\n",
       "      <td>Gold - Rare</td>\n",
       "      <td>Icon</td>\n",
       "      <td>Prime</td>\n",
       "      <td>94</td>\n",
       "      <td>Icons</td>\n",
       "      <td>Icons</td>\n",
       "      <td>Brazil</td>\n",
       "      <td>...</td>\n",
       "      <td>93.0</td>\n",
       "      <td>92.0</td>\n",
       "      <td>92.0</td>\n",
       "      <td>92.0</td>\n",
       "      <td>93.0</td>\n",
       "      <td>93.0</td>\n",
       "      <td>88.0</td>\n",
       "      <td>Finesse Shot, Flair</td>\n",
       "      <td>Speedster, Dribbler, Distance Shooter, Crosser...</td>\n",
       "      <td>28130</td>\n",
       "    </tr>\n",
       "    <tr>\n",
       "      <th>9</th>\n",
       "      <td>10</td>\n",
       "      <td>Van Basten</td>\n",
       "      <td>Marco van Basten</td>\n",
       "      <td>Gold - Rare</td>\n",
       "      <td>Icon</td>\n",
       "      <td>Prime</td>\n",
       "      <td>93</td>\n",
       "      <td>Icons</td>\n",
       "      <td>Icons</td>\n",
       "      <td>Holland</td>\n",
       "      <td>...</td>\n",
       "      <td>86.0</td>\n",
       "      <td>90.0</td>\n",
       "      <td>90.0</td>\n",
       "      <td>90.0</td>\n",
       "      <td>87.0</td>\n",
       "      <td>87.0</td>\n",
       "      <td>92.0</td>\n",
       "      <td>Finesse Shot, Team Player</td>\n",
       "      <td>Aerial Threat, Distance Shooter, Acrobat, Clin...</td>\n",
       "      <td>192181</td>\n",
       "    </tr>\n",
       "  </tbody>\n",
       "</table>\n",
       "<p>10 rows × 82 columns</p>\n",
       "</div>"
      ],
      "text/plain": [
       "   player_id player_name          player_extended_name      quality revision  \\\n",
       "0          1        Pelé      Arantes Nascimento Edson  Gold - Rare     Icon   \n",
       "1          2    Maradona                Diego Maradona  Gold - Rare     Icon   \n",
       "2          3     Ronaldo  Nazário de Lima Ronaldo Luís  Gold - Rare     Icon   \n",
       "3          4        Pelé      Arantes Nascimento Edson  Gold - Rare     Icon   \n",
       "4          5    Maradona                Diego Maradona  Gold - Rare     Icon   \n",
       "5          6     Maldini                 Paolo Maldini  Gold - Rare     Icon   \n",
       "6          7     Ronaldo  Nazário de Lima Ronaldo Luís  Gold - Rare     Icon   \n",
       "7          8      Yashin                    Lev Yashin  Gold - Rare     Icon   \n",
       "8          9  Ronaldinho      de Assis Moreira Ronaldo  Gold - Rare     Icon   \n",
       "9         10  Van Basten              Marco van Basten  Gold - Rare     Icon   \n",
       "\n",
       "   origin  overall   club league nationality  ...   cam    cf    rf    lf  \\\n",
       "0   Prime       98  Icons  Icons      Brazil  ...  96.0  96.0  96.0  96.0   \n",
       "1   Prime       97  Icons  Icons   Argentina  ...  95.0  94.0  94.0  94.0   \n",
       "2   Prime       96  Icons  Icons      Brazil  ...  91.0  94.0  94.0  94.0   \n",
       "3  Medium       95  Icons  Icons      Brazil  ...  93.0  94.0  94.0  94.0   \n",
       "4  Medium       95  Icons  Icons   Argentina  ...  93.0  92.0  92.0  92.0   \n",
       "5   Prime       94  Icons  Icons       Italy  ...  70.0  68.0  68.0  68.0   \n",
       "6  Medium       94  Icons  Icons      Brazil  ...  90.0  92.0  92.0  92.0   \n",
       "7   Prime       94  Icons  Icons      Russia  ...   NaN   NaN   NaN   NaN   \n",
       "8   Prime       94  Icons  Icons      Brazil  ...  93.0  92.0  92.0  92.0   \n",
       "9   Prime       93  Icons  Icons     Holland  ...  86.0  90.0  90.0  90.0   \n",
       "\n",
       "     rw    lw    st                                             traits  \\\n",
       "0  96.0  96.0  95.0                                       Finesse Shot   \n",
       "1  94.0  94.0  90.0  Avoids Using Weaker Foot, Finesse Shot, Flair,...   \n",
       "2  92.0  92.0  94.0         Tries To Beat Defensive Line, Finesse Shot   \n",
       "3  94.0  94.0  92.0                                       Finesse Shot   \n",
       "4  92.0  92.0  88.0  Avoids Using Weaker Foot, Finesse Shot, Flair,...   \n",
       "5  69.0  69.0  70.0                                        Team Player   \n",
       "6  91.0  91.0  92.0                                       Finesse Shot   \n",
       "7   NaN   NaN   NaN                               Puncher, Team Player   \n",
       "8  93.0  93.0  88.0                                Finesse Shot, Flair   \n",
       "9  87.0  87.0  92.0                          Finesse Shot, Team Player   \n",
       "\n",
       "                                        specialities  base_id  \n",
       "0  Speedster, Aerial Threat, Dribbler, Play Maker...   237067  \n",
       "1  Speedster, Dribbler, Play Maker, Distance Shoo...   190042  \n",
       "2  Speedster, Dribbler, Distance Shooter, FK Spec...    37576  \n",
       "3  Speedster, Dribbler, Distance Shooter, Crosser...   237068  \n",
       "4  Dribbler, Play Maker, Distance Shooter, Crosse...   237074  \n",
       "5  Aerial Threat, Tackler, Tactician, Complete De...   238439  \n",
       "6  Speedster, Dribbler, Distance Shooter, FK Spec...   237064  \n",
       "7                                                NaN   238380  \n",
       "8  Speedster, Dribbler, Distance Shooter, Crosser...    28130  \n",
       "9  Aerial Threat, Distance Shooter, Acrobat, Clin...   192181  \n",
       "\n",
       "[10 rows x 82 columns]"
      ]
     },
     "execution_count": 43,
     "metadata": {},
     "output_type": "execute_result"
    }
   ],
   "source": [
    "# Exercício 3.1.1\n",
    "# leia o arquivo (tente abrir num editor de texto antes para verificar o separador)\n",
    "fut_players = pd.read_csv(\n",
    "    'fut_players_data.csv', #o caminho para o arquivo que se quer ler\n",
    "    sep=',') #o caracter utilizado para separar os valores   fut_players_data\n",
    "\n",
    "# mostre as primeiras 10 linhas de dados\n",
    "fut_players.head(10)\n",
    "\n"
   ]
  },
  {
   "cell_type": "code",
   "execution_count": 44,
   "metadata": {
    "id": "nH2ejCchI7V8"
   },
   "outputs": [
    {
     "data": {
      "text/html": [
       "<div>\n",
       "<style scoped>\n",
       "    .dataframe tbody tr th:only-of-type {\n",
       "        vertical-align: middle;\n",
       "    }\n",
       "\n",
       "    .dataframe tbody tr th {\n",
       "        vertical-align: top;\n",
       "    }\n",
       "\n",
       "    .dataframe thead th {\n",
       "        text-align: right;\n",
       "    }\n",
       "</style>\n",
       "<table border=\"1\" class=\"dataframe\">\n",
       "  <thead>\n",
       "    <tr style=\"text-align: right;\">\n",
       "      <th></th>\n",
       "      <th>player_id</th>\n",
       "      <th>player_name</th>\n",
       "      <th>player_extended_name</th>\n",
       "      <th>quality</th>\n",
       "      <th>revision</th>\n",
       "      <th>origin</th>\n",
       "      <th>overall</th>\n",
       "      <th>club</th>\n",
       "      <th>league</th>\n",
       "      <th>nationality</th>\n",
       "      <th>...</th>\n",
       "      <th>cam</th>\n",
       "      <th>cf</th>\n",
       "      <th>rf</th>\n",
       "      <th>lf</th>\n",
       "      <th>rw</th>\n",
       "      <th>lw</th>\n",
       "      <th>st</th>\n",
       "      <th>traits</th>\n",
       "      <th>specialities</th>\n",
       "      <th>base_id</th>\n",
       "    </tr>\n",
       "  </thead>\n",
       "  <tbody>\n",
       "    <tr>\n",
       "      <th>18821</th>\n",
       "      <td>19298</td>\n",
       "      <td>Angol</td>\n",
       "      <td>Lee Angol</td>\n",
       "      <td>Bronze - Rare</td>\n",
       "      <td>Normal</td>\n",
       "      <td>Transfers</td>\n",
       "      <td>63</td>\n",
       "      <td>Lincoln City</td>\n",
       "      <td>EFL League Two</td>\n",
       "      <td>England</td>\n",
       "      <td>...</td>\n",
       "      <td>60.0</td>\n",
       "      <td>61.0</td>\n",
       "      <td>61.0</td>\n",
       "      <td>61.0</td>\n",
       "      <td>61.0</td>\n",
       "      <td>61.0</td>\n",
       "      <td>62.0</td>\n",
       "      <td>Finesse Shot, Flair</td>\n",
       "      <td>NaN</td>\n",
       "      <td>210244</td>\n",
       "    </tr>\n",
       "    <tr>\n",
       "      <th>18822</th>\n",
       "      <td>19299</td>\n",
       "      <td>Mendoza Hansen</td>\n",
       "      <td>Kevin Ray Mendoza Hansen</td>\n",
       "      <td>Bronze</td>\n",
       "      <td>Normal</td>\n",
       "      <td>NaN</td>\n",
       "      <td>55</td>\n",
       "      <td>AC Horsens</td>\n",
       "      <td>Superliga</td>\n",
       "      <td>Philippines</td>\n",
       "      <td>...</td>\n",
       "      <td>NaN</td>\n",
       "      <td>NaN</td>\n",
       "      <td>NaN</td>\n",
       "      <td>NaN</td>\n",
       "      <td>NaN</td>\n",
       "      <td>NaN</td>\n",
       "      <td>NaN</td>\n",
       "      <td>NaN</td>\n",
       "      <td>NaN</td>\n",
       "      <td>215656</td>\n",
       "    </tr>\n",
       "    <tr>\n",
       "      <th>18823</th>\n",
       "      <td>19300</td>\n",
       "      <td>Piossek</td>\n",
       "      <td>Marcus Piossek</td>\n",
       "      <td>Silver</td>\n",
       "      <td>Normal</td>\n",
       "      <td>Transfers</td>\n",
       "      <td>66</td>\n",
       "      <td>SV Meppen</td>\n",
       "      <td>3. Liga</td>\n",
       "      <td>Poland</td>\n",
       "      <td>...</td>\n",
       "      <td>65.0</td>\n",
       "      <td>65.0</td>\n",
       "      <td>65.0</td>\n",
       "      <td>65.0</td>\n",
       "      <td>65.0</td>\n",
       "      <td>65.0</td>\n",
       "      <td>64.0</td>\n",
       "      <td>NaN</td>\n",
       "      <td>NaN</td>\n",
       "      <td>197148</td>\n",
       "    </tr>\n",
       "    <tr>\n",
       "      <th>18824</th>\n",
       "      <td>19301</td>\n",
       "      <td>Bingham</td>\n",
       "      <td>Rakish Bingham</td>\n",
       "      <td>Bronze</td>\n",
       "      <td>Normal</td>\n",
       "      <td>Transfers</td>\n",
       "      <td>62</td>\n",
       "      <td>Cheltenham Town</td>\n",
       "      <td>EFL League Two</td>\n",
       "      <td>England</td>\n",
       "      <td>...</td>\n",
       "      <td>58.0</td>\n",
       "      <td>60.0</td>\n",
       "      <td>60.0</td>\n",
       "      <td>60.0</td>\n",
       "      <td>60.0</td>\n",
       "      <td>60.0</td>\n",
       "      <td>61.0</td>\n",
       "      <td>NaN</td>\n",
       "      <td>NaN</td>\n",
       "      <td>209462</td>\n",
       "    </tr>\n",
       "    <tr>\n",
       "      <th>18825</th>\n",
       "      <td>19302</td>\n",
       "      <td>Gibson</td>\n",
       "      <td>Jordan Gibson</td>\n",
       "      <td>Bronze</td>\n",
       "      <td>Normal</td>\n",
       "      <td>Transfers</td>\n",
       "      <td>51</td>\n",
       "      <td>Stevenage</td>\n",
       "      <td>EFL League Two</td>\n",
       "      <td>England</td>\n",
       "      <td>...</td>\n",
       "      <td>48.0</td>\n",
       "      <td>50.0</td>\n",
       "      <td>50.0</td>\n",
       "      <td>50.0</td>\n",
       "      <td>51.0</td>\n",
       "      <td>51.0</td>\n",
       "      <td>50.0</td>\n",
       "      <td>NaN</td>\n",
       "      <td>NaN</td>\n",
       "      <td>240813</td>\n",
       "    </tr>\n",
       "    <tr>\n",
       "      <th>18826</th>\n",
       "      <td>19303</td>\n",
       "      <td>Shala</td>\n",
       "      <td>Herolind Shala</td>\n",
       "      <td>Silver</td>\n",
       "      <td>Normal</td>\n",
       "      <td>NaN</td>\n",
       "      <td>65</td>\n",
       "      <td>IK Start</td>\n",
       "      <td>Eliteserien</td>\n",
       "      <td>Norway</td>\n",
       "      <td>...</td>\n",
       "      <td>67.0</td>\n",
       "      <td>66.0</td>\n",
       "      <td>66.0</td>\n",
       "      <td>66.0</td>\n",
       "      <td>67.0</td>\n",
       "      <td>67.0</td>\n",
       "      <td>63.0</td>\n",
       "      <td>Speed Dribbler (CPU AI Only)</td>\n",
       "      <td>NaN</td>\n",
       "      <td>205423</td>\n",
       "    </tr>\n",
       "    <tr>\n",
       "      <th>18827</th>\n",
       "      <td>19304</td>\n",
       "      <td>Boyer</td>\n",
       "      <td>Fabien Boyer</td>\n",
       "      <td>Silver</td>\n",
       "      <td>Normal</td>\n",
       "      <td>NaN</td>\n",
       "      <td>65</td>\n",
       "      <td>Grenoble Foot 38</td>\n",
       "      <td>Domino’s Ligue 2</td>\n",
       "      <td>Madagascar</td>\n",
       "      <td>...</td>\n",
       "      <td>46.0</td>\n",
       "      <td>46.0</td>\n",
       "      <td>46.0</td>\n",
       "      <td>46.0</td>\n",
       "      <td>48.0</td>\n",
       "      <td>48.0</td>\n",
       "      <td>48.0</td>\n",
       "      <td>Injury Prone</td>\n",
       "      <td>NaN</td>\n",
       "      <td>208832</td>\n",
       "    </tr>\n",
       "    <tr>\n",
       "      <th>18828</th>\n",
       "      <td>19305</td>\n",
       "      <td>Arias</td>\n",
       "      <td>Jafar Arias</td>\n",
       "      <td>Silver</td>\n",
       "      <td>Normal</td>\n",
       "      <td>NaN</td>\n",
       "      <td>65</td>\n",
       "      <td>FC Emmen</td>\n",
       "      <td>Eredivisie</td>\n",
       "      <td>Curaçao</td>\n",
       "      <td>...</td>\n",
       "      <td>57.0</td>\n",
       "      <td>60.0</td>\n",
       "      <td>60.0</td>\n",
       "      <td>60.0</td>\n",
       "      <td>57.0</td>\n",
       "      <td>57.0</td>\n",
       "      <td>64.0</td>\n",
       "      <td>NaN</td>\n",
       "      <td>NaN</td>\n",
       "      <td>226122</td>\n",
       "    </tr>\n",
       "    <tr>\n",
       "      <th>18829</th>\n",
       "      <td>19306</td>\n",
       "      <td>Moses Ekpai</td>\n",
       "      <td>Ubong Moses Ekpai</td>\n",
       "      <td>Bronze</td>\n",
       "      <td>Normal</td>\n",
       "      <td>NaN</td>\n",
       "      <td>62</td>\n",
       "      <td>Viktoria Plzeň</td>\n",
       "      <td>Česká Liga</td>\n",
       "      <td>Nigeria</td>\n",
       "      <td>...</td>\n",
       "      <td>60.0</td>\n",
       "      <td>63.0</td>\n",
       "      <td>63.0</td>\n",
       "      <td>63.0</td>\n",
       "      <td>62.0</td>\n",
       "      <td>62.0</td>\n",
       "      <td>62.0</td>\n",
       "      <td>NaN</td>\n",
       "      <td>NaN</td>\n",
       "      <td>244790</td>\n",
       "    </tr>\n",
       "    <tr>\n",
       "      <th>18830</th>\n",
       "      <td>19307</td>\n",
       "      <td>Diallo</td>\n",
       "      <td>Amadou Tidiane Diallo</td>\n",
       "      <td>Bronze</td>\n",
       "      <td>Normal</td>\n",
       "      <td>NaN</td>\n",
       "      <td>60</td>\n",
       "      <td>Red Star FC</td>\n",
       "      <td>Domino’s Ligue 2</td>\n",
       "      <td>Guinea</td>\n",
       "      <td>...</td>\n",
       "      <td>58.0</td>\n",
       "      <td>58.0</td>\n",
       "      <td>58.0</td>\n",
       "      <td>58.0</td>\n",
       "      <td>59.0</td>\n",
       "      <td>59.0</td>\n",
       "      <td>57.0</td>\n",
       "      <td>NaN</td>\n",
       "      <td>NaN</td>\n",
       "      <td>233902</td>\n",
       "    </tr>\n",
       "  </tbody>\n",
       "</table>\n",
       "<p>10 rows × 82 columns</p>\n",
       "</div>"
      ],
      "text/plain": [
       "       player_id     player_name      player_extended_name        quality  \\\n",
       "18821      19298           Angol                 Lee Angol  Bronze - Rare   \n",
       "18822      19299  Mendoza Hansen  Kevin Ray Mendoza Hansen         Bronze   \n",
       "18823      19300         Piossek            Marcus Piossek         Silver   \n",
       "18824      19301         Bingham            Rakish Bingham         Bronze   \n",
       "18825      19302          Gibson             Jordan Gibson         Bronze   \n",
       "18826      19303           Shala            Herolind Shala         Silver   \n",
       "18827      19304           Boyer              Fabien Boyer         Silver   \n",
       "18828      19305           Arias               Jafar Arias         Silver   \n",
       "18829      19306     Moses Ekpai         Ubong Moses Ekpai         Bronze   \n",
       "18830      19307          Diallo     Amadou Tidiane Diallo         Bronze   \n",
       "\n",
       "      revision     origin  overall              club            league  \\\n",
       "18821   Normal  Transfers       63      Lincoln City    EFL League Two   \n",
       "18822   Normal        NaN       55        AC Horsens         Superliga   \n",
       "18823   Normal  Transfers       66         SV Meppen           3. Liga   \n",
       "18824   Normal  Transfers       62   Cheltenham Town    EFL League Two   \n",
       "18825   Normal  Transfers       51         Stevenage    EFL League Two   \n",
       "18826   Normal        NaN       65          IK Start       Eliteserien   \n",
       "18827   Normal        NaN       65  Grenoble Foot 38  Domino’s Ligue 2   \n",
       "18828   Normal        NaN       65          FC Emmen        Eredivisie   \n",
       "18829   Normal        NaN       62    Viktoria Plzeň        Česká Liga   \n",
       "18830   Normal        NaN       60       Red Star FC  Domino’s Ligue 2   \n",
       "\n",
       "       nationality  ...   cam    cf    rf    lf    rw    lw    st  \\\n",
       "18821      England  ...  60.0  61.0  61.0  61.0  61.0  61.0  62.0   \n",
       "18822  Philippines  ...   NaN   NaN   NaN   NaN   NaN   NaN   NaN   \n",
       "18823       Poland  ...  65.0  65.0  65.0  65.0  65.0  65.0  64.0   \n",
       "18824      England  ...  58.0  60.0  60.0  60.0  60.0  60.0  61.0   \n",
       "18825      England  ...  48.0  50.0  50.0  50.0  51.0  51.0  50.0   \n",
       "18826       Norway  ...  67.0  66.0  66.0  66.0  67.0  67.0  63.0   \n",
       "18827   Madagascar  ...  46.0  46.0  46.0  46.0  48.0  48.0  48.0   \n",
       "18828      Curaçao  ...  57.0  60.0  60.0  60.0  57.0  57.0  64.0   \n",
       "18829      Nigeria  ...  60.0  63.0  63.0  63.0  62.0  62.0  62.0   \n",
       "18830       Guinea  ...  58.0  58.0  58.0  58.0  59.0  59.0  57.0   \n",
       "\n",
       "                             traits  specialities  base_id  \n",
       "18821           Finesse Shot, Flair           NaN   210244  \n",
       "18822                           NaN           NaN   215656  \n",
       "18823                           NaN           NaN   197148  \n",
       "18824                           NaN           NaN   209462  \n",
       "18825                           NaN           NaN   240813  \n",
       "18826  Speed Dribbler (CPU AI Only)           NaN   205423  \n",
       "18827                  Injury Prone           NaN   208832  \n",
       "18828                           NaN           NaN   226122  \n",
       "18829                           NaN           NaN   244790  \n",
       "18830                           NaN           NaN   233902  \n",
       "\n",
       "[10 rows x 82 columns]"
      ]
     },
     "execution_count": 44,
     "metadata": {},
     "output_type": "execute_result"
    }
   ],
   "source": [
    "# Exercício 3.1.2\n",
    "# mostre as últimas 10 linhas de dados\n",
    "fut_players.tail(10)"
   ]
  },
  {
   "cell_type": "code",
   "execution_count": 45,
   "metadata": {
    "id": "nel6P37gI7V-"
   },
   "outputs": [
    {
     "name": "stdout",
     "output_type": "stream",
     "text": [
      "<class 'pandas.core.frame.DataFrame'>\n",
      "RangeIndex: 18831 entries, 0 to 18830\n",
      "Data columns (total 82 columns):\n",
      " #   Column                Non-Null Count  Dtype  \n",
      "---  ------                --------------  -----  \n",
      " 0   player_id             18831 non-null  int64  \n",
      " 1   player_name           18831 non-null  object \n",
      " 2   player_extended_name  18831 non-null  object \n",
      " 3   quality               18831 non-null  object \n",
      " 4   revision              18826 non-null  object \n",
      " 5   origin                2478 non-null   object \n",
      " 6   overall               18831 non-null  int64  \n",
      " 7   club                  18831 non-null  object \n",
      " 8   league                18831 non-null  object \n",
      " 9   nationality           18831 non-null  object \n",
      " 10  position              18831 non-null  object \n",
      " 11  age                   18831 non-null  int64  \n",
      " 12  date_of_birth         18831 non-null  object \n",
      " 13  height                18831 non-null  int64  \n",
      " 14  weight                18831 non-null  int64  \n",
      " 15  intl_rep              18831 non-null  int64  \n",
      " 16  added_date            18831 non-null  object \n",
      " 17  pace                  16882 non-null  float64\n",
      " 18  pace_acceleration     18831 non-null  int64  \n",
      " 19  pace_sprint_speed     18831 non-null  int64  \n",
      " 20  dribbling             16882 non-null  float64\n",
      " 21  drib_agility          18831 non-null  int64  \n",
      " 22  drib_balance          18831 non-null  int64  \n",
      " 23  drib_reactions        18831 non-null  int64  \n",
      " 24  drib_ball_control     18831 non-null  int64  \n",
      " 25  drib_dribbling        18831 non-null  int64  \n",
      " 26  drib_composure        18831 non-null  int64  \n",
      " 27  shooting              16882 non-null  float64\n",
      " 28  shoot_positioning     18831 non-null  int64  \n",
      " 29  shoot_finishing       18831 non-null  int64  \n",
      " 30  shoot_shot_power      18831 non-null  int64  \n",
      " 31  shoot_long_shots      18831 non-null  int64  \n",
      " 32  shoot_volleys         18831 non-null  int64  \n",
      " 33  shoot_penalties       18831 non-null  int64  \n",
      " 34  passing               16882 non-null  float64\n",
      " 35  pass_vision           18831 non-null  int64  \n",
      " 36  pass_crossing         18831 non-null  int64  \n",
      " 37  pass_free_kick        18831 non-null  int64  \n",
      " 38  pass_short            18831 non-null  int64  \n",
      " 39  pass_long             18831 non-null  int64  \n",
      " 40  pass_curve            18831 non-null  int64  \n",
      " 41  defending             16882 non-null  float64\n",
      " 42  def_interceptions     18831 non-null  int64  \n",
      " 43  def_heading           18831 non-null  int64  \n",
      " 44  def_marking           18831 non-null  int64  \n",
      " 45  def_stand_tackle      18831 non-null  int64  \n",
      " 46  def_slid_tackle       18831 non-null  int64  \n",
      " 47  physicality           16882 non-null  float64\n",
      " 48  phys_jumping          18831 non-null  int64  \n",
      " 49  phys_stamina          18831 non-null  int64  \n",
      " 50  phys_strength         18831 non-null  int64  \n",
      " 51  phys_aggression       18831 non-null  int64  \n",
      " 52  gk_diving             1949 non-null   float64\n",
      " 53  gk_reflexes           1949 non-null   float64\n",
      " 54  gk_handling           1949 non-null   float64\n",
      " 55  gk_speed              1949 non-null   float64\n",
      " 56  gk_kicking            1949 non-null   float64\n",
      " 57  gk_positoning         1949 non-null   float64\n",
      " 58  pref_foot             18831 non-null  object \n",
      " 59  att_workrate          18831 non-null  object \n",
      " 60  def_workrate          18831 non-null  object \n",
      " 61  weak_foot             18831 non-null  int64  \n",
      " 62  skill_moves           18831 non-null  int64  \n",
      " 63  cb                    16882 non-null  float64\n",
      " 64  rb                    16882 non-null  float64\n",
      " 65  lb                    16882 non-null  float64\n",
      " 66  rwb                   16882 non-null  float64\n",
      " 67  lwb                   16882 non-null  float64\n",
      " 68  cdm                   16882 non-null  float64\n",
      " 69  cm                    16882 non-null  float64\n",
      " 70  rm                    16882 non-null  float64\n",
      " 71  lm                    16882 non-null  float64\n",
      " 72  cam                   16882 non-null  float64\n",
      " 73  cf                    16882 non-null  float64\n",
      " 74  rf                    16882 non-null  float64\n",
      " 75  lf                    16882 non-null  float64\n",
      " 76  rw                    16882 non-null  float64\n",
      " 77  lw                    16882 non-null  float64\n",
      " 78  st                    16882 non-null  float64\n",
      " 79  traits                7151 non-null   object \n",
      " 80  specialities          2380 non-null   object \n",
      " 81  base_id               18831 non-null  int64  \n",
      "dtypes: float64(28), int64(38), object(16)\n",
      "memory usage: 11.8+ MB\n"
     ]
    }
   ],
   "source": [
    "# Exercício 3.1.3\n",
    "# use o método .info() no DataFrame\n",
    "fut_players.info()"
   ]
  },
  {
   "cell_type": "code",
   "execution_count": 46,
   "metadata": {
    "id": "YgWsp0FAI7WA"
   },
   "outputs": [
    {
     "data": {
      "text/html": [
       "<div>\n",
       "<style scoped>\n",
       "    .dataframe tbody tr th:only-of-type {\n",
       "        vertical-align: middle;\n",
       "    }\n",
       "\n",
       "    .dataframe tbody tr th {\n",
       "        vertical-align: top;\n",
       "    }\n",
       "\n",
       "    .dataframe thead th {\n",
       "        text-align: right;\n",
       "    }\n",
       "</style>\n",
       "<table border=\"1\" class=\"dataframe\">\n",
       "  <thead>\n",
       "    <tr style=\"text-align: right;\">\n",
       "      <th></th>\n",
       "      <th>player_id</th>\n",
       "      <th>overall</th>\n",
       "      <th>age</th>\n",
       "      <th>height</th>\n",
       "      <th>weight</th>\n",
       "      <th>intl_rep</th>\n",
       "      <th>pace</th>\n",
       "      <th>pace_acceleration</th>\n",
       "      <th>pace_sprint_speed</th>\n",
       "      <th>dribbling</th>\n",
       "      <th>...</th>\n",
       "      <th>rm</th>\n",
       "      <th>lm</th>\n",
       "      <th>cam</th>\n",
       "      <th>cf</th>\n",
       "      <th>rf</th>\n",
       "      <th>lf</th>\n",
       "      <th>rw</th>\n",
       "      <th>lw</th>\n",
       "      <th>st</th>\n",
       "      <th>base_id</th>\n",
       "    </tr>\n",
       "  </thead>\n",
       "  <tbody>\n",
       "    <tr>\n",
       "      <th>count</th>\n",
       "      <td>18831.000000</td>\n",
       "      <td>18831.000000</td>\n",
       "      <td>18831.000000</td>\n",
       "      <td>18831.000000</td>\n",
       "      <td>18831.000000</td>\n",
       "      <td>18831.000000</td>\n",
       "      <td>16882.000000</td>\n",
       "      <td>18831.000000</td>\n",
       "      <td>18831.000000</td>\n",
       "      <td>16882.000000</td>\n",
       "      <td>...</td>\n",
       "      <td>16882.000000</td>\n",
       "      <td>16882.000000</td>\n",
       "      <td>16882.000000</td>\n",
       "      <td>16882.000000</td>\n",
       "      <td>16882.000000</td>\n",
       "      <td>16882.000000</td>\n",
       "      <td>16882.000000</td>\n",
       "      <td>16882.000000</td>\n",
       "      <td>16882.000000</td>\n",
       "      <td>18831.000000</td>\n",
       "    </tr>\n",
       "    <tr>\n",
       "      <th>mean</th>\n",
       "      <td>9724.997663</td>\n",
       "      <td>68.200839</td>\n",
       "      <td>26.364027</td>\n",
       "      <td>181.413202</td>\n",
       "      <td>75.565929</td>\n",
       "      <td>1.172269</td>\n",
       "      <td>69.072859</td>\n",
       "      <td>65.947427</td>\n",
       "      <td>66.106580</td>\n",
       "      <td>64.323540</td>\n",
       "      <td>...</td>\n",
       "      <td>62.166746</td>\n",
       "      <td>62.166746</td>\n",
       "      <td>61.509774</td>\n",
       "      <td>61.252517</td>\n",
       "      <td>61.252517</td>\n",
       "      <td>61.252517</td>\n",
       "      <td>61.511314</td>\n",
       "      <td>61.511314</td>\n",
       "      <td>60.297832</td>\n",
       "      <td>209831.137114</td>\n",
       "    </tr>\n",
       "    <tr>\n",
       "      <th>std</th>\n",
       "      <td>5592.051018</td>\n",
       "      <td>8.143145</td>\n",
       "      <td>5.223632</td>\n",
       "      <td>6.778249</td>\n",
       "      <td>7.096437</td>\n",
       "      <td>0.587855</td>\n",
       "      <td>11.909037</td>\n",
       "      <td>15.120939</td>\n",
       "      <td>14.851889</td>\n",
       "      <td>10.906452</td>\n",
       "      <td>...</td>\n",
       "      <td>10.206237</td>\n",
       "      <td>10.206237</td>\n",
       "      <td>10.760257</td>\n",
       "      <td>10.901557</td>\n",
       "      <td>10.901557</td>\n",
       "      <td>10.901557</td>\n",
       "      <td>10.866396</td>\n",
       "      <td>10.866396</td>\n",
       "      <td>10.213289</td>\n",
       "      <td>31943.691550</td>\n",
       "    </tr>\n",
       "    <tr>\n",
       "      <th>min</th>\n",
       "      <td>1.000000</td>\n",
       "      <td>47.000000</td>\n",
       "      <td>17.000000</td>\n",
       "      <td>155.000000</td>\n",
       "      <td>50.000000</td>\n",
       "      <td>0.000000</td>\n",
       "      <td>24.000000</td>\n",
       "      <td>13.000000</td>\n",
       "      <td>12.000000</td>\n",
       "      <td>24.000000</td>\n",
       "      <td>...</td>\n",
       "      <td>28.000000</td>\n",
       "      <td>28.000000</td>\n",
       "      <td>27.000000</td>\n",
       "      <td>27.000000</td>\n",
       "      <td>27.000000</td>\n",
       "      <td>27.000000</td>\n",
       "      <td>26.000000</td>\n",
       "      <td>26.000000</td>\n",
       "      <td>31.000000</td>\n",
       "      <td>16.000000</td>\n",
       "    </tr>\n",
       "    <tr>\n",
       "      <th>25%</th>\n",
       "      <td>4846.500000</td>\n",
       "      <td>63.000000</td>\n",
       "      <td>23.000000</td>\n",
       "      <td>177.000000</td>\n",
       "      <td>70.000000</td>\n",
       "      <td>1.000000</td>\n",
       "      <td>62.000000</td>\n",
       "      <td>58.000000</td>\n",
       "      <td>58.000000</td>\n",
       "      <td>58.000000</td>\n",
       "      <td>...</td>\n",
       "      <td>56.000000</td>\n",
       "      <td>56.000000</td>\n",
       "      <td>55.000000</td>\n",
       "      <td>54.000000</td>\n",
       "      <td>54.000000</td>\n",
       "      <td>54.000000</td>\n",
       "      <td>55.000000</td>\n",
       "      <td>55.000000</td>\n",
       "      <td>53.000000</td>\n",
       "      <td>194928.500000</td>\n",
       "    </tr>\n",
       "    <tr>\n",
       "      <th>50%</th>\n",
       "      <td>9805.000000</td>\n",
       "      <td>67.000000</td>\n",
       "      <td>26.000000</td>\n",
       "      <td>182.000000</td>\n",
       "      <td>75.000000</td>\n",
       "      <td>1.000000</td>\n",
       "      <td>70.000000</td>\n",
       "      <td>68.000000</td>\n",
       "      <td>68.000000</td>\n",
       "      <td>65.000000</td>\n",
       "      <td>...</td>\n",
       "      <td>63.000000</td>\n",
       "      <td>63.000000</td>\n",
       "      <td>62.000000</td>\n",
       "      <td>62.000000</td>\n",
       "      <td>62.000000</td>\n",
       "      <td>62.000000</td>\n",
       "      <td>62.000000</td>\n",
       "      <td>62.000000</td>\n",
       "      <td>60.000000</td>\n",
       "      <td>214860.000000</td>\n",
       "    </tr>\n",
       "    <tr>\n",
       "      <th>75%</th>\n",
       "      <td>14581.500000</td>\n",
       "      <td>73.000000</td>\n",
       "      <td>29.000000</td>\n",
       "      <td>186.000000</td>\n",
       "      <td>80.000000</td>\n",
       "      <td>1.000000</td>\n",
       "      <td>77.000000</td>\n",
       "      <td>76.000000</td>\n",
       "      <td>76.000000</td>\n",
       "      <td>71.000000</td>\n",
       "      <td>...</td>\n",
       "      <td>68.000000</td>\n",
       "      <td>68.000000</td>\n",
       "      <td>68.000000</td>\n",
       "      <td>68.000000</td>\n",
       "      <td>68.000000</td>\n",
       "      <td>68.000000</td>\n",
       "      <td>68.000000</td>\n",
       "      <td>68.000000</td>\n",
       "      <td>67.000000</td>\n",
       "      <td>232590.500000</td>\n",
       "    </tr>\n",
       "    <tr>\n",
       "      <th>max</th>\n",
       "      <td>19307.000000</td>\n",
       "      <td>99.000000</td>\n",
       "      <td>89.000000</td>\n",
       "      <td>205.000000</td>\n",
       "      <td>110.000000</td>\n",
       "      <td>5.000000</td>\n",
       "      <td>99.000000</td>\n",
       "      <td>99.000000</td>\n",
       "      <td>99.000000</td>\n",
       "      <td>99.000000</td>\n",
       "      <td>...</td>\n",
       "      <td>97.000000</td>\n",
       "      <td>97.000000</td>\n",
       "      <td>98.000000</td>\n",
       "      <td>98.000000</td>\n",
       "      <td>98.000000</td>\n",
       "      <td>98.000000</td>\n",
       "      <td>97.000000</td>\n",
       "      <td>97.000000</td>\n",
       "      <td>98.000000</td>\n",
       "      <td>245714.000000</td>\n",
       "    </tr>\n",
       "  </tbody>\n",
       "</table>\n",
       "<p>8 rows × 66 columns</p>\n",
       "</div>"
      ],
      "text/plain": [
       "          player_id       overall           age        height        weight  \\\n",
       "count  18831.000000  18831.000000  18831.000000  18831.000000  18831.000000   \n",
       "mean    9724.997663     68.200839     26.364027    181.413202     75.565929   \n",
       "std     5592.051018      8.143145      5.223632      6.778249      7.096437   \n",
       "min        1.000000     47.000000     17.000000    155.000000     50.000000   \n",
       "25%     4846.500000     63.000000     23.000000    177.000000     70.000000   \n",
       "50%     9805.000000     67.000000     26.000000    182.000000     75.000000   \n",
       "75%    14581.500000     73.000000     29.000000    186.000000     80.000000   \n",
       "max    19307.000000     99.000000     89.000000    205.000000    110.000000   \n",
       "\n",
       "           intl_rep          pace  pace_acceleration  pace_sprint_speed  \\\n",
       "count  18831.000000  16882.000000       18831.000000       18831.000000   \n",
       "mean       1.172269     69.072859          65.947427          66.106580   \n",
       "std        0.587855     11.909037          15.120939          14.851889   \n",
       "min        0.000000     24.000000          13.000000          12.000000   \n",
       "25%        1.000000     62.000000          58.000000          58.000000   \n",
       "50%        1.000000     70.000000          68.000000          68.000000   \n",
       "75%        1.000000     77.000000          76.000000          76.000000   \n",
       "max        5.000000     99.000000          99.000000          99.000000   \n",
       "\n",
       "          dribbling  ...            rm            lm           cam  \\\n",
       "count  16882.000000  ...  16882.000000  16882.000000  16882.000000   \n",
       "mean      64.323540  ...     62.166746     62.166746     61.509774   \n",
       "std       10.906452  ...     10.206237     10.206237     10.760257   \n",
       "min       24.000000  ...     28.000000     28.000000     27.000000   \n",
       "25%       58.000000  ...     56.000000     56.000000     55.000000   \n",
       "50%       65.000000  ...     63.000000     63.000000     62.000000   \n",
       "75%       71.000000  ...     68.000000     68.000000     68.000000   \n",
       "max       99.000000  ...     97.000000     97.000000     98.000000   \n",
       "\n",
       "                 cf            rf            lf            rw            lw  \\\n",
       "count  16882.000000  16882.000000  16882.000000  16882.000000  16882.000000   \n",
       "mean      61.252517     61.252517     61.252517     61.511314     61.511314   \n",
       "std       10.901557     10.901557     10.901557     10.866396     10.866396   \n",
       "min       27.000000     27.000000     27.000000     26.000000     26.000000   \n",
       "25%       54.000000     54.000000     54.000000     55.000000     55.000000   \n",
       "50%       62.000000     62.000000     62.000000     62.000000     62.000000   \n",
       "75%       68.000000     68.000000     68.000000     68.000000     68.000000   \n",
       "max       98.000000     98.000000     98.000000     97.000000     97.000000   \n",
       "\n",
       "                 st        base_id  \n",
       "count  16882.000000   18831.000000  \n",
       "mean      60.297832  209831.137114  \n",
       "std       10.213289   31943.691550  \n",
       "min       31.000000      16.000000  \n",
       "25%       53.000000  194928.500000  \n",
       "50%       60.000000  214860.000000  \n",
       "75%       67.000000  232590.500000  \n",
       "max       98.000000  245714.000000  \n",
       "\n",
       "[8 rows x 66 columns]"
      ]
     },
     "execution_count": 46,
     "metadata": {},
     "output_type": "execute_result"
    }
   ],
   "source": [
    "# Exercício 3.1.4\n",
    "# mostre o resumo estatístico das colunas numéricas\n",
    "fut_players.describe()"
   ]
  },
  {
   "cell_type": "markdown",
   "metadata": {
    "id": "2QTzo2U5I7WB"
   },
   "source": [
    "### 3.3. Filtrando (*Filtering*) e fatiando (*slicing*) os dados\n",
    "\n",
    "*Filtering* e *slicing* são técnicas utilizadas para isolar partes específicas do *DataFrame*, sejam linhas, colunas ou células. Isso é muito útil pois diversas vezes queremos analisar alguns dados ao invés da base inteira. O Pandas tem ferramentas próprias para isso. <br>\n",
    "\n",
    "#### 3.3.1. *Slicing*\n",
    "\n",
    "No Pandas existem duas principais formas de fatiar os dados, isto é, selecionar apenas uma parte de acordo com as linhas e colunas do *DataFrame*: utilizando o nome das partes ou com os métodos *.loc()* e *.iloc()*. Vamos começar pelo primeiro. Para fazer isso, imagine que queremos apenas os nomes e o poder de ataque dos Pokémons e veja o exemplo:"
   ]
  },
  {
   "cell_type": "code",
   "execution_count": 47,
   "metadata": {
    "id": "46uivHZcI7WC"
   },
   "outputs": [
    {
     "data": {
      "text/html": [
       "<div>\n",
       "<style scoped>\n",
       "    .dataframe tbody tr th:only-of-type {\n",
       "        vertical-align: middle;\n",
       "    }\n",
       "\n",
       "    .dataframe tbody tr th {\n",
       "        vertical-align: top;\n",
       "    }\n",
       "\n",
       "    .dataframe thead th {\n",
       "        text-align: right;\n",
       "    }\n",
       "</style>\n",
       "<table border=\"1\" class=\"dataframe\">\n",
       "  <thead>\n",
       "    <tr style=\"text-align: right;\">\n",
       "      <th></th>\n",
       "      <th>Name</th>\n",
       "      <th>Attack</th>\n",
       "    </tr>\n",
       "  </thead>\n",
       "  <tbody>\n",
       "    <tr>\n",
       "      <th>0</th>\n",
       "      <td>Bulbasaur</td>\n",
       "      <td>49</td>\n",
       "    </tr>\n",
       "    <tr>\n",
       "      <th>1</th>\n",
       "      <td>Ivysaur</td>\n",
       "      <td>62</td>\n",
       "    </tr>\n",
       "    <tr>\n",
       "      <th>2</th>\n",
       "      <td>Venusaur</td>\n",
       "      <td>82</td>\n",
       "    </tr>\n",
       "    <tr>\n",
       "      <th>3</th>\n",
       "      <td>VenusaurMega Venusaur</td>\n",
       "      <td>100</td>\n",
       "    </tr>\n",
       "    <tr>\n",
       "      <th>4</th>\n",
       "      <td>Charmander</td>\n",
       "      <td>52</td>\n",
       "    </tr>\n",
       "    <tr>\n",
       "      <th>5</th>\n",
       "      <td>Charmeleon</td>\n",
       "      <td>64</td>\n",
       "    </tr>\n",
       "    <tr>\n",
       "      <th>6</th>\n",
       "      <td>Charizard</td>\n",
       "      <td>84</td>\n",
       "    </tr>\n",
       "  </tbody>\n",
       "</table>\n",
       "</div>"
      ],
      "text/plain": [
       "                    Name  Attack\n",
       "0              Bulbasaur      49\n",
       "1                Ivysaur      62\n",
       "2               Venusaur      82\n",
       "3  VenusaurMega Venusaur     100\n",
       "4             Charmander      52\n",
       "5             Charmeleon      64\n",
       "6              Charizard      84"
      ]
     },
     "execution_count": 47,
     "metadata": {},
     "output_type": "execute_result"
    }
   ],
   "source": [
    "pkmn[['Name','Attack']].head(7)"
   ]
  },
  {
   "cell_type": "markdown",
   "metadata": {
    "id": "a2t9ZGA9I7WF"
   },
   "source": [
    "Duas coisas importantes aqui:\n",
    " - Juntamos o *slicing* com o método *.head()* na mesma linha, para que fosse possível ver o resultado do fatiamento. Ao usar o Pandas é possível e comum fazer esse tipo de agrupamento de operações.\n",
    " - Foram utilizadas chaves duplas ```[[]]``` no fatiamento. Ao fazer isso, estou explicitando que quero um objeto do tipo *DataFrame*. Se eu quisesse objetos do tipo *Series* usaria chaves simples. Podemos ver um exemplo disso abaixo:"
   ]
  },
  {
   "cell_type": "code",
   "execution_count": 48,
   "metadata": {
    "id": "4Ml4LWZJI7WF"
   },
   "outputs": [
    {
     "data": {
      "text/plain": [
       "pandas.core.frame.DataFrame"
      ]
     },
     "execution_count": 48,
     "metadata": {},
     "output_type": "execute_result"
    }
   ],
   "source": [
    "type(pkmn[['Name']])"
   ]
  },
  {
   "cell_type": "code",
   "execution_count": 49,
   "metadata": {
    "id": "NVLgmH7lI7WI"
   },
   "outputs": [
    {
     "data": {
      "text/plain": [
       "pandas.core.series.Series"
      ]
     },
     "execution_count": 49,
     "metadata": {},
     "output_type": "execute_result"
    }
   ],
   "source": [
    "type(pkmn['Name'])"
   ]
  },
  {
   "cell_type": "markdown",
   "metadata": {
    "id": "PqRmLi4HI7WL"
   },
   "source": [
    "Outra forma de se obter um objeto do tipo *Series* é passando a coluna como se fosse um atributo do *DataFrame*:"
   ]
  },
  {
   "cell_type": "code",
   "execution_count": 50,
   "metadata": {
    "id": "_GYbEpLNI7WM"
   },
   "outputs": [
    {
     "data": {
      "text/plain": [
       "0                  Bulbasaur\n",
       "1                    Ivysaur\n",
       "2                   Venusaur\n",
       "3      VenusaurMega Venusaur\n",
       "4                 Charmander\n",
       "               ...          \n",
       "795                  Diancie\n",
       "796      DiancieMega Diancie\n",
       "797      HoopaHoopa Confined\n",
       "798       HoopaHoopa Unbound\n",
       "799                Volcanion\n",
       "Name: Name, Length: 800, dtype: object"
      ]
     },
     "execution_count": 50,
     "metadata": {},
     "output_type": "execute_result"
    }
   ],
   "source": [
    "pkmn.Name"
   ]
  },
  {
   "cell_type": "markdown",
   "metadata": {
    "id": "vWKI_99GI7WN"
   },
   "source": [
    "O único problema desse formato é que colunas cujo nome contém espaços não funcionarão, como é o caso das colunas *Type 1*, *Type 2*, *Sp. Atk* e *Sp. Def*. Para resolver isso, vamos renomeá-las com o método *.rename()*."
   ]
  },
  {
   "cell_type": "code",
   "execution_count": 51,
   "metadata": {
    "id": "Qnf5uL5wI7WO"
   },
   "outputs": [],
   "source": [
    "pkmn.rename(\n",
    "    columns={'Type 1':'Type_1', 'Type 2':'Type_2', 'Sp. Atk':'Sp_Atk','Sp. Def':'Sp_Def'}, #passando o nome antigo e novo como um dicionário\n",
    "    inplace = True #algumas operações com Pandas criam uma cópia do DataFrame e não alteram o objeto em si, alteramos isso mudando o parâmetro inplace para verdadeiro\n",
    ")"
   ]
  },
  {
   "cell_type": "code",
   "execution_count": 52,
   "metadata": {
    "id": "lnAsbq4xI7WQ"
   },
   "outputs": [
    {
     "name": "stdout",
     "output_type": "stream",
     "text": [
      "<class 'pandas.core.frame.DataFrame'>\n",
      "RangeIndex: 800 entries, 0 to 799\n",
      "Data columns (total 13 columns):\n",
      " #   Column      Non-Null Count  Dtype \n",
      "---  ------      --------------  ----- \n",
      " 0   #           800 non-null    int64 \n",
      " 1   Name        800 non-null    object\n",
      " 2   Type_1      800 non-null    object\n",
      " 3   Type_2      414 non-null    object\n",
      " 4   Total       800 non-null    int64 \n",
      " 5   HP          800 non-null    int64 \n",
      " 6   Attack      800 non-null    int64 \n",
      " 7   Defense     800 non-null    int64 \n",
      " 8   Sp_Atk      800 non-null    int64 \n",
      " 9   Sp_Def      800 non-null    int64 \n",
      " 10  Speed       800 non-null    int64 \n",
      " 11  Generation  800 non-null    int64 \n",
      " 12  Legendary   800 non-null    bool  \n",
      "dtypes: bool(1), int64(9), object(3)\n",
      "memory usage: 75.9+ KB\n"
     ]
    }
   ],
   "source": [
    "pkmn.info()"
   ]
  },
  {
   "cell_type": "markdown",
   "metadata": {
    "id": "O45xA1XHJqqb"
   },
   "source": [
    "Agora que os nomes foram trocados, podemos obter um objeto *Series* do tipo do Pokémon como a seguir:"
   ]
  },
  {
   "cell_type": "code",
   "execution_count": 53,
   "metadata": {
    "id": "O5p0Jw0mJqqc"
   },
   "outputs": [
    {
     "data": {
      "text/plain": [
       "0        Grass\n",
       "1        Grass\n",
       "2        Grass\n",
       "3        Grass\n",
       "4         Fire\n",
       "        ...   \n",
       "795       Rock\n",
       "796       Rock\n",
       "797    Psychic\n",
       "798    Psychic\n",
       "799       Fire\n",
       "Name: Type_1, Length: 800, dtype: object"
      ]
     },
     "execution_count": 53,
     "metadata": {},
     "output_type": "execute_result"
    }
   ],
   "source": [
    "pkmn.Type_1"
   ]
  },
  {
   "cell_type": "markdown",
   "metadata": {
    "id": "R281vnHrI7WV"
   },
   "source": [
    "Outra forma de selecionar partes dos dados é usando os métodos *.loc()* e *.iloc()*.<br>\n",
    "Para usar a localização númerica utilizamos o *iloc*. Como você pode imaginar, a linhas e colunas são ordenadas por números inteiros sequenciais, começando do 0, como nas listas. Dessa forma, se você sabe o número da linha e da coluna, você pode usar o *iloc*. Por exemplo, se quisermos a coluna HP, que é a 6ª, poderíamos fazer o seguinte:"
   ]
  },
  {
   "cell_type": "code",
   "execution_count": 54,
   "metadata": {
    "id": "OU3QcQiZI7WV"
   },
   "outputs": [
    {
     "data": {
      "text/plain": [
       "0    45\n",
       "1    60\n",
       "2    80\n",
       "3    80\n",
       "4    39\n",
       "Name: HP, dtype: int64"
      ]
     },
     "execution_count": 54,
     "metadata": {},
     "output_type": "execute_result"
    }
   ],
   "source": [
    "pkmn.iloc[:,5].head() "
   ]
  },
  {
   "cell_type": "markdown",
   "metadata": {
    "id": "76glpCfwI7WX"
   },
   "source": [
    "A sintaxe do *iloc* é como [x,y], que significa que queremos a (x+1)ª linha e (y+1)ª coluna. Se utilizarmos ```:``` no lugar de x ou y significa que queremos a coluna ou linha completa, respectivamente. Vamos pegar o HP do Bulbasaur, o primeiro Pokémon do nosso *DataFrame*:"
   ]
  },
  {
   "cell_type": "code",
   "execution_count": 55,
   "metadata": {
    "id": "Xsk3EutuI7WX"
   },
   "outputs": [
    {
     "name": "stdout",
     "output_type": "stream",
     "text": [
      "O HP do Bulbasaur é 45\n"
     ]
    }
   ],
   "source": [
    "print(\"O HP do Bulbasaur é \"+str(pkmn.iloc[0,5]))"
   ]
  },
  {
   "cell_type": "markdown",
   "metadata": {
    "id": "IGy5jCcgI7Wa"
   },
   "source": [
    "O método *.loc()* usa o rótulo para acessar os valores. Dessa forma, ao invés de passarmos as coordenadas numéricas, passamos o nome da linha e da coluna, como a seguir:"
   ]
  },
  {
   "cell_type": "code",
   "execution_count": 56,
   "metadata": {
    "id": "JcQV_oi3I7Wb"
   },
   "outputs": [
    {
     "data": {
      "text/plain": [
       "#                     1\n",
       "Name          Bulbasaur\n",
       "Type_1            Grass\n",
       "Type_2           Poison\n",
       "Total               318\n",
       "HP                   45\n",
       "Attack               49\n",
       "Defense              49\n",
       "Sp_Atk               65\n",
       "Sp_Def               65\n",
       "Speed                45\n",
       "Generation            1\n",
       "Legendary         False\n",
       "Name: 0, dtype: object"
      ]
     },
     "execution_count": 56,
     "metadata": {},
     "output_type": "execute_result"
    }
   ],
   "source": [
    "pkmn.loc[0, :]"
   ]
  },
  {
   "cell_type": "markdown",
   "metadata": {
    "id": "nu5OJQgOI7Wc"
   },
   "source": [
    "No caso, os rótulos das linhas são iguais às suas coordenadas, por isso ficou parecido com o *iloc*. Vamos fazer o teste com as colunas também para ver a diferença. Abaixo pegaremos novamente o HP do Bulbasaur:"
   ]
  },
  {
   "cell_type": "code",
   "execution_count": 57,
   "metadata": {
    "id": "4jMGO5ACI7Wc"
   },
   "outputs": [
    {
     "name": "stdout",
     "output_type": "stream",
     "text": [
      "O HP do Bulbasaur é 45\n"
     ]
    }
   ],
   "source": [
    "print(\"O HP do Bulbasaur é \"+str(pkmn.loc[0,'HP']))"
   ]
  },
  {
   "cell_type": "markdown",
   "metadata": {
    "id": "wzRDpdWNI7We"
   },
   "source": [
    "#### 3.3.2. Filtros (*Filtering*)\n",
    "\n",
    "Uma vez sabendo isolar partes do *DataFrame* de acordo com a localização dos dados, podemos partir para isolar de acordo com condições, ou seja, filtrar os dados.\n",
    "Para conseguir fazer isso no Pandas, fazemos o seguinte: passamos uma expressão condicional e o Pandas retorna apenas as partes que teriam a condição como verdade. Para testar isso, vamos ver a defesa média de todos os Pokémons e depois ver se os tipos 'Rock' e 'Steel' têm defesas maiores:"
   ]
  },
  {
   "cell_type": "code",
   "execution_count": 58,
   "metadata": {
    "id": "t9BIt7O7I7We"
   },
   "outputs": [
    {
     "data": {
      "text/plain": [
       "73.8425"
      ]
     },
     "execution_count": 58,
     "metadata": {},
     "output_type": "execute_result"
    }
   ],
   "source": [
    "pkmn.Defense.mean() #note que operações comuns como média (mean), mediana (median) e soma (sum) são métodos do Pandas"
   ]
  },
  {
   "cell_type": "code",
   "execution_count": 59,
   "metadata": {
    "id": "CvNMdewfJqqk"
   },
   "outputs": [
    {
     "data": {
      "text/plain": [
       "100.79545454545455"
      ]
     },
     "execution_count": 59,
     "metadata": {},
     "output_type": "execute_result"
    }
   ],
   "source": [
    "pkmn.loc[pkmn.Type_1=='Rock'].Defense.mean()"
   ]
  },
  {
   "cell_type": "code",
   "execution_count": 60,
   "metadata": {
    "id": "Kf_EPtttJqqk"
   },
   "outputs": [
    {
     "data": {
      "text/plain": [
       "126.37037037037037"
      ]
     },
     "execution_count": 60,
     "metadata": {},
     "output_type": "execute_result"
    }
   ],
   "source": [
    "pkmn[pkmn.Type_1=='Steel'].Defense.mean()"
   ]
  },
  {
   "cell_type": "markdown",
   "metadata": {
    "id": "DQ3SSloPI7Wj"
   },
   "source": [
    "De fato, parece que os tipos selecionados tem média acima dos demais Pokémons. Para verificar isso, passamos a condição pkmn.Type_1=='Steel' entre chaves, o que retorna apenas as linhas de tal tipo. Com isso, selecionamos apenas a coluna de defesa e calculamos a média. <br>\n",
    "Vamos ver agora os Pokémons com defesa maior que 150, cujo tipo principal não é 'Rock' nem 'Steel':"
   ]
  },
  {
   "cell_type": "code",
   "execution_count": 61,
   "metadata": {
    "id": "gZssFNJSI7Wj"
   },
   "outputs": [
    {
     "data": {
      "text/html": [
       "<div>\n",
       "<style scoped>\n",
       "    .dataframe tbody tr th:only-of-type {\n",
       "        vertical-align: middle;\n",
       "    }\n",
       "\n",
       "    .dataframe tbody tr th {\n",
       "        vertical-align: top;\n",
       "    }\n",
       "\n",
       "    .dataframe thead th {\n",
       "        text-align: right;\n",
       "    }\n",
       "</style>\n",
       "<table border=\"1\" class=\"dataframe\">\n",
       "  <thead>\n",
       "    <tr style=\"text-align: right;\">\n",
       "      <th></th>\n",
       "      <th>#</th>\n",
       "      <th>Name</th>\n",
       "      <th>Type_1</th>\n",
       "      <th>Type_2</th>\n",
       "      <th>Total</th>\n",
       "      <th>HP</th>\n",
       "      <th>Attack</th>\n",
       "      <th>Defense</th>\n",
       "      <th>Sp_Atk</th>\n",
       "      <th>Sp_Def</th>\n",
       "      <th>Speed</th>\n",
       "      <th>Generation</th>\n",
       "      <th>Legendary</th>\n",
       "    </tr>\n",
       "  </thead>\n",
       "  <tbody>\n",
       "    <tr>\n",
       "      <th>87</th>\n",
       "      <td>80</td>\n",
       "      <td>SlowbroMega Slowbro</td>\n",
       "      <td>Water</td>\n",
       "      <td>Psychic</td>\n",
       "      <td>590</td>\n",
       "      <td>95</td>\n",
       "      <td>75</td>\n",
       "      <td>180</td>\n",
       "      <td>130</td>\n",
       "      <td>80</td>\n",
       "      <td>30</td>\n",
       "      <td>1</td>\n",
       "      <td>False</td>\n",
       "    </tr>\n",
       "    <tr>\n",
       "      <th>98</th>\n",
       "      <td>91</td>\n",
       "      <td>Cloyster</td>\n",
       "      <td>Water</td>\n",
       "      <td>Ice</td>\n",
       "      <td>525</td>\n",
       "      <td>50</td>\n",
       "      <td>95</td>\n",
       "      <td>180</td>\n",
       "      <td>85</td>\n",
       "      <td>45</td>\n",
       "      <td>70</td>\n",
       "      <td>1</td>\n",
       "      <td>False</td>\n",
       "    </tr>\n",
       "    <tr>\n",
       "      <th>230</th>\n",
       "      <td>213</td>\n",
       "      <td>Shuckle</td>\n",
       "      <td>Bug</td>\n",
       "      <td>Rock</td>\n",
       "      <td>505</td>\n",
       "      <td>20</td>\n",
       "      <td>10</td>\n",
       "      <td>230</td>\n",
       "      <td>10</td>\n",
       "      <td>230</td>\n",
       "      <td>5</td>\n",
       "      <td>2</td>\n",
       "      <td>False</td>\n",
       "    </tr>\n",
       "    <tr>\n",
       "      <th>424</th>\n",
       "      <td>383</td>\n",
       "      <td>GroudonPrimal Groudon</td>\n",
       "      <td>Ground</td>\n",
       "      <td>Fire</td>\n",
       "      <td>770</td>\n",
       "      <td>100</td>\n",
       "      <td>180</td>\n",
       "      <td>160</td>\n",
       "      <td>150</td>\n",
       "      <td>90</td>\n",
       "      <td>90</td>\n",
       "      <td>3</td>\n",
       "      <td>True</td>\n",
       "    </tr>\n",
       "    <tr>\n",
       "      <th>430</th>\n",
       "      <td>386</td>\n",
       "      <td>DeoxysDefense Forme</td>\n",
       "      <td>Psychic</td>\n",
       "      <td>NaN</td>\n",
       "      <td>600</td>\n",
       "      <td>50</td>\n",
       "      <td>70</td>\n",
       "      <td>160</td>\n",
       "      <td>70</td>\n",
       "      <td>160</td>\n",
       "      <td>90</td>\n",
       "      <td>3</td>\n",
       "      <td>True</td>\n",
       "    </tr>\n",
       "    <tr>\n",
       "      <th>789</th>\n",
       "      <td>713</td>\n",
       "      <td>Avalugg</td>\n",
       "      <td>Ice</td>\n",
       "      <td>NaN</td>\n",
       "      <td>514</td>\n",
       "      <td>95</td>\n",
       "      <td>117</td>\n",
       "      <td>184</td>\n",
       "      <td>44</td>\n",
       "      <td>46</td>\n",
       "      <td>28</td>\n",
       "      <td>6</td>\n",
       "      <td>False</td>\n",
       "    </tr>\n",
       "  </tbody>\n",
       "</table>\n",
       "</div>"
      ],
      "text/plain": [
       "       #                   Name   Type_1   Type_2  Total   HP  Attack  \\\n",
       "87    80    SlowbroMega Slowbro    Water  Psychic    590   95      75   \n",
       "98    91               Cloyster    Water      Ice    525   50      95   \n",
       "230  213                Shuckle      Bug     Rock    505   20      10   \n",
       "424  383  GroudonPrimal Groudon   Ground     Fire    770  100     180   \n",
       "430  386    DeoxysDefense Forme  Psychic      NaN    600   50      70   \n",
       "789  713                Avalugg      Ice      NaN    514   95     117   \n",
       "\n",
       "     Defense  Sp_Atk  Sp_Def  Speed  Generation  Legendary  \n",
       "87       180     130      80     30           1      False  \n",
       "98       180      85      45     70           1      False  \n",
       "230      230      10     230      5           2      False  \n",
       "424      160     150      90     90           3       True  \n",
       "430      160      70     160     90           3       True  \n",
       "789      184      44      46     28           6      False  "
      ]
     },
     "execution_count": 61,
     "metadata": {},
     "output_type": "execute_result"
    }
   ],
   "source": [
    "pkmn[(pkmn.Defense > 150)&(pkmn.Type_1!='Rock')&(pkmn.Type_1!='Steel')]"
   ]
  },
  {
   "cell_type": "markdown",
   "metadata": {
    "id": "U0yWxF1MI7Wl"
   },
   "source": [
    "Podemos ver acima que é possível juntar condições com os operadores E (&) e OU (|).<br>\n",
    "Vamos dizer agora que você quer apenas alguns Pokémons em específico, por exemplo Venusaur, Charizard e Blastoise. Criar uma condição para cada e uní-las com o operador & pode ser difícil, ainda mais se for uma quantidade grande de opções. Podemos facilitar isso passando uma tupla ao método *.isin()*, como abaixo:"
   ]
  },
  {
   "cell_type": "code",
   "execution_count": 62,
   "metadata": {
    "id": "1hZmFFpNI7Wl"
   },
   "outputs": [
    {
     "data": {
      "text/html": [
       "<div>\n",
       "<style scoped>\n",
       "    .dataframe tbody tr th:only-of-type {\n",
       "        vertical-align: middle;\n",
       "    }\n",
       "\n",
       "    .dataframe tbody tr th {\n",
       "        vertical-align: top;\n",
       "    }\n",
       "\n",
       "    .dataframe thead th {\n",
       "        text-align: right;\n",
       "    }\n",
       "</style>\n",
       "<table border=\"1\" class=\"dataframe\">\n",
       "  <thead>\n",
       "    <tr style=\"text-align: right;\">\n",
       "      <th></th>\n",
       "      <th>#</th>\n",
       "      <th>Name</th>\n",
       "      <th>Type_1</th>\n",
       "      <th>Type_2</th>\n",
       "      <th>Total</th>\n",
       "      <th>HP</th>\n",
       "      <th>Attack</th>\n",
       "      <th>Defense</th>\n",
       "      <th>Sp_Atk</th>\n",
       "      <th>Sp_Def</th>\n",
       "      <th>Speed</th>\n",
       "      <th>Generation</th>\n",
       "      <th>Legendary</th>\n",
       "    </tr>\n",
       "  </thead>\n",
       "  <tbody>\n",
       "    <tr>\n",
       "      <th>2</th>\n",
       "      <td>3</td>\n",
       "      <td>Venusaur</td>\n",
       "      <td>Grass</td>\n",
       "      <td>Poison</td>\n",
       "      <td>525</td>\n",
       "      <td>80</td>\n",
       "      <td>82</td>\n",
       "      <td>83</td>\n",
       "      <td>100</td>\n",
       "      <td>100</td>\n",
       "      <td>80</td>\n",
       "      <td>1</td>\n",
       "      <td>False</td>\n",
       "    </tr>\n",
       "    <tr>\n",
       "      <th>6</th>\n",
       "      <td>6</td>\n",
       "      <td>Charizard</td>\n",
       "      <td>Fire</td>\n",
       "      <td>Flying</td>\n",
       "      <td>534</td>\n",
       "      <td>78</td>\n",
       "      <td>84</td>\n",
       "      <td>78</td>\n",
       "      <td>109</td>\n",
       "      <td>85</td>\n",
       "      <td>100</td>\n",
       "      <td>1</td>\n",
       "      <td>False</td>\n",
       "    </tr>\n",
       "    <tr>\n",
       "      <th>11</th>\n",
       "      <td>9</td>\n",
       "      <td>Blastoise</td>\n",
       "      <td>Water</td>\n",
       "      <td>NaN</td>\n",
       "      <td>530</td>\n",
       "      <td>79</td>\n",
       "      <td>83</td>\n",
       "      <td>100</td>\n",
       "      <td>85</td>\n",
       "      <td>105</td>\n",
       "      <td>78</td>\n",
       "      <td>1</td>\n",
       "      <td>False</td>\n",
       "    </tr>\n",
       "  </tbody>\n",
       "</table>\n",
       "</div>"
      ],
      "text/plain": [
       "    #       Name Type_1  Type_2  Total  HP  Attack  Defense  Sp_Atk  Sp_Def  \\\n",
       "2   3   Venusaur  Grass  Poison    525  80      82       83     100     100   \n",
       "6   6  Charizard   Fire  Flying    534  78      84       78     109      85   \n",
       "11  9  Blastoise  Water     NaN    530  79      83      100      85     105   \n",
       "\n",
       "    Speed  Generation  Legendary  \n",
       "2      80           1      False  \n",
       "6     100           1      False  \n",
       "11     78           1      False  "
      ]
     },
     "execution_count": 62,
     "metadata": {},
     "output_type": "execute_result"
    }
   ],
   "source": [
    "aux = ('Venusaur', 'Charizard', 'Blastoise')\n",
    "pkmn[pkmn.Name.isin(aux)]"
   ]
  },
  {
   "cell_type": "markdown",
   "metadata": {
    "id": "9xqpu5WPI7Wm"
   },
   "source": [
    "Finalmente, podemos criar novos *DataFrames* a partir de um já existente selecionando apenas algumas linhas ou colunas dele:"
   ]
  },
  {
   "cell_type": "code",
   "execution_count": 63,
   "metadata": {
    "id": "gTkyAPJ3I7Wn"
   },
   "outputs": [],
   "source": [
    "offensive_stats = pkmn[['#','Name','Attack','Sp_Atk','Speed']] #selecionando apenas estatísticas ofensivas\n",
    "defensive_stats = pkmn[['#','Name', 'HP','Defense','Sp_Def']] #selecionando apenas estatísticas defensivas"
   ]
  },
  {
   "cell_type": "code",
   "execution_count": 64,
   "metadata": {
    "id": "Eya67aYTI7Wo"
   },
   "outputs": [
    {
     "data": {
      "text/html": [
       "<div>\n",
       "<style scoped>\n",
       "    .dataframe tbody tr th:only-of-type {\n",
       "        vertical-align: middle;\n",
       "    }\n",
       "\n",
       "    .dataframe tbody tr th {\n",
       "        vertical-align: top;\n",
       "    }\n",
       "\n",
       "    .dataframe thead th {\n",
       "        text-align: right;\n",
       "    }\n",
       "</style>\n",
       "<table border=\"1\" class=\"dataframe\">\n",
       "  <thead>\n",
       "    <tr style=\"text-align: right;\">\n",
       "      <th></th>\n",
       "      <th>#</th>\n",
       "      <th>Name</th>\n",
       "      <th>Attack</th>\n",
       "      <th>Sp_Atk</th>\n",
       "      <th>Speed</th>\n",
       "    </tr>\n",
       "  </thead>\n",
       "  <tbody>\n",
       "    <tr>\n",
       "      <th>0</th>\n",
       "      <td>1</td>\n",
       "      <td>Bulbasaur</td>\n",
       "      <td>49</td>\n",
       "      <td>65</td>\n",
       "      <td>45</td>\n",
       "    </tr>\n",
       "    <tr>\n",
       "      <th>1</th>\n",
       "      <td>2</td>\n",
       "      <td>Ivysaur</td>\n",
       "      <td>62</td>\n",
       "      <td>80</td>\n",
       "      <td>60</td>\n",
       "    </tr>\n",
       "    <tr>\n",
       "      <th>2</th>\n",
       "      <td>3</td>\n",
       "      <td>Venusaur</td>\n",
       "      <td>82</td>\n",
       "      <td>100</td>\n",
       "      <td>80</td>\n",
       "    </tr>\n",
       "    <tr>\n",
       "      <th>3</th>\n",
       "      <td>3</td>\n",
       "      <td>VenusaurMega Venusaur</td>\n",
       "      <td>100</td>\n",
       "      <td>122</td>\n",
       "      <td>80</td>\n",
       "    </tr>\n",
       "    <tr>\n",
       "      <th>4</th>\n",
       "      <td>4</td>\n",
       "      <td>Charmander</td>\n",
       "      <td>52</td>\n",
       "      <td>60</td>\n",
       "      <td>65</td>\n",
       "    </tr>\n",
       "  </tbody>\n",
       "</table>\n",
       "</div>"
      ],
      "text/plain": [
       "   #                   Name  Attack  Sp_Atk  Speed\n",
       "0  1              Bulbasaur      49      65     45\n",
       "1  2                Ivysaur      62      80     60\n",
       "2  3               Venusaur      82     100     80\n",
       "3  3  VenusaurMega Venusaur     100     122     80\n",
       "4  4             Charmander      52      60     65"
      ]
     },
     "execution_count": 64,
     "metadata": {},
     "output_type": "execute_result"
    }
   ],
   "source": [
    "offensive_stats.head()"
   ]
  },
  {
   "cell_type": "code",
   "execution_count": 65,
   "metadata": {
    "id": "S9VDvgW8I7Wp"
   },
   "outputs": [
    {
     "data": {
      "text/html": [
       "<div>\n",
       "<style scoped>\n",
       "    .dataframe tbody tr th:only-of-type {\n",
       "        vertical-align: middle;\n",
       "    }\n",
       "\n",
       "    .dataframe tbody tr th {\n",
       "        vertical-align: top;\n",
       "    }\n",
       "\n",
       "    .dataframe thead th {\n",
       "        text-align: right;\n",
       "    }\n",
       "</style>\n",
       "<table border=\"1\" class=\"dataframe\">\n",
       "  <thead>\n",
       "    <tr style=\"text-align: right;\">\n",
       "      <th></th>\n",
       "      <th>#</th>\n",
       "      <th>Name</th>\n",
       "      <th>HP</th>\n",
       "      <th>Defense</th>\n",
       "      <th>Sp_Def</th>\n",
       "    </tr>\n",
       "  </thead>\n",
       "  <tbody>\n",
       "    <tr>\n",
       "      <th>0</th>\n",
       "      <td>1</td>\n",
       "      <td>Bulbasaur</td>\n",
       "      <td>45</td>\n",
       "      <td>49</td>\n",
       "      <td>65</td>\n",
       "    </tr>\n",
       "    <tr>\n",
       "      <th>1</th>\n",
       "      <td>2</td>\n",
       "      <td>Ivysaur</td>\n",
       "      <td>60</td>\n",
       "      <td>63</td>\n",
       "      <td>80</td>\n",
       "    </tr>\n",
       "    <tr>\n",
       "      <th>2</th>\n",
       "      <td>3</td>\n",
       "      <td>Venusaur</td>\n",
       "      <td>80</td>\n",
       "      <td>83</td>\n",
       "      <td>100</td>\n",
       "    </tr>\n",
       "    <tr>\n",
       "      <th>3</th>\n",
       "      <td>3</td>\n",
       "      <td>VenusaurMega Venusaur</td>\n",
       "      <td>80</td>\n",
       "      <td>123</td>\n",
       "      <td>120</td>\n",
       "    </tr>\n",
       "    <tr>\n",
       "      <th>4</th>\n",
       "      <td>4</td>\n",
       "      <td>Charmander</td>\n",
       "      <td>39</td>\n",
       "      <td>43</td>\n",
       "      <td>50</td>\n",
       "    </tr>\n",
       "  </tbody>\n",
       "</table>\n",
       "</div>"
      ],
      "text/plain": [
       "   #                   Name  HP  Defense  Sp_Def\n",
       "0  1              Bulbasaur  45       49      65\n",
       "1  2                Ivysaur  60       63      80\n",
       "2  3               Venusaur  80       83     100\n",
       "3  3  VenusaurMega Venusaur  80      123     120\n",
       "4  4             Charmander  39       43      50"
      ]
     },
     "execution_count": 65,
     "metadata": {},
     "output_type": "execute_result"
    }
   ],
   "source": [
    "defensive_stats.head()"
   ]
  },
  {
   "cell_type": "code",
   "execution_count": 66,
   "metadata": {
    "id": "Bnidkhc7I7Wq"
   },
   "outputs": [
    {
     "data": {
      "text/html": [
       "<div>\n",
       "<style scoped>\n",
       "    .dataframe tbody tr th:only-of-type {\n",
       "        vertical-align: middle;\n",
       "    }\n",
       "\n",
       "    .dataframe tbody tr th {\n",
       "        vertical-align: top;\n",
       "    }\n",
       "\n",
       "    .dataframe thead th {\n",
       "        text-align: right;\n",
       "    }\n",
       "</style>\n",
       "<table border=\"1\" class=\"dataframe\">\n",
       "  <thead>\n",
       "    <tr style=\"text-align: right;\">\n",
       "      <th></th>\n",
       "      <th>#</th>\n",
       "      <th>Name</th>\n",
       "      <th>Type_1</th>\n",
       "      <th>Type_2</th>\n",
       "      <th>Total</th>\n",
       "      <th>HP</th>\n",
       "      <th>Attack</th>\n",
       "      <th>Defense</th>\n",
       "      <th>Sp_Atk</th>\n",
       "      <th>Sp_Def</th>\n",
       "      <th>Speed</th>\n",
       "      <th>Generation</th>\n",
       "      <th>Legendary</th>\n",
       "    </tr>\n",
       "  </thead>\n",
       "  <tbody>\n",
       "    <tr>\n",
       "      <th>4</th>\n",
       "      <td>4</td>\n",
       "      <td>Charmander</td>\n",
       "      <td>Fire</td>\n",
       "      <td>NaN</td>\n",
       "      <td>309</td>\n",
       "      <td>39</td>\n",
       "      <td>52</td>\n",
       "      <td>43</td>\n",
       "      <td>60</td>\n",
       "      <td>50</td>\n",
       "      <td>65</td>\n",
       "      <td>1</td>\n",
       "      <td>False</td>\n",
       "    </tr>\n",
       "    <tr>\n",
       "      <th>5</th>\n",
       "      <td>5</td>\n",
       "      <td>Charmeleon</td>\n",
       "      <td>Fire</td>\n",
       "      <td>NaN</td>\n",
       "      <td>405</td>\n",
       "      <td>58</td>\n",
       "      <td>64</td>\n",
       "      <td>58</td>\n",
       "      <td>80</td>\n",
       "      <td>65</td>\n",
       "      <td>80</td>\n",
       "      <td>1</td>\n",
       "      <td>False</td>\n",
       "    </tr>\n",
       "    <tr>\n",
       "      <th>6</th>\n",
       "      <td>6</td>\n",
       "      <td>Charizard</td>\n",
       "      <td>Fire</td>\n",
       "      <td>Flying</td>\n",
       "      <td>534</td>\n",
       "      <td>78</td>\n",
       "      <td>84</td>\n",
       "      <td>78</td>\n",
       "      <td>109</td>\n",
       "      <td>85</td>\n",
       "      <td>100</td>\n",
       "      <td>1</td>\n",
       "      <td>False</td>\n",
       "    </tr>\n",
       "    <tr>\n",
       "      <th>7</th>\n",
       "      <td>6</td>\n",
       "      <td>CharizardMega Charizard X</td>\n",
       "      <td>Fire</td>\n",
       "      <td>Dragon</td>\n",
       "      <td>634</td>\n",
       "      <td>78</td>\n",
       "      <td>130</td>\n",
       "      <td>111</td>\n",
       "      <td>130</td>\n",
       "      <td>85</td>\n",
       "      <td>100</td>\n",
       "      <td>1</td>\n",
       "      <td>False</td>\n",
       "    </tr>\n",
       "    <tr>\n",
       "      <th>8</th>\n",
       "      <td>6</td>\n",
       "      <td>CharizardMega Charizard Y</td>\n",
       "      <td>Fire</td>\n",
       "      <td>Flying</td>\n",
       "      <td>634</td>\n",
       "      <td>78</td>\n",
       "      <td>104</td>\n",
       "      <td>78</td>\n",
       "      <td>159</td>\n",
       "      <td>115</td>\n",
       "      <td>100</td>\n",
       "      <td>1</td>\n",
       "      <td>False</td>\n",
       "    </tr>\n",
       "  </tbody>\n",
       "</table>\n",
       "</div>"
      ],
      "text/plain": [
       "   #                       Name Type_1  Type_2  Total  HP  Attack  Defense  \\\n",
       "4  4                 Charmander   Fire     NaN    309  39      52       43   \n",
       "5  5                 Charmeleon   Fire     NaN    405  58      64       58   \n",
       "6  6                  Charizard   Fire  Flying    534  78      84       78   \n",
       "7  6  CharizardMega Charizard X   Fire  Dragon    634  78     130      111   \n",
       "8  6  CharizardMega Charizard Y   Fire  Flying    634  78     104       78   \n",
       "\n",
       "   Sp_Atk  Sp_Def  Speed  Generation  Legendary  \n",
       "4      60      50     65           1      False  \n",
       "5      80      65     80           1      False  \n",
       "6     109      85    100           1      False  \n",
       "7     130      85    100           1      False  \n",
       "8     159     115    100           1      False  "
      ]
     },
     "execution_count": 66,
     "metadata": {},
     "output_type": "execute_result"
    }
   ],
   "source": [
    "fire_pkmn = pkmn[(pkmn.Type_1=='Fire')|(pkmn.Type_2=='Fire')] #filtrando apenas linhas com algumas condições\n",
    "fire_pkmn.head()"
   ]
  },
  {
   "cell_type": "code",
   "execution_count": 67,
   "metadata": {
    "id": "X5mYCPdtI7Ws"
   },
   "outputs": [
    {
     "data": {
      "text/html": [
       "<div>\n",
       "<style scoped>\n",
       "    .dataframe tbody tr th:only-of-type {\n",
       "        vertical-align: middle;\n",
       "    }\n",
       "\n",
       "    .dataframe tbody tr th {\n",
       "        vertical-align: top;\n",
       "    }\n",
       "\n",
       "    .dataframe thead th {\n",
       "        text-align: right;\n",
       "    }\n",
       "</style>\n",
       "<table border=\"1\" class=\"dataframe\">\n",
       "  <thead>\n",
       "    <tr style=\"text-align: right;\">\n",
       "      <th></th>\n",
       "      <th>#</th>\n",
       "      <th>Name</th>\n",
       "      <th>Type_1</th>\n",
       "      <th>Type_2</th>\n",
       "      <th>Total</th>\n",
       "      <th>HP</th>\n",
       "      <th>Attack</th>\n",
       "      <th>Defense</th>\n",
       "      <th>Sp_Atk</th>\n",
       "      <th>Sp_Def</th>\n",
       "      <th>Speed</th>\n",
       "      <th>Generation</th>\n",
       "      <th>Legendary</th>\n",
       "    </tr>\n",
       "  </thead>\n",
       "  <tbody>\n",
       "    <tr>\n",
       "      <th>9</th>\n",
       "      <td>7</td>\n",
       "      <td>Squirtle</td>\n",
       "      <td>Water</td>\n",
       "      <td>NaN</td>\n",
       "      <td>314</td>\n",
       "      <td>44</td>\n",
       "      <td>48</td>\n",
       "      <td>65</td>\n",
       "      <td>50</td>\n",
       "      <td>64</td>\n",
       "      <td>43</td>\n",
       "      <td>1</td>\n",
       "      <td>False</td>\n",
       "    </tr>\n",
       "    <tr>\n",
       "      <th>10</th>\n",
       "      <td>8</td>\n",
       "      <td>Wartortle</td>\n",
       "      <td>Water</td>\n",
       "      <td>NaN</td>\n",
       "      <td>405</td>\n",
       "      <td>59</td>\n",
       "      <td>63</td>\n",
       "      <td>80</td>\n",
       "      <td>65</td>\n",
       "      <td>80</td>\n",
       "      <td>58</td>\n",
       "      <td>1</td>\n",
       "      <td>False</td>\n",
       "    </tr>\n",
       "    <tr>\n",
       "      <th>11</th>\n",
       "      <td>9</td>\n",
       "      <td>Blastoise</td>\n",
       "      <td>Water</td>\n",
       "      <td>NaN</td>\n",
       "      <td>530</td>\n",
       "      <td>79</td>\n",
       "      <td>83</td>\n",
       "      <td>100</td>\n",
       "      <td>85</td>\n",
       "      <td>105</td>\n",
       "      <td>78</td>\n",
       "      <td>1</td>\n",
       "      <td>False</td>\n",
       "    </tr>\n",
       "    <tr>\n",
       "      <th>12</th>\n",
       "      <td>9</td>\n",
       "      <td>BlastoiseMega Blastoise</td>\n",
       "      <td>Water</td>\n",
       "      <td>NaN</td>\n",
       "      <td>630</td>\n",
       "      <td>79</td>\n",
       "      <td>103</td>\n",
       "      <td>120</td>\n",
       "      <td>135</td>\n",
       "      <td>115</td>\n",
       "      <td>78</td>\n",
       "      <td>1</td>\n",
       "      <td>False</td>\n",
       "    </tr>\n",
       "    <tr>\n",
       "      <th>59</th>\n",
       "      <td>54</td>\n",
       "      <td>Psyduck</td>\n",
       "      <td>Water</td>\n",
       "      <td>NaN</td>\n",
       "      <td>320</td>\n",
       "      <td>50</td>\n",
       "      <td>52</td>\n",
       "      <td>48</td>\n",
       "      <td>65</td>\n",
       "      <td>50</td>\n",
       "      <td>55</td>\n",
       "      <td>1</td>\n",
       "      <td>False</td>\n",
       "    </tr>\n",
       "  </tbody>\n",
       "</table>\n",
       "</div>"
      ],
      "text/plain": [
       "     #                     Name Type_1 Type_2  Total  HP  Attack  Defense  \\\n",
       "9    7                 Squirtle  Water    NaN    314  44      48       65   \n",
       "10   8                Wartortle  Water    NaN    405  59      63       80   \n",
       "11   9                Blastoise  Water    NaN    530  79      83      100   \n",
       "12   9  BlastoiseMega Blastoise  Water    NaN    630  79     103      120   \n",
       "59  54                  Psyduck  Water    NaN    320  50      52       48   \n",
       "\n",
       "    Sp_Atk  Sp_Def  Speed  Generation  Legendary  \n",
       "9       50      64     43           1      False  \n",
       "10      65      80     58           1      False  \n",
       "11      85     105     78           1      False  \n",
       "12     135     115     78           1      False  \n",
       "59      65      50     55           1      False  "
      ]
     },
     "execution_count": 67,
     "metadata": {},
     "output_type": "execute_result"
    }
   ],
   "source": [
    "water_pkmn = pkmn[(pkmn.Type_1=='Water')|(pkmn.Type_2=='Water')] #filtrando apenas linhas com algumas condições\n",
    "water_pkmn.head()"
   ]
  },
  {
   "cell_type": "markdown",
   "metadata": {
    "id": "_vXlgfodI7Wu"
   },
   "source": [
    "#### Exercício 3.2\n",
    "Siga as instruções e substitua os \\____ para exercitar o que aprendemos."
   ]
  },
  {
   "cell_type": "code",
   "execution_count": 68,
   "metadata": {
    "id": "QEfZ-5seI7Wu",
    "scrolled": false
   },
   "outputs": [
    {
     "data": {
      "text/html": [
       "<div>\n",
       "<style scoped>\n",
       "    .dataframe tbody tr th:only-of-type {\n",
       "        vertical-align: middle;\n",
       "    }\n",
       "\n",
       "    .dataframe tbody tr th {\n",
       "        vertical-align: top;\n",
       "    }\n",
       "\n",
       "    .dataframe thead th {\n",
       "        text-align: right;\n",
       "    }\n",
       "</style>\n",
       "<table border=\"1\" class=\"dataframe\">\n",
       "  <thead>\n",
       "    <tr style=\"text-align: right;\">\n",
       "      <th></th>\n",
       "      <th>player_name</th>\n",
       "      <th>position</th>\n",
       "      <th>nationality</th>\n",
       "    </tr>\n",
       "  </thead>\n",
       "  <tbody>\n",
       "    <tr>\n",
       "      <th>0</th>\n",
       "      <td>Pelé</td>\n",
       "      <td>CAM</td>\n",
       "      <td>Brazil</td>\n",
       "    </tr>\n",
       "    <tr>\n",
       "      <th>1</th>\n",
       "      <td>Maradona</td>\n",
       "      <td>CAM</td>\n",
       "      <td>Argentina</td>\n",
       "    </tr>\n",
       "    <tr>\n",
       "      <th>2</th>\n",
       "      <td>Ronaldo</td>\n",
       "      <td>ST</td>\n",
       "      <td>Brazil</td>\n",
       "    </tr>\n",
       "    <tr>\n",
       "      <th>3</th>\n",
       "      <td>Pelé</td>\n",
       "      <td>CF</td>\n",
       "      <td>Brazil</td>\n",
       "    </tr>\n",
       "    <tr>\n",
       "      <th>4</th>\n",
       "      <td>Maradona</td>\n",
       "      <td>CAM</td>\n",
       "      <td>Argentina</td>\n",
       "    </tr>\n",
       "  </tbody>\n",
       "</table>\n",
       "</div>"
      ],
      "text/plain": [
       "  player_name position nationality\n",
       "0        Pelé      CAM      Brazil\n",
       "1    Maradona      CAM   Argentina\n",
       "2     Ronaldo       ST      Brazil\n",
       "3        Pelé       CF      Brazil\n",
       "4    Maradona      CAM   Argentina"
      ]
     },
     "execution_count": 68,
     "metadata": {},
     "output_type": "execute_result"
    }
   ],
   "source": [
    "# Exercício 3.2.1\n",
    "# mostre as 5 primeiras linhas das colunas player_name, position e nationality\n",
    "fut_players[['player_name','position','nationality']].head()"
   ]
  },
  {
   "cell_type": "code",
   "execution_count": 69,
   "metadata": {
    "deletable": false,
    "exid": "3.2.2",
    "id": "aukfkphDI7Wx",
    "scrolled": true
   },
   "outputs": [
    {
     "name": "stdout",
     "output_type": "stream",
     "text": [
      "<class 'pandas.core.frame.DataFrame'>\n",
      "RangeIndex: 18831 entries, 0 to 18830\n",
      "Data columns (total 82 columns):\n",
      " #   Column             Non-Null Count  Dtype  \n",
      "---  ------             --------------  -----  \n",
      " 0   id                 18831 non-null  int64  \n",
      " 1   name               18831 non-null  object \n",
      " 2   extended_name      18831 non-null  object \n",
      " 3   quality            18831 non-null  object \n",
      " 4   revision           18826 non-null  object \n",
      " 5   origin             2478 non-null   object \n",
      " 6   overall            18831 non-null  int64  \n",
      " 7   club               18831 non-null  object \n",
      " 8   league             18831 non-null  object \n",
      " 9   nationality        18831 non-null  object \n",
      " 10  position           18831 non-null  object \n",
      " 11  age                18831 non-null  int64  \n",
      " 12  date_of_birth      18831 non-null  object \n",
      " 13  height             18831 non-null  int64  \n",
      " 14  weight             18831 non-null  int64  \n",
      " 15  intl_rep           18831 non-null  int64  \n",
      " 16  added_date         18831 non-null  object \n",
      " 17  pace               16882 non-null  float64\n",
      " 18  pace_acceleration  18831 non-null  int64  \n",
      " 19  pace_sprint_speed  18831 non-null  int64  \n",
      " 20  dribbling          16882 non-null  float64\n",
      " 21  drib_agility       18831 non-null  int64  \n",
      " 22  drib_balance       18831 non-null  int64  \n",
      " 23  drib_reactions     18831 non-null  int64  \n",
      " 24  drib_ball_control  18831 non-null  int64  \n",
      " 25  drib_dribbling     18831 non-null  int64  \n",
      " 26  drib_composure     18831 non-null  int64  \n",
      " 27  shooting           16882 non-null  float64\n",
      " 28  shoot_positioning  18831 non-null  int64  \n",
      " 29  shoot_finishing    18831 non-null  int64  \n",
      " 30  shoot_shot_power   18831 non-null  int64  \n",
      " 31  shoot_long_shots   18831 non-null  int64  \n",
      " 32  shoot_volleys      18831 non-null  int64  \n",
      " 33  shoot_penalties    18831 non-null  int64  \n",
      " 34  passing            16882 non-null  float64\n",
      " 35  pass_vision        18831 non-null  int64  \n",
      " 36  pass_crossing      18831 non-null  int64  \n",
      " 37  pass_free_kick     18831 non-null  int64  \n",
      " 38  pass_short         18831 non-null  int64  \n",
      " 39  pass_long          18831 non-null  int64  \n",
      " 40  pass_curve         18831 non-null  int64  \n",
      " 41  defending          16882 non-null  float64\n",
      " 42  def_interceptions  18831 non-null  int64  \n",
      " 43  def_heading        18831 non-null  int64  \n",
      " 44  def_marking        18831 non-null  int64  \n",
      " 45  def_stand_tackle   18831 non-null  int64  \n",
      " 46  def_slid_tackle    18831 non-null  int64  \n",
      " 47  physicality        16882 non-null  float64\n",
      " 48  phys_jumping       18831 non-null  int64  \n",
      " 49  phys_stamina       18831 non-null  int64  \n",
      " 50  phys_strength      18831 non-null  int64  \n",
      " 51  phys_aggression    18831 non-null  int64  \n",
      " 52  gk_diving          1949 non-null   float64\n",
      " 53  gk_reflexes        1949 non-null   float64\n",
      " 54  gk_handling        1949 non-null   float64\n",
      " 55  gk_speed           1949 non-null   float64\n",
      " 56  gk_kicking         1949 non-null   float64\n",
      " 57  gk_positoning      1949 non-null   float64\n",
      " 58  pref_foot          18831 non-null  object \n",
      " 59  att_workrate       18831 non-null  object \n",
      " 60  def_workrate       18831 non-null  object \n",
      " 61  weak_foot          18831 non-null  int64  \n",
      " 62  skill_moves        18831 non-null  int64  \n",
      " 63  cb                 16882 non-null  float64\n",
      " 64  rb                 16882 non-null  float64\n",
      " 65  lb                 16882 non-null  float64\n",
      " 66  rwb                16882 non-null  float64\n",
      " 67  lwb                16882 non-null  float64\n",
      " 68  cdm                16882 non-null  float64\n",
      " 69  cm                 16882 non-null  float64\n",
      " 70  rm                 16882 non-null  float64\n",
      " 71  lm                 16882 non-null  float64\n",
      " 72  cam                16882 non-null  float64\n",
      " 73  cf                 16882 non-null  float64\n",
      " 74  rf                 16882 non-null  float64\n",
      " 75  lf                 16882 non-null  float64\n",
      " 76  rw                 16882 non-null  float64\n",
      " 77  lw                 16882 non-null  float64\n",
      " 78  st                 16882 non-null  float64\n",
      " 79  traits             7151 non-null   object \n",
      " 80  specialities       2380 non-null   object \n",
      " 81  base_id            18831 non-null  int64  \n",
      "dtypes: float64(28), int64(38), object(16)\n",
      "memory usage: 11.8+ MB\n"
     ]
    }
   ],
   "source": [
    "# Exercício 3.2.2\n",
    "#renomeie as colunas player_id, player_name e player_extended_name para id, name e extended_name, respectivamente\n",
    "fut_players.rename(\n",
    "    columns={'player_id':'id', 'player_name':'name', 'player_extended_name':'extended_name'},\n",
    "    inplace = True\n",
    ")\n",
    "\n",
    "fut_players.info()\n",
    "\n",
    "    "
   ]
  },
  {
   "cell_type": "code",
   "execution_count": 70,
   "metadata": {
    "deletable": false,
    "exid": "3.2.3",
    "id": "ZMmFGoPmI7Wy",
    "scrolled": false
   },
   "outputs": [
    {
     "name": "stdout",
     "output_type": "stream",
     "text": [
      "      extended_name\n",
      "4533  Sandro Sirigu\n",
      "Sandro Sirigu\n"
     ]
    }
   ],
   "source": [
    "# Exercício 3.2.3 - linha, |coluna   iloc localização e loc nome    [] quer 6ª entrega 5 pkmn.iloc[:,5].head() pkmn.loc[0, :]\n",
    "#imprima a coluna extended_name do 4534º jogador (atenção: não queremos o jogador de id = 4534) usando loc e iloc\n",
    "print(fut_players.iloc[4533:4534 , 2:3])\n",
    "print(fut_players.loc[4533,'extended_name'])"
   ]
  },
  {
   "cell_type": "code",
   "execution_count": 71,
   "metadata": {
    "deletable": false,
    "exid": "3.2.4",
    "id": "vxQnswwwI7W0",
    "scrolled": false
   },
   "outputs": [
    {
     "name": "stdout",
     "output_type": "stream",
     "text": [
      "<class 'pandas.core.frame.DataFrame'>\n",
      "RangeIndex: 18831 entries, 0 to 18830\n",
      "Data columns (total 7 columns):\n",
      " #   Column       Non-Null Count  Dtype \n",
      "---  ------       --------------  ----- \n",
      " 0   id           18831 non-null  int64 \n",
      " 1   name         18831 non-null  object\n",
      " 2   overall      18831 non-null  int64 \n",
      " 3   nationality  18831 non-null  object\n",
      " 4   position     18831 non-null  object\n",
      " 5   pref_foot    18831 non-null  object\n",
      " 6   base_id      18831 non-null  int64 \n",
      "dtypes: int64(3), object(4)\n",
      "memory usage: 1.0+ MB\n"
     ]
    }
   ],
   "source": [
    "# Exercício 3.2.4\n",
    "#nosso DataFrame tem muitas colunas\n",
    "#crie outro DataFrame (fut_players_2) apenas com as colunas na lista abaixo\n",
    "selected_columns = ['id', 'name', 'overall', 'nationality', 'position', 'pref_foot', 'base_id']\n",
    "\n",
    "fut_players_2 = fut_players[['id', 'name', 'overall', 'nationality', 'position', 'pref_foot', 'base_id']]\n",
    "fut_players_2.info()"
   ]
  },
  {
   "cell_type": "code",
   "execution_count": 72,
   "metadata": {
    "deletable": false,
    "exid": "3.2.5",
    "id": "P9qX4qAmI7W2",
    "scrolled": false
   },
   "outputs": [
    {
     "data": {
      "text/html": [
       "<div>\n",
       "<style scoped>\n",
       "    .dataframe tbody tr th:only-of-type {\n",
       "        vertical-align: middle;\n",
       "    }\n",
       "\n",
       "    .dataframe tbody tr th {\n",
       "        vertical-align: top;\n",
       "    }\n",
       "\n",
       "    .dataframe thead th {\n",
       "        text-align: right;\n",
       "    }\n",
       "</style>\n",
       "<table border=\"1\" class=\"dataframe\">\n",
       "  <thead>\n",
       "    <tr style=\"text-align: right;\">\n",
       "      <th></th>\n",
       "      <th>id</th>\n",
       "      <th>name</th>\n",
       "      <th>overall</th>\n",
       "      <th>nationality</th>\n",
       "      <th>position</th>\n",
       "      <th>pref_foot</th>\n",
       "      <th>base_id</th>\n",
       "    </tr>\n",
       "  </thead>\n",
       "  <tbody>\n",
       "    <tr>\n",
       "      <th>0</th>\n",
       "      <td>1</td>\n",
       "      <td>Pelé</td>\n",
       "      <td>98</td>\n",
       "      <td>Brazil</td>\n",
       "      <td>CAM</td>\n",
       "      <td>Right</td>\n",
       "      <td>237067</td>\n",
       "    </tr>\n",
       "    <tr>\n",
       "      <th>2</th>\n",
       "      <td>3</td>\n",
       "      <td>Ronaldo</td>\n",
       "      <td>96</td>\n",
       "      <td>Brazil</td>\n",
       "      <td>ST</td>\n",
       "      <td>Right</td>\n",
       "      <td>37576</td>\n",
       "    </tr>\n",
       "    <tr>\n",
       "      <th>3</th>\n",
       "      <td>4</td>\n",
       "      <td>Pelé</td>\n",
       "      <td>95</td>\n",
       "      <td>Brazil</td>\n",
       "      <td>CF</td>\n",
       "      <td>Right</td>\n",
       "      <td>237068</td>\n",
       "    </tr>\n",
       "    <tr>\n",
       "      <th>6</th>\n",
       "      <td>7</td>\n",
       "      <td>Ronaldo</td>\n",
       "      <td>94</td>\n",
       "      <td>Brazil</td>\n",
       "      <td>ST</td>\n",
       "      <td>Right</td>\n",
       "      <td>237064</td>\n",
       "    </tr>\n",
       "    <tr>\n",
       "      <th>8</th>\n",
       "      <td>9</td>\n",
       "      <td>Ronaldinho</td>\n",
       "      <td>94</td>\n",
       "      <td>Brazil</td>\n",
       "      <td>LW</td>\n",
       "      <td>Right</td>\n",
       "      <td>28130</td>\n",
       "    </tr>\n",
       "    <tr>\n",
       "      <th>37</th>\n",
       "      <td>38</td>\n",
       "      <td>Ronaldinho</td>\n",
       "      <td>91</td>\n",
       "      <td>Brazil</td>\n",
       "      <td>CAM</td>\n",
       "      <td>Right</td>\n",
       "      <td>238395</td>\n",
       "    </tr>\n",
       "    <tr>\n",
       "      <th>48</th>\n",
       "      <td>49</td>\n",
       "      <td>Pelé</td>\n",
       "      <td>91</td>\n",
       "      <td>Brazil</td>\n",
       "      <td>CF</td>\n",
       "      <td>Right</td>\n",
       "      <td>190043</td>\n",
       "    </tr>\n",
       "    <tr>\n",
       "      <th>51</th>\n",
       "      <td>52</td>\n",
       "      <td>Carlos</td>\n",
       "      <td>91</td>\n",
       "      <td>Brazil</td>\n",
       "      <td>LB</td>\n",
       "      <td>Left</td>\n",
       "      <td>238430</td>\n",
       "    </tr>\n",
       "    <tr>\n",
       "      <th>826</th>\n",
       "      <td>846</td>\n",
       "      <td>Neymar Jr</td>\n",
       "      <td>92</td>\n",
       "      <td>Brazil</td>\n",
       "      <td>LW</td>\n",
       "      <td>Right</td>\n",
       "      <td>190871</td>\n",
       "    </tr>\n",
       "    <tr>\n",
       "      <th>12632</th>\n",
       "      <td>13091</td>\n",
       "      <td>Rivaldo</td>\n",
       "      <td>92</td>\n",
       "      <td>Brazil</td>\n",
       "      <td>LW</td>\n",
       "      <td>Left</td>\n",
       "      <td>4231</td>\n",
       "    </tr>\n",
       "    <tr>\n",
       "      <th>12637</th>\n",
       "      <td>13096</td>\n",
       "      <td>Sócrates</td>\n",
       "      <td>91</td>\n",
       "      <td>Brazil</td>\n",
       "      <td>CAM</td>\n",
       "      <td>Right</td>\n",
       "      <td>190046</td>\n",
       "    </tr>\n",
       "    <tr>\n",
       "      <th>16491</th>\n",
       "      <td>16951</td>\n",
       "      <td>Neymar Jr</td>\n",
       "      <td>93</td>\n",
       "      <td>Brazil</td>\n",
       "      <td>LW</td>\n",
       "      <td>Right</td>\n",
       "      <td>190871</td>\n",
       "    </tr>\n",
       "    <tr>\n",
       "      <th>16551</th>\n",
       "      <td>17014</td>\n",
       "      <td>Neymar Jr</td>\n",
       "      <td>93</td>\n",
       "      <td>Brazil</td>\n",
       "      <td>LF</td>\n",
       "      <td>Right</td>\n",
       "      <td>190871</td>\n",
       "    </tr>\n",
       "    <tr>\n",
       "      <th>16923</th>\n",
       "      <td>17388</td>\n",
       "      <td>Neymar Jr</td>\n",
       "      <td>94</td>\n",
       "      <td>Brazil</td>\n",
       "      <td>CAM</td>\n",
       "      <td>Right</td>\n",
       "      <td>190871</td>\n",
       "    </tr>\n",
       "    <tr>\n",
       "      <th>17139</th>\n",
       "      <td>17604</td>\n",
       "      <td>Marcelo</td>\n",
       "      <td>94</td>\n",
       "      <td>Brazil</td>\n",
       "      <td>LB</td>\n",
       "      <td>Left</td>\n",
       "      <td>176676</td>\n",
       "    </tr>\n",
       "  </tbody>\n",
       "</table>\n",
       "</div>"
      ],
      "text/plain": [
       "          id        name  overall nationality position pref_foot  base_id\n",
       "0          1        Pelé       98      Brazil      CAM     Right   237067\n",
       "2          3     Ronaldo       96      Brazil       ST     Right    37576\n",
       "3          4        Pelé       95      Brazil       CF     Right   237068\n",
       "6          7     Ronaldo       94      Brazil       ST     Right   237064\n",
       "8          9  Ronaldinho       94      Brazil       LW     Right    28130\n",
       "37        38  Ronaldinho       91      Brazil      CAM     Right   238395\n",
       "48        49        Pelé       91      Brazil       CF     Right   190043\n",
       "51        52      Carlos       91      Brazil       LB      Left   238430\n",
       "826      846   Neymar Jr       92      Brazil       LW     Right   190871\n",
       "12632  13091     Rivaldo       92      Brazil       LW      Left     4231\n",
       "12637  13096    Sócrates       91      Brazil      CAM     Right   190046\n",
       "16491  16951   Neymar Jr       93      Brazil       LW     Right   190871\n",
       "16551  17014   Neymar Jr       93      Brazil       LF     Right   190871\n",
       "16923  17388   Neymar Jr       94      Brazil      CAM     Right   190871\n",
       "17139  17604     Marcelo       94      Brazil       LB      Left   176676"
      ]
     },
     "execution_count": 72,
     "metadata": {},
     "output_type": "execute_result"
    }
   ],
   "source": [
    "# Exercício 3.2.5\n",
    "#queremos ver os melhores jogadores nascidos no Brasil (Brazil), isto é, aqueles com médio (overall) acima de 90\n",
    "#mostre os 15 primeiros\n",
    "aux_1 = fut_players_2[(fut_players_2.nationality=='Brazil') &(fut_players_2.overall>90)]\n",
    "aux_1.head(15)"
   ]
  },
  {
   "cell_type": "code",
   "execution_count": 73,
   "metadata": {
    "deletable": false,
    "exid": "3.2.6",
    "id": "mlSiit9ZI7W5",
    "scrolled": false
   },
   "outputs": [
    {
     "data": {
      "text/html": [
       "<div>\n",
       "<style scoped>\n",
       "    .dataframe tbody tr th:only-of-type {\n",
       "        vertical-align: middle;\n",
       "    }\n",
       "\n",
       "    .dataframe tbody tr th {\n",
       "        vertical-align: top;\n",
       "    }\n",
       "\n",
       "    .dataframe thead th {\n",
       "        text-align: right;\n",
       "    }\n",
       "</style>\n",
       "<table border=\"1\" class=\"dataframe\">\n",
       "  <thead>\n",
       "    <tr style=\"text-align: right;\">\n",
       "      <th></th>\n",
       "      <th>id</th>\n",
       "      <th>name</th>\n",
       "      <th>overall</th>\n",
       "      <th>nationality</th>\n",
       "      <th>position</th>\n",
       "      <th>pref_foot</th>\n",
       "      <th>base_id</th>\n",
       "    </tr>\n",
       "  </thead>\n",
       "  <tbody>\n",
       "    <tr>\n",
       "      <th>51</th>\n",
       "      <td>52</td>\n",
       "      <td>Carlos</td>\n",
       "      <td>91</td>\n",
       "      <td>Brazil</td>\n",
       "      <td>LB</td>\n",
       "      <td>Left</td>\n",
       "      <td>238430</td>\n",
       "    </tr>\n",
       "    <tr>\n",
       "      <th>90</th>\n",
       "      <td>91</td>\n",
       "      <td>Carlos</td>\n",
       "      <td>88</td>\n",
       "      <td>Brazil</td>\n",
       "      <td>LB</td>\n",
       "      <td>Left</td>\n",
       "      <td>1040</td>\n",
       "    </tr>\n",
       "    <tr>\n",
       "      <th>121</th>\n",
       "      <td>122</td>\n",
       "      <td>Carlos</td>\n",
       "      <td>86</td>\n",
       "      <td>Brazil</td>\n",
       "      <td>LB</td>\n",
       "      <td>Left</td>\n",
       "      <td>237071</td>\n",
       "    </tr>\n",
       "    <tr>\n",
       "      <th>148</th>\n",
       "      <td>149</td>\n",
       "      <td>Alex Sandro</td>\n",
       "      <td>87</td>\n",
       "      <td>Brazil</td>\n",
       "      <td>LB</td>\n",
       "      <td>Left</td>\n",
       "      <td>191043</td>\n",
       "    </tr>\n",
       "    <tr>\n",
       "      <th>150</th>\n",
       "      <td>151</td>\n",
       "      <td>Douglas Costa</td>\n",
       "      <td>87</td>\n",
       "      <td>Brazil</td>\n",
       "      <td>LM</td>\n",
       "      <td>Left</td>\n",
       "      <td>190483</td>\n",
       "    </tr>\n",
       "    <tr>\n",
       "      <th>153</th>\n",
       "      <td>154</td>\n",
       "      <td>Douglas Costa</td>\n",
       "      <td>86</td>\n",
       "      <td>Brazil</td>\n",
       "      <td>LM</td>\n",
       "      <td>Left</td>\n",
       "      <td>190483</td>\n",
       "    </tr>\n",
       "    <tr>\n",
       "      <th>154</th>\n",
       "      <td>155</td>\n",
       "      <td>Alex Sandro</td>\n",
       "      <td>86</td>\n",
       "      <td>Brazil</td>\n",
       "      <td>LB</td>\n",
       "      <td>Left</td>\n",
       "      <td>191043</td>\n",
       "    </tr>\n",
       "    <tr>\n",
       "      <th>246</th>\n",
       "      <td>250</td>\n",
       "      <td>Fred</td>\n",
       "      <td>83</td>\n",
       "      <td>Brazil</td>\n",
       "      <td>CM</td>\n",
       "      <td>Left</td>\n",
       "      <td>209297</td>\n",
       "    </tr>\n",
       "    <tr>\n",
       "      <th>257</th>\n",
       "      <td>261</td>\n",
       "      <td>Fred</td>\n",
       "      <td>82</td>\n",
       "      <td>Brazil</td>\n",
       "      <td>CM</td>\n",
       "      <td>Left</td>\n",
       "      <td>209297</td>\n",
       "    </tr>\n",
       "    <tr>\n",
       "      <th>292</th>\n",
       "      <td>298</td>\n",
       "      <td>Ederson</td>\n",
       "      <td>87</td>\n",
       "      <td>Brazil</td>\n",
       "      <td>GK</td>\n",
       "      <td>Left</td>\n",
       "      <td>210257</td>\n",
       "    </tr>\n",
       "    <tr>\n",
       "      <th>296</th>\n",
       "      <td>302</td>\n",
       "      <td>Ederson</td>\n",
       "      <td>86</td>\n",
       "      <td>Brazil</td>\n",
       "      <td>GK</td>\n",
       "      <td>Left</td>\n",
       "      <td>210257</td>\n",
       "    </tr>\n",
       "    <tr>\n",
       "      <th>356</th>\n",
       "      <td>362</td>\n",
       "      <td>Malcom</td>\n",
       "      <td>84</td>\n",
       "      <td>Brazil</td>\n",
       "      <td>RW</td>\n",
       "      <td>Left</td>\n",
       "      <td>222737</td>\n",
       "    </tr>\n",
       "    <tr>\n",
       "      <th>358</th>\n",
       "      <td>364</td>\n",
       "      <td>Malcom</td>\n",
       "      <td>83</td>\n",
       "      <td>Brazil</td>\n",
       "      <td>RW</td>\n",
       "      <td>Left</td>\n",
       "      <td>222737</td>\n",
       "    </tr>\n",
       "    <tr>\n",
       "      <th>359</th>\n",
       "      <td>365</td>\n",
       "      <td>Rafinha</td>\n",
       "      <td>83</td>\n",
       "      <td>Brazil</td>\n",
       "      <td>CAM</td>\n",
       "      <td>Left</td>\n",
       "      <td>201400</td>\n",
       "    </tr>\n",
       "    <tr>\n",
       "      <th>363</th>\n",
       "      <td>369</td>\n",
       "      <td>Rafinha</td>\n",
       "      <td>82</td>\n",
       "      <td>Brazil</td>\n",
       "      <td>CAM</td>\n",
       "      <td>Left</td>\n",
       "      <td>201400</td>\n",
       "    </tr>\n",
       "    <tr>\n",
       "      <th>458</th>\n",
       "      <td>465</td>\n",
       "      <td>Alisson</td>\n",
       "      <td>86</td>\n",
       "      <td>Brazil</td>\n",
       "      <td>GK</td>\n",
       "      <td>Right</td>\n",
       "      <td>212831</td>\n",
       "    </tr>\n",
       "    <tr>\n",
       "      <th>464</th>\n",
       "      <td>471</td>\n",
       "      <td>Alisson</td>\n",
       "      <td>85</td>\n",
       "      <td>Brazil</td>\n",
       "      <td>GK</td>\n",
       "      <td>Right</td>\n",
       "      <td>212831</td>\n",
       "    </tr>\n",
       "    <tr>\n",
       "      <th>588</th>\n",
       "      <td>599</td>\n",
       "      <td>Marcelo</td>\n",
       "      <td>89</td>\n",
       "      <td>Brazil</td>\n",
       "      <td>LB</td>\n",
       "      <td>Left</td>\n",
       "      <td>176676</td>\n",
       "    </tr>\n",
       "    <tr>\n",
       "      <th>592</th>\n",
       "      <td>603</td>\n",
       "      <td>Marcelo</td>\n",
       "      <td>88</td>\n",
       "      <td>Brazil</td>\n",
       "      <td>LB</td>\n",
       "      <td>Left</td>\n",
       "      <td>176676</td>\n",
       "    </tr>\n",
       "    <tr>\n",
       "      <th>682</th>\n",
       "      <td>699</td>\n",
       "      <td>Raphinha</td>\n",
       "      <td>79</td>\n",
       "      <td>Brazil</td>\n",
       "      <td>RM</td>\n",
       "      <td>Left</td>\n",
       "      <td>233419</td>\n",
       "    </tr>\n",
       "  </tbody>\n",
       "</table>\n",
       "</div>"
      ],
      "text/plain": [
       "      id           name  overall nationality position pref_foot  base_id\n",
       "51    52         Carlos       91      Brazil       LB      Left   238430\n",
       "90    91         Carlos       88      Brazil       LB      Left     1040\n",
       "121  122         Carlos       86      Brazil       LB      Left   237071\n",
       "148  149    Alex Sandro       87      Brazil       LB      Left   191043\n",
       "150  151  Douglas Costa       87      Brazil       LM      Left   190483\n",
       "153  154  Douglas Costa       86      Brazil       LM      Left   190483\n",
       "154  155    Alex Sandro       86      Brazil       LB      Left   191043\n",
       "246  250           Fred       83      Brazil       CM      Left   209297\n",
       "257  261           Fred       82      Brazil       CM      Left   209297\n",
       "292  298        Ederson       87      Brazil       GK      Left   210257\n",
       "296  302        Ederson       86      Brazil       GK      Left   210257\n",
       "356  362         Malcom       84      Brazil       RW      Left   222737\n",
       "358  364         Malcom       83      Brazil       RW      Left   222737\n",
       "359  365        Rafinha       83      Brazil      CAM      Left   201400\n",
       "363  369        Rafinha       82      Brazil      CAM      Left   201400\n",
       "458  465        Alisson       86      Brazil       GK     Right   212831\n",
       "464  471        Alisson       85      Brazil       GK     Right   212831\n",
       "588  599        Marcelo       89      Brazil       LB      Left   176676\n",
       "592  603        Marcelo       88      Brazil       LB      Left   176676\n",
       "682  699       Raphinha       79      Brazil       RM      Left   233419"
      ]
     },
     "execution_count": 73,
     "metadata": {},
     "output_type": "execute_result"
    }
   ],
   "source": [
    "# Exercício 3.2.6\n",
    "#vários jogadores bons!\n",
    "#agora mostre os jogadores brasileiros que sejam canhotos (pref_foot é Left) ou brasileiros que sejam goleiros (position é GK)\n",
    "aux_2 = fut_players_2[(fut_players_2.nationality=='Brazil') & (fut_players_2.pref_foot=='Left') | (fut_players_2.nationality=='Brazil') & (fut_players_2.position=='GK')]\n",
    "aux_2.head(20)"
   ]
  },
  {
   "cell_type": "markdown",
   "metadata": {
    "id": "MOgvn0beI7W7"
   },
   "source": [
    "### 3.4. Juntando DataFrames\n",
    "\n",
    "É muito comum ter a necessidade de juntar *DataFrames* diferentes. Se você já utilizou SQL ou qualquer outro banco de dados relacional, deve conhecer isso como *join*. O Pandas também tem a mesma função utilizando o método *.merge()*. Antes do exemplo, vamos aprender/relembrar os tipos de *joins* mais comuns:<br>\n",
    "![Joining Methods](https://i.imgur.com/HaSBT91.jpg) <br>\n",
    "Agora, vamos carregar um DataFrame mais simples para testar os tipos de *merge*."
   ]
  },
  {
   "cell_type": "code",
   "execution_count": 74,
   "metadata": {
    "scrolled": true
   },
   "outputs": [
    {
     "name": "stdout",
     "output_type": "stream",
     "text": [
      "<class 'pandas.core.frame.DataFrame'>\n",
      "RangeIndex: 5000 entries, 0 to 4999\n",
      "Data columns (total 7 columns):\n",
      " #   Column     Non-Null Count  Dtype \n",
      "---  ------     --------------  ----- \n",
      " 0   id         5000 non-null   int64 \n",
      " 1   band_name  5000 non-null   object\n",
      " 2   fans       5000 non-null   int64 \n",
      " 3   formed     5000 non-null   object\n",
      " 4   origin     4992 non-null   object\n",
      " 5   split      5000 non-null   object\n",
      " 6   style      5000 non-null   object\n",
      "dtypes: int64(2), object(5)\n",
      "memory usage: 273.6+ KB\n"
     ]
    },
    {
     "data": {
      "text/html": [
       "<div>\n",
       "<style scoped>\n",
       "    .dataframe tbody tr th:only-of-type {\n",
       "        vertical-align: middle;\n",
       "    }\n",
       "\n",
       "    .dataframe tbody tr th {\n",
       "        vertical-align: top;\n",
       "    }\n",
       "\n",
       "    .dataframe thead th {\n",
       "        text-align: right;\n",
       "    }\n",
       "</style>\n",
       "<table border=\"1\" class=\"dataframe\">\n",
       "  <thead>\n",
       "    <tr style=\"text-align: right;\">\n",
       "      <th></th>\n",
       "      <th>id</th>\n",
       "      <th>band_name</th>\n",
       "      <th>fans</th>\n",
       "      <th>formed</th>\n",
       "      <th>origin</th>\n",
       "      <th>split</th>\n",
       "      <th>style</th>\n",
       "    </tr>\n",
       "  </thead>\n",
       "  <tbody>\n",
       "    <tr>\n",
       "      <th>0</th>\n",
       "      <td>0</td>\n",
       "      <td>Iron Maiden</td>\n",
       "      <td>4195</td>\n",
       "      <td>1975</td>\n",
       "      <td>United Kingdom</td>\n",
       "      <td>-</td>\n",
       "      <td>New wave of british heavy,Heavy</td>\n",
       "    </tr>\n",
       "    <tr>\n",
       "      <th>1</th>\n",
       "      <td>1</td>\n",
       "      <td>Opeth</td>\n",
       "      <td>4147</td>\n",
       "      <td>1990</td>\n",
       "      <td>Sweden</td>\n",
       "      <td>1990</td>\n",
       "      <td>Extreme progressive,Progressive rock,Progressive</td>\n",
       "    </tr>\n",
       "    <tr>\n",
       "      <th>2</th>\n",
       "      <td>2</td>\n",
       "      <td>Metallica</td>\n",
       "      <td>3712</td>\n",
       "      <td>1981</td>\n",
       "      <td>USA</td>\n",
       "      <td>-</td>\n",
       "      <td>Heavy,Bay area thrash</td>\n",
       "    </tr>\n",
       "    <tr>\n",
       "      <th>3</th>\n",
       "      <td>3</td>\n",
       "      <td>Megadeth</td>\n",
       "      <td>3105</td>\n",
       "      <td>1983</td>\n",
       "      <td>USA</td>\n",
       "      <td>1983</td>\n",
       "      <td>Thrash,Heavy,Hard rock</td>\n",
       "    </tr>\n",
       "    <tr>\n",
       "      <th>4</th>\n",
       "      <td>4</td>\n",
       "      <td>Amon Amarth</td>\n",
       "      <td>3054</td>\n",
       "      <td>1988</td>\n",
       "      <td>Sweden</td>\n",
       "      <td>-</td>\n",
       "      <td>Melodic death</td>\n",
       "    </tr>\n",
       "  </tbody>\n",
       "</table>\n",
       "</div>"
      ],
      "text/plain": [
       "   id    band_name  fans formed          origin split  \\\n",
       "0   0  Iron Maiden  4195   1975  United Kingdom     -   \n",
       "1   1        Opeth  4147   1990          Sweden  1990   \n",
       "2   2    Metallica  3712   1981             USA     -   \n",
       "3   3     Megadeth  3105   1983             USA  1983   \n",
       "4   4  Amon Amarth  3054   1988          Sweden     -   \n",
       "\n",
       "                                              style  \n",
       "0                   New wave of british heavy,Heavy  \n",
       "1  Extreme progressive,Progressive rock,Progressive  \n",
       "2                             Heavy,Bay area thrash  \n",
       "3                            Thrash,Heavy,Hard rock  \n",
       "4                                     Melodic death  "
      ]
     },
     "execution_count": 74,
     "metadata": {},
     "output_type": "execute_result"
    }
   ],
   "source": [
    "#Execute esta célula para carregar o dataframe metal_bands com dados de bandas de metal\n",
    "metal_bands = pd.read_csv('metal_bands.csv', encoding='latin')\n",
    "metal_bands.info()\n",
    "metal_bands.head()"
   ]
  },
  {
   "cell_type": "markdown",
   "metadata": {},
   "source": [
    "Assim como criamos os dataframes *offensive_stats*, *defensive_stats*, *fire_pkmn* e *water_pkmn*, vamos separar alguns dataframes a partir de *metal_bands* para testar os merges. Observe a célula abaixo."
   ]
  },
  {
   "cell_type": "code",
   "execution_count": 75,
   "metadata": {},
   "outputs": [],
   "source": [
    "bands_origin = metal_bands[['id','band_name','formed','origin']] #ano de formação e país das bandas\n",
    "bands_style = metal_bands[['id','band_name','style']] #estilo das bandas\n",
    "\n",
    "bands_split = metal_bands[metal_bands['split']!='-'][['id','band_name','split']] #bandas que se separaram\n",
    "bands_4000_fans = metal_bands[metal_bands['fans']>4000][['id','band_name','fans']] #bandas com mais de 4000 fans\n",
    "bands_USA = metal_bands[metal_bands['origin']=='USA'][['id','band_name','formed','origin']] #bandas formadas nos EUA\n",
    "bands_Sweden = metal_bands[metal_bands['origin']=='Sweden'][['id','band_name','formed','origin']] #bandas formadas na Suécia"
   ]
  },
  {
   "cell_type": "markdown",
   "metadata": {},
   "source": [
    "Vamos criar um DataFrame a partir de ```bands_origin``` e ```bands_split```, utilizando *merge*."
   ]
  },
  {
   "cell_type": "code",
   "execution_count": 76,
   "metadata": {},
   "outputs": [
    {
     "name": "stdout",
     "output_type": "stream",
     "text": [
      "<class 'pandas.core.frame.DataFrame'>\n",
      "Int64Index: 2785 entries, 0 to 2784\n",
      "Data columns (total 6 columns):\n",
      " #   Column       Non-Null Count  Dtype \n",
      "---  ------       --------------  ----- \n",
      " 0   id           2785 non-null   int64 \n",
      " 1   band_name_x  2785 non-null   object\n",
      " 2   formed       2785 non-null   object\n",
      " 3   origin       2782 non-null   object\n",
      " 4   band_name_y  2785 non-null   object\n",
      " 5   split        2785 non-null   object\n",
      "dtypes: int64(1), object(5)\n",
      "memory usage: 152.3+ KB\n"
     ]
    },
    {
     "data": {
      "text/html": [
       "<div>\n",
       "<style scoped>\n",
       "    .dataframe tbody tr th:only-of-type {\n",
       "        vertical-align: middle;\n",
       "    }\n",
       "\n",
       "    .dataframe tbody tr th {\n",
       "        vertical-align: top;\n",
       "    }\n",
       "\n",
       "    .dataframe thead th {\n",
       "        text-align: right;\n",
       "    }\n",
       "</style>\n",
       "<table border=\"1\" class=\"dataframe\">\n",
       "  <thead>\n",
       "    <tr style=\"text-align: right;\">\n",
       "      <th></th>\n",
       "      <th>id</th>\n",
       "      <th>band_name_x</th>\n",
       "      <th>formed</th>\n",
       "      <th>origin</th>\n",
       "      <th>band_name_y</th>\n",
       "      <th>split</th>\n",
       "    </tr>\n",
       "  </thead>\n",
       "  <tbody>\n",
       "    <tr>\n",
       "      <th>0</th>\n",
       "      <td>1</td>\n",
       "      <td>Opeth</td>\n",
       "      <td>1990</td>\n",
       "      <td>Sweden</td>\n",
       "      <td>Opeth</td>\n",
       "      <td>1990</td>\n",
       "    </tr>\n",
       "    <tr>\n",
       "      <th>1</th>\n",
       "      <td>3</td>\n",
       "      <td>Megadeth</td>\n",
       "      <td>1983</td>\n",
       "      <td>USA</td>\n",
       "      <td>Megadeth</td>\n",
       "      <td>1983</td>\n",
       "    </tr>\n",
       "    <tr>\n",
       "      <th>2</th>\n",
       "      <td>5</td>\n",
       "      <td>Slayer</td>\n",
       "      <td>1981</td>\n",
       "      <td>USA</td>\n",
       "      <td>Slayer</td>\n",
       "      <td>1981</td>\n",
       "    </tr>\n",
       "    <tr>\n",
       "      <th>3</th>\n",
       "      <td>6</td>\n",
       "      <td>Death</td>\n",
       "      <td>1983</td>\n",
       "      <td>USA</td>\n",
       "      <td>Death</td>\n",
       "      <td>2001</td>\n",
       "    </tr>\n",
       "    <tr>\n",
       "      <th>4</th>\n",
       "      <td>7</td>\n",
       "      <td>Dream Theater</td>\n",
       "      <td>1985</td>\n",
       "      <td>USA</td>\n",
       "      <td>Dream Theater</td>\n",
       "      <td>1985</td>\n",
       "    </tr>\n",
       "  </tbody>\n",
       "</table>\n",
       "</div>"
      ],
      "text/plain": [
       "   id    band_name_x formed  origin    band_name_y split\n",
       "0   1          Opeth   1990  Sweden          Opeth  1990\n",
       "1   3       Megadeth   1983     USA       Megadeth  1983\n",
       "2   5         Slayer   1981     USA         Slayer  1981\n",
       "3   6          Death   1983     USA          Death  2001\n",
       "4   7  Dream Theater   1985     USA  Dream Theater  1985"
      ]
     },
     "execution_count": 76,
     "metadata": {},
     "output_type": "execute_result"
    }
   ],
   "source": [
    "origin_split = pd.merge(\n",
    "    bands_origin, #o DataFrame da esquerda\n",
    "    bands_split, #o DataFrame da direita\n",
    "    how='inner', #o tipo de join que queremos fazer\n",
    "    on='id') #baseado em quais valores em comum (chave)\n",
    "origin_split.info()\n",
    "origin_split.head()"
   ]
  },
  {
   "cell_type": "markdown",
   "metadata": {},
   "source": [
    "Ótimo! Conseguimos fazer o *merge* (termo mais utilizado no Pandas) de dois *DataFrames*. Observe que utilizamos o argumento ```how='inner'```. Lembre-se que *inner*, *left*, *right* e *outer* terão resultados diferentes, observe os merges abaixo e a explicação ao final."
   ]
  },
  {
   "cell_type": "code",
   "execution_count": 77,
   "metadata": {},
   "outputs": [
    {
     "name": "stdout",
     "output_type": "stream",
     "text": [
      "<class 'pandas.core.frame.DataFrame'>\n",
      "Int64Index: 5000 entries, 0 to 4999\n",
      "Data columns (total 6 columns):\n",
      " #   Column       Non-Null Count  Dtype \n",
      "---  ------       --------------  ----- \n",
      " 0   id           5000 non-null   int64 \n",
      " 1   band_name_x  5000 non-null   object\n",
      " 2   formed       5000 non-null   object\n",
      " 3   origin       4992 non-null   object\n",
      " 4   band_name_y  2785 non-null   object\n",
      " 5   split        2785 non-null   object\n",
      "dtypes: int64(1), object(5)\n",
      "memory usage: 273.4+ KB\n"
     ]
    }
   ],
   "source": [
    "left_origin_split = pd.merge(bands_origin, bands_split, how='left', on='id')\n",
    "left_origin_split.info()"
   ]
  },
  {
   "cell_type": "code",
   "execution_count": 78,
   "metadata": {},
   "outputs": [
    {
     "name": "stdout",
     "output_type": "stream",
     "text": [
      "<class 'pandas.core.frame.DataFrame'>\n",
      "Int64Index: 2785 entries, 0 to 2784\n",
      "Data columns (total 6 columns):\n",
      " #   Column       Non-Null Count  Dtype \n",
      "---  ------       --------------  ----- \n",
      " 0   id           2785 non-null   int64 \n",
      " 1   band_name_x  2785 non-null   object\n",
      " 2   formed       2785 non-null   object\n",
      " 3   origin       2782 non-null   object\n",
      " 4   band_name_y  2785 non-null   object\n",
      " 5   split        2785 non-null   object\n",
      "dtypes: int64(1), object(5)\n",
      "memory usage: 152.3+ KB\n"
     ]
    }
   ],
   "source": [
    "right_origin_split = pd.merge(bands_origin, bands_split, how='right', on='id')\n",
    "right_origin_split.info()"
   ]
  },
  {
   "cell_type": "code",
   "execution_count": 79,
   "metadata": {},
   "outputs": [
    {
     "name": "stdout",
     "output_type": "stream",
     "text": [
      "Numero de linhas do DataFrame bands_4000_fans: 4\n",
      "Numero de linhas do DataFrame bands_USA: 1139\n",
      "----------------------------------------------\n",
      "<class 'pandas.core.frame.DataFrame'>\n",
      "Int64Index: 1143 entries, 0 to 1142\n",
      "Data columns (total 6 columns):\n",
      " #   Column       Non-Null Count  Dtype  \n",
      "---  ------       --------------  -----  \n",
      " 0   id           1143 non-null   int64  \n",
      " 1   band_name_x  4 non-null      object \n",
      " 2   fans         4 non-null      float64\n",
      " 3   band_name_y  1139 non-null   object \n",
      " 4   formed       1139 non-null   object \n",
      " 5   origin       1139 non-null   object \n",
      "dtypes: float64(1), int64(1), object(4)\n",
      "memory usage: 62.5+ KB\n"
     ]
    }
   ],
   "source": [
    "print('Numero de linhas do DataFrame bands_4000_fans:', bands_4000_fans.shape[0])\n",
    "print('Numero de linhas do DataFrame bands_USA:', bands_USA.shape[0])\n",
    "print('----------------------------------------------')\n",
    "outer_origin_split = pd.merge(bands_4000_fans, bands_USA, how='outer', on='id')\n",
    "outer_origin_split.info()"
   ]
  },
  {
   "cell_type": "markdown",
   "metadata": {},
   "source": [
    "Como podemos ver com o resultado do método *.info()*, os resultados são de fato bem diferentes.\n",
    "\n",
    "O *inner* mantém apenas os dados das bandas encontradas nos dois dataframes (onde há correspondência de *id*), dessa forma, a posição do dataframe não faz diferença.\n",
    "\n",
    "No *left*, mantemos os dados do dataframe à esquerda, e trazemos os dados do dataframe à direita no qual encontrou-se a chave (neste exemplo, o *id* da banda).\n",
    "\n",
    "Por outro lado, no *right* ocorre o contrário, mantemos os dados do dataframe à direita e, quando há correspondência da chave, trazemos os dados do dataframe à esquerda. Note que o número de entradas (*entries*) é diferente do caso com o *left*. Isso ocorre porque no *left* mantemos os dados de formação das bandas (ou seja, o dataframe contém todas as bandas do .csv), enquanto no *right*, mantemos apenas os dados de bandas que se separaram (e existem muitas bandas que ainda continuam juntas).\n",
    "\n",
    "Por fim, no *outer* utilizamos dois dataframes diferentes dos anteriores para facilitar o entendimento. Observe pelos prints que existem apenas 4 bandas com mais de 4000 fans e 1139 bandas formadas nos EUA. Quando fazemos o *merge* com *outer*, observe que o total de linhas passa a ser 1143. O que acontece é que esse tipo de join mantém os dados de ambos os dataframes, independente se houve correspondência de chave ou não.\n",
    "\n",
    "Podemos também querer apenas concatenar dois *DataDrames*, isto é, juntá-los colocando um abaixo ou ao lado do outro. Para isso, utilizamos o método *.concat()*:"
   ]
  },
  {
   "cell_type": "code",
   "execution_count": 80,
   "metadata": {},
   "outputs": [
    {
     "name": "stdout",
     "output_type": "stream",
     "text": [
      "<class 'pandas.core.frame.DataFrame'>\n",
      "RangeIndex: 1615 entries, 0 to 1614\n",
      "Data columns (total 4 columns):\n",
      " #   Column     Non-Null Count  Dtype \n",
      "---  ------     --------------  ----- \n",
      " 0   id         1615 non-null   int64 \n",
      " 1   band_name  1615 non-null   object\n",
      " 2   formed     1615 non-null   object\n",
      " 3   origin     1615 non-null   object\n",
      "dtypes: int64(1), object(3)\n",
      "memory usage: 50.6+ KB\n"
     ]
    }
   ],
   "source": [
    "USA_Sweden = pd.concat([bands_USA, bands_Sweden], ignore_index=True) #concatenando bandas formadas nos EUA e bandas formadas na Suécia\n",
    "USA_Sweden.info()"
   ]
  },
  {
   "cell_type": "markdown",
   "metadata": {
    "id": "qIZ2uxCfI7XI"
   },
   "source": [
    "Acima fizemos a concatenação vertical. Vamos fazer a horizontal abaixo:"
   ]
  },
  {
   "cell_type": "code",
   "execution_count": 81,
   "metadata": {},
   "outputs": [
    {
     "name": "stdout",
     "output_type": "stream",
     "text": [
      "<class 'pandas.core.frame.DataFrame'>\n",
      "RangeIndex: 5000 entries, 0 to 4999\n",
      "Data columns (total 7 columns):\n",
      " #   Column     Non-Null Count  Dtype \n",
      "---  ------     --------------  ----- \n",
      " 0   id         5000 non-null   int64 \n",
      " 1   band_name  5000 non-null   object\n",
      " 2   formed     5000 non-null   object\n",
      " 3   origin     4992 non-null   object\n",
      " 4   id         5000 non-null   int64 \n",
      " 5   band_name  5000 non-null   object\n",
      " 6   style      5000 non-null   object\n",
      "dtypes: int64(2), object(5)\n",
      "memory usage: 273.6+ KB\n"
     ]
    }
   ],
   "source": [
    "bands_origin_style = pd.concat([bands_origin, bands_style], axis=1)\n",
    "bands_origin_style.info()"
   ]
  },
  {
   "cell_type": "markdown",
   "metadata": {
    "id": "fWrZbAI-vNC-"
   },
   "source": [
    "Você deve estar se perguntando: mas então qual a diferença entre utilizar o *merge* e o *concat* com axis=1 (concatenação horizontal)? Observe a imagem abaixo.\n",
    "![concat](https://i.imgur.com/YlmiwsR.png) <br>\n",
    "\n",
    "Note que o *concat* recebe os dataframes e apenas os empilha (verticalmente ou horizontalmente). Observe agora o funcionamento do *merge* na imagem abaixo.\n",
    "![merge](https://i.imgur.com/yGum2id.png) <br>\n",
    "\n",
    "Com o *merge*, podemos combinar os dataframes de acordo com os valores de suas colunas. Passamos a coluna a ser utilizada como chave, e os valores serão apenas combinados caso haja correspondência nos dois dataframes."
   ]
  },
  {
   "cell_type": "markdown",
   "metadata": {
    "id": "tzPsK8TDI7XK"
   },
   "source": [
    "#### Exercício 3.3\n",
    "Mais uma vez, substitua os \\____ de acordo com as instruções"
   ]
  },
  {
   "cell_type": "code",
   "execution_count": 82,
   "metadata": {
    "deletable": false,
    "exid": "3.3",
    "id": "R8HLaE17I7XK"
   },
   "outputs": [
    {
     "data": {
      "text/html": [
       "<div>\n",
       "<style scoped>\n",
       "    .dataframe tbody tr th:only-of-type {\n",
       "        vertical-align: middle;\n",
       "    }\n",
       "\n",
       "    .dataframe tbody tr th {\n",
       "        vertical-align: top;\n",
       "    }\n",
       "\n",
       "    .dataframe thead th {\n",
       "        text-align: right;\n",
       "    }\n",
       "</style>\n",
       "<table border=\"1\" class=\"dataframe\">\n",
       "  <thead>\n",
       "    <tr style=\"text-align: right;\">\n",
       "      <th></th>\n",
       "      <th>id</th>\n",
       "      <th>name_x</th>\n",
       "      <th>position</th>\n",
       "      <th>dribbling</th>\n",
       "      <th>shooting</th>\n",
       "      <th>overall</th>\n",
       "      <th>name_y</th>\n",
       "      <th>nationality</th>\n",
       "    </tr>\n",
       "  </thead>\n",
       "  <tbody>\n",
       "    <tr>\n",
       "      <th>0</th>\n",
       "      <td>1</td>\n",
       "      <td>Pelé</td>\n",
       "      <td>CAM</td>\n",
       "      <td>96.0</td>\n",
       "      <td>96.0</td>\n",
       "      <td>98</td>\n",
       "      <td>Pelé</td>\n",
       "      <td>Brazil</td>\n",
       "    </tr>\n",
       "    <tr>\n",
       "      <th>1</th>\n",
       "      <td>2</td>\n",
       "      <td>Maradona</td>\n",
       "      <td>CAM</td>\n",
       "      <td>97.0</td>\n",
       "      <td>93.0</td>\n",
       "      <td>97</td>\n",
       "      <td>Maradona</td>\n",
       "      <td>Argentina</td>\n",
       "    </tr>\n",
       "    <tr>\n",
       "      <th>2</th>\n",
       "      <td>3</td>\n",
       "      <td>Ronaldo</td>\n",
       "      <td>ST</td>\n",
       "      <td>95.0</td>\n",
       "      <td>95.0</td>\n",
       "      <td>96</td>\n",
       "      <td>Ronaldo</td>\n",
       "      <td>Brazil</td>\n",
       "    </tr>\n",
       "    <tr>\n",
       "      <th>3</th>\n",
       "      <td>4</td>\n",
       "      <td>Pelé</td>\n",
       "      <td>CF</td>\n",
       "      <td>95.0</td>\n",
       "      <td>93.0</td>\n",
       "      <td>95</td>\n",
       "      <td>Pelé</td>\n",
       "      <td>Brazil</td>\n",
       "    </tr>\n",
       "    <tr>\n",
       "      <th>4</th>\n",
       "      <td>5</td>\n",
       "      <td>Maradona</td>\n",
       "      <td>CAM</td>\n",
       "      <td>95.0</td>\n",
       "      <td>91.0</td>\n",
       "      <td>95</td>\n",
       "      <td>Maradona</td>\n",
       "      <td>Argentina</td>\n",
       "    </tr>\n",
       "  </tbody>\n",
       "</table>\n",
       "</div>"
      ],
      "text/plain": [
       "   id    name_x position  dribbling  shooting  overall    name_y nationality\n",
       "0   1      Pelé      CAM       96.0      96.0       98      Pelé      Brazil\n",
       "1   2  Maradona      CAM       97.0      93.0       97  Maradona   Argentina\n",
       "2   3   Ronaldo       ST       95.0      95.0       96   Ronaldo      Brazil\n",
       "3   4      Pelé       CF       95.0      93.0       95      Pelé      Brazil\n",
       "4   5  Maradona      CAM       95.0      91.0       95  Maradona   Argentina"
      ]
     },
     "execution_count": 82,
     "metadata": {},
     "output_type": "execute_result"
    }
   ],
   "source": [
    "#the_best é um DataDrame dos melhores jogadores em drible (dribbling) e chute (shooting)\n",
    "the_best = fut_players[(fut_players.dribbling > 90) & (fut_players.shooting > 90)][['id', 'name', 'position', 'dribbling', 'shooting', 'overall']]\n",
    "\n",
    "#nationalities é um DataDrame da nacionalidade dos jogadores\n",
    "nationalities = fut_players[['id', 'name', 'nationality']]\n",
    "#faça um merge dos dois DataDrames, mantendo todos os jogadores de the_best e obtendo suas nacionalidades (dica: a chave é o id)\n",
    "the_best_nationality = pd.merge(the_best, nationalities,how='inner',on='id')\n",
    "\n",
    "the_best_nationality.head()\n",
    "\n"
   ]
  },
  {
   "cell_type": "markdown",
   "metadata": {
    "id": "QBYGj098Jqqt"
   },
   "source": [
    "### 3.5. Alterando o dataframe\n",
    "\n",
    "Até o momento apenas utilizamos os dados da forma que nos foram fornecidos, mas e se precisássemos criar alguma coluna que fosse a combinação das demais? Por exemplo, caso eu deseje criar uma coluna que corresponde à soma do ataque e velocidade dos Pokémons? Observe abaixo:"
   ]
  },
  {
   "cell_type": "code",
   "execution_count": 83,
   "metadata": {
    "id": "7Vol_9nSJqqt"
   },
   "outputs": [
    {
     "data": {
      "text/html": [
       "<div>\n",
       "<style scoped>\n",
       "    .dataframe tbody tr th:only-of-type {\n",
       "        vertical-align: middle;\n",
       "    }\n",
       "\n",
       "    .dataframe tbody tr th {\n",
       "        vertical-align: top;\n",
       "    }\n",
       "\n",
       "    .dataframe thead th {\n",
       "        text-align: right;\n",
       "    }\n",
       "</style>\n",
       "<table border=\"1\" class=\"dataframe\">\n",
       "  <thead>\n",
       "    <tr style=\"text-align: right;\">\n",
       "      <th></th>\n",
       "      <th>#</th>\n",
       "      <th>Name</th>\n",
       "      <th>Type_1</th>\n",
       "      <th>Type_2</th>\n",
       "      <th>Total</th>\n",
       "      <th>HP</th>\n",
       "      <th>Attack</th>\n",
       "      <th>Defense</th>\n",
       "      <th>Sp_Atk</th>\n",
       "      <th>Sp_Def</th>\n",
       "      <th>Speed</th>\n",
       "      <th>Generation</th>\n",
       "      <th>Legendary</th>\n",
       "      <th>Sum_Attack_Speed</th>\n",
       "    </tr>\n",
       "  </thead>\n",
       "  <tbody>\n",
       "    <tr>\n",
       "      <th>0</th>\n",
       "      <td>1</td>\n",
       "      <td>Bulbasaur</td>\n",
       "      <td>Grass</td>\n",
       "      <td>Poison</td>\n",
       "      <td>318</td>\n",
       "      <td>45</td>\n",
       "      <td>49</td>\n",
       "      <td>49</td>\n",
       "      <td>65</td>\n",
       "      <td>65</td>\n",
       "      <td>45</td>\n",
       "      <td>1</td>\n",
       "      <td>False</td>\n",
       "      <td>94</td>\n",
       "    </tr>\n",
       "    <tr>\n",
       "      <th>1</th>\n",
       "      <td>2</td>\n",
       "      <td>Ivysaur</td>\n",
       "      <td>Grass</td>\n",
       "      <td>Poison</td>\n",
       "      <td>405</td>\n",
       "      <td>60</td>\n",
       "      <td>62</td>\n",
       "      <td>63</td>\n",
       "      <td>80</td>\n",
       "      <td>80</td>\n",
       "      <td>60</td>\n",
       "      <td>1</td>\n",
       "      <td>False</td>\n",
       "      <td>122</td>\n",
       "    </tr>\n",
       "    <tr>\n",
       "      <th>2</th>\n",
       "      <td>3</td>\n",
       "      <td>Venusaur</td>\n",
       "      <td>Grass</td>\n",
       "      <td>Poison</td>\n",
       "      <td>525</td>\n",
       "      <td>80</td>\n",
       "      <td>82</td>\n",
       "      <td>83</td>\n",
       "      <td>100</td>\n",
       "      <td>100</td>\n",
       "      <td>80</td>\n",
       "      <td>1</td>\n",
       "      <td>False</td>\n",
       "      <td>162</td>\n",
       "    </tr>\n",
       "    <tr>\n",
       "      <th>3</th>\n",
       "      <td>3</td>\n",
       "      <td>VenusaurMega Venusaur</td>\n",
       "      <td>Grass</td>\n",
       "      <td>Poison</td>\n",
       "      <td>625</td>\n",
       "      <td>80</td>\n",
       "      <td>100</td>\n",
       "      <td>123</td>\n",
       "      <td>122</td>\n",
       "      <td>120</td>\n",
       "      <td>80</td>\n",
       "      <td>1</td>\n",
       "      <td>False</td>\n",
       "      <td>180</td>\n",
       "    </tr>\n",
       "    <tr>\n",
       "      <th>4</th>\n",
       "      <td>4</td>\n",
       "      <td>Charmander</td>\n",
       "      <td>Fire</td>\n",
       "      <td>NaN</td>\n",
       "      <td>309</td>\n",
       "      <td>39</td>\n",
       "      <td>52</td>\n",
       "      <td>43</td>\n",
       "      <td>60</td>\n",
       "      <td>50</td>\n",
       "      <td>65</td>\n",
       "      <td>1</td>\n",
       "      <td>False</td>\n",
       "      <td>117</td>\n",
       "    </tr>\n",
       "  </tbody>\n",
       "</table>\n",
       "</div>"
      ],
      "text/plain": [
       "   #                   Name Type_1  Type_2  Total  HP  Attack  Defense  \\\n",
       "0  1              Bulbasaur  Grass  Poison    318  45      49       49   \n",
       "1  2                Ivysaur  Grass  Poison    405  60      62       63   \n",
       "2  3               Venusaur  Grass  Poison    525  80      82       83   \n",
       "3  3  VenusaurMega Venusaur  Grass  Poison    625  80     100      123   \n",
       "4  4             Charmander   Fire     NaN    309  39      52       43   \n",
       "\n",
       "   Sp_Atk  Sp_Def  Speed  Generation  Legendary  Sum_Attack_Speed  \n",
       "0      65      65     45           1      False                94  \n",
       "1      80      80     60           1      False               122  \n",
       "2     100     100     80           1      False               162  \n",
       "3     122     120     80           1      False               180  \n",
       "4      60      50     65           1      False               117  "
      ]
     },
     "execution_count": 83,
     "metadata": {},
     "output_type": "execute_result"
    }
   ],
   "source": [
    "#Criando a coluna desejada\n",
    "pkmn['Sum_Attack_Speed'] = pkmn['Attack'] + pkmn['Speed']\n",
    "pkmn.head()"
   ]
  },
  {
   "cell_type": "markdown",
   "metadata": {
    "id": "kKj3aVaJJqqt"
   },
   "source": [
    "Observe como foi fácil! Apenas utilizamos o operador de soma com as duas colunas necessárias. Você pode fazer isso com outras operações também, basta utilizar ```-```, ```/``` ou ```*```. Além disso, você pode combinar quantas colunas quiser!\n",
    "\n",
    "Mas e se precisarmos alterar apenas algumas linhas do nosso DataFrame?\n",
    "\n",
    "Por exemplo, suponha que você percebeu que seus dados estão errados, e todos os Pokémons com velocidade acima de 100 deveriam estar marcados como Type_1 = 'Fire', podemos seguir o procedimento abaixo:"
   ]
  },
  {
   "cell_type": "code",
   "execution_count": 84,
   "metadata": {
    "id": "qQBpzewGJqqt"
   },
   "outputs": [
    {
     "data": {
      "text/plain": [
       "array(['Bug', 'Normal', 'Electric', 'Ground', 'Psychic', 'Fire', 'Ghost',\n",
       "       'Water', 'Rock', 'Poison', 'Grass', 'Dark', 'Dragon', 'Steel',\n",
       "       'Fighting', 'Ice', 'Flying'], dtype=object)"
      ]
     },
     "execution_count": 84,
     "metadata": {},
     "output_type": "execute_result"
    }
   ],
   "source": [
    "#Observe os valores unicos da coluna Type_1 para os Pokémons com mais de 100 de velocidade\n",
    "pkmn.loc[pkmn['Speed']>100, 'Type_1'].unique()"
   ]
  },
  {
   "cell_type": "code",
   "execution_count": 85,
   "metadata": {
    "id": "h72hBW8dJqqu",
    "scrolled": true
   },
   "outputs": [],
   "source": [
    "#Vamos alterar tudo para Fire\n",
    "pkmn.loc[pkmn['Speed']>100, 'Type_1'] = 'Fire'"
   ]
  },
  {
   "cell_type": "code",
   "execution_count": 86,
   "metadata": {
    "id": "UzzN9AvnJqqu"
   },
   "outputs": [
    {
     "data": {
      "text/plain": [
       "array(['Fire'], dtype=object)"
      ]
     },
     "execution_count": 86,
     "metadata": {},
     "output_type": "execute_result"
    }
   ],
   "source": [
    "#Observe como os valores mudaram\n",
    "pkmn.loc[pkmn['Speed']>100, 'Type_1'].unique()"
   ]
  },
  {
   "cell_type": "markdown",
   "metadata": {
    "id": "stj3Y7WGJqqu"
   },
   "source": [
    "Antes de continuar, vamos ler novamente os dados de Pokémon, sem essa última alteração. Execute a célula abaixo."
   ]
  },
  {
   "cell_type": "code",
   "execution_count": 87,
   "metadata": {
    "id": "tv2HUSpHJqqu"
   },
   "outputs": [],
   "source": [
    "pkmn = pd.read_csv(\n",
    "    'pokemon_data.csv', #o caminho para o arquivo que se quer ler\n",
    "    sep=',') #o caracter utilizado para separar os valores\n",
    "\n",
    "pkmn.rename(\n",
    "    columns={'Type 1':'Type_1', 'Type 2':'Type_2', 'Sp. Atk':'Sp_Atk','Sp. Def':'Sp_Def'}, #passando o nome antigo e novo como um dicionário\n",
    "    inplace = True #algumas operações com Pandas criam uma cópia do DataFrame e não alteram o objeto em si, alteramos isso mudando o parâmetro inplace para verdadeiro\n",
    ")"
   ]
  },
  {
   "cell_type": "markdown",
   "metadata": {
    "id": "c8AoBG2uI7XM"
   },
   "source": [
    "### 3.6. Operações em grupo\n",
    "\n",
    "Com Pandas nós podemos aplicar operações em grupos usando o método *.groupby()*. Ele é muito útil por ser uma forma bem simples de extrair informação de dados agregados. Para utilizá-lo, passamos as colunas nas quais queremos agrupar os dados e a operação que queremos fazer. Para exemplificar, vamos ver quantos Pokémons lendários cada geração tem:"
   ]
  },
  {
   "cell_type": "code",
   "execution_count": 88,
   "metadata": {
    "id": "sa35RiniJqqv"
   },
   "outputs": [
    {
     "data": {
      "text/plain": [
       "Generation\n",
       "1     6\n",
       "2     5\n",
       "3    18\n",
       "4    13\n",
       "5    15\n",
       "6     8\n",
       "Name: Legendary, dtype: int64"
      ]
     },
     "execution_count": 88,
     "metadata": {},
     "output_type": "execute_result"
    }
   ],
   "source": [
    "pkmn.groupby('Generation').Legendary.sum() #fazendo uma soma pois a coluna Legendary é boolean"
   ]
  },
  {
   "cell_type": "markdown",
   "metadata": {
    "id": "f6-GqOx3I7XO"
   },
   "source": [
    "Podemos obter um relatório da média de diversas colunas para cada tipo de Pokémon:"
   ]
  },
  {
   "cell_type": "code",
   "execution_count": 89,
   "metadata": {
    "id": "kMKuWc3RJqqv"
   },
   "outputs": [
    {
     "data": {
      "text/html": [
       "<div>\n",
       "<style scoped>\n",
       "    .dataframe tbody tr th:only-of-type {\n",
       "        vertical-align: middle;\n",
       "    }\n",
       "\n",
       "    .dataframe tbody tr th {\n",
       "        vertical-align: top;\n",
       "    }\n",
       "\n",
       "    .dataframe thead th {\n",
       "        text-align: right;\n",
       "    }\n",
       "</style>\n",
       "<table border=\"1\" class=\"dataframe\">\n",
       "  <thead>\n",
       "    <tr style=\"text-align: right;\">\n",
       "      <th></th>\n",
       "      <th>HP</th>\n",
       "      <th>Attack</th>\n",
       "      <th>Defense</th>\n",
       "      <th>Sp_Atk</th>\n",
       "      <th>Sp_Def</th>\n",
       "      <th>Speed</th>\n",
       "    </tr>\n",
       "    <tr>\n",
       "      <th>Type_1</th>\n",
       "      <th></th>\n",
       "      <th></th>\n",
       "      <th></th>\n",
       "      <th></th>\n",
       "      <th></th>\n",
       "      <th></th>\n",
       "    </tr>\n",
       "  </thead>\n",
       "  <tbody>\n",
       "    <tr>\n",
       "      <th>Bug</th>\n",
       "      <td>56.884058</td>\n",
       "      <td>70.971014</td>\n",
       "      <td>70.724638</td>\n",
       "      <td>53.869565</td>\n",
       "      <td>64.797101</td>\n",
       "      <td>61.681159</td>\n",
       "    </tr>\n",
       "    <tr>\n",
       "      <th>Dark</th>\n",
       "      <td>66.806452</td>\n",
       "      <td>88.387097</td>\n",
       "      <td>70.225806</td>\n",
       "      <td>74.645161</td>\n",
       "      <td>69.516129</td>\n",
       "      <td>76.161290</td>\n",
       "    </tr>\n",
       "    <tr>\n",
       "      <th>Dragon</th>\n",
       "      <td>83.312500</td>\n",
       "      <td>112.125000</td>\n",
       "      <td>86.375000</td>\n",
       "      <td>96.843750</td>\n",
       "      <td>88.843750</td>\n",
       "      <td>83.031250</td>\n",
       "    </tr>\n",
       "    <tr>\n",
       "      <th>Electric</th>\n",
       "      <td>59.795455</td>\n",
       "      <td>69.090909</td>\n",
       "      <td>66.295455</td>\n",
       "      <td>90.022727</td>\n",
       "      <td>73.704545</td>\n",
       "      <td>84.500000</td>\n",
       "    </tr>\n",
       "    <tr>\n",
       "      <th>Fairy</th>\n",
       "      <td>74.117647</td>\n",
       "      <td>61.529412</td>\n",
       "      <td>65.705882</td>\n",
       "      <td>78.529412</td>\n",
       "      <td>84.705882</td>\n",
       "      <td>48.588235</td>\n",
       "    </tr>\n",
       "    <tr>\n",
       "      <th>Fighting</th>\n",
       "      <td>69.851852</td>\n",
       "      <td>96.777778</td>\n",
       "      <td>65.925926</td>\n",
       "      <td>53.111111</td>\n",
       "      <td>64.703704</td>\n",
       "      <td>66.074074</td>\n",
       "    </tr>\n",
       "    <tr>\n",
       "      <th>Fire</th>\n",
       "      <td>69.903846</td>\n",
       "      <td>84.769231</td>\n",
       "      <td>67.769231</td>\n",
       "      <td>88.980769</td>\n",
       "      <td>72.211538</td>\n",
       "      <td>74.442308</td>\n",
       "    </tr>\n",
       "    <tr>\n",
       "      <th>Flying</th>\n",
       "      <td>70.750000</td>\n",
       "      <td>78.750000</td>\n",
       "      <td>66.250000</td>\n",
       "      <td>94.250000</td>\n",
       "      <td>72.500000</td>\n",
       "      <td>102.500000</td>\n",
       "    </tr>\n",
       "    <tr>\n",
       "      <th>Ghost</th>\n",
       "      <td>64.437500</td>\n",
       "      <td>73.781250</td>\n",
       "      <td>81.187500</td>\n",
       "      <td>79.343750</td>\n",
       "      <td>76.468750</td>\n",
       "      <td>64.343750</td>\n",
       "    </tr>\n",
       "    <tr>\n",
       "      <th>Grass</th>\n",
       "      <td>67.271429</td>\n",
       "      <td>73.214286</td>\n",
       "      <td>70.800000</td>\n",
       "      <td>77.500000</td>\n",
       "      <td>70.428571</td>\n",
       "      <td>61.928571</td>\n",
       "    </tr>\n",
       "    <tr>\n",
       "      <th>Ground</th>\n",
       "      <td>73.781250</td>\n",
       "      <td>95.750000</td>\n",
       "      <td>84.843750</td>\n",
       "      <td>56.468750</td>\n",
       "      <td>62.750000</td>\n",
       "      <td>63.906250</td>\n",
       "    </tr>\n",
       "    <tr>\n",
       "      <th>Ice</th>\n",
       "      <td>72.000000</td>\n",
       "      <td>72.750000</td>\n",
       "      <td>71.416667</td>\n",
       "      <td>77.541667</td>\n",
       "      <td>76.291667</td>\n",
       "      <td>63.458333</td>\n",
       "    </tr>\n",
       "    <tr>\n",
       "      <th>Normal</th>\n",
       "      <td>77.275510</td>\n",
       "      <td>73.469388</td>\n",
       "      <td>59.846939</td>\n",
       "      <td>55.816327</td>\n",
       "      <td>63.724490</td>\n",
       "      <td>71.551020</td>\n",
       "    </tr>\n",
       "    <tr>\n",
       "      <th>Poison</th>\n",
       "      <td>67.250000</td>\n",
       "      <td>74.678571</td>\n",
       "      <td>68.821429</td>\n",
       "      <td>60.428571</td>\n",
       "      <td>64.392857</td>\n",
       "      <td>63.571429</td>\n",
       "    </tr>\n",
       "    <tr>\n",
       "      <th>Psychic</th>\n",
       "      <td>70.631579</td>\n",
       "      <td>71.456140</td>\n",
       "      <td>67.684211</td>\n",
       "      <td>98.403509</td>\n",
       "      <td>86.280702</td>\n",
       "      <td>81.491228</td>\n",
       "    </tr>\n",
       "    <tr>\n",
       "      <th>Rock</th>\n",
       "      <td>65.363636</td>\n",
       "      <td>92.863636</td>\n",
       "      <td>100.795455</td>\n",
       "      <td>63.340909</td>\n",
       "      <td>75.477273</td>\n",
       "      <td>55.909091</td>\n",
       "    </tr>\n",
       "    <tr>\n",
       "      <th>Steel</th>\n",
       "      <td>65.222222</td>\n",
       "      <td>92.703704</td>\n",
       "      <td>126.370370</td>\n",
       "      <td>67.518519</td>\n",
       "      <td>80.629630</td>\n",
       "      <td>55.259259</td>\n",
       "    </tr>\n",
       "    <tr>\n",
       "      <th>Water</th>\n",
       "      <td>72.062500</td>\n",
       "      <td>74.151786</td>\n",
       "      <td>72.946429</td>\n",
       "      <td>74.812500</td>\n",
       "      <td>70.517857</td>\n",
       "      <td>65.964286</td>\n",
       "    </tr>\n",
       "  </tbody>\n",
       "</table>\n",
       "</div>"
      ],
      "text/plain": [
       "                 HP      Attack     Defense     Sp_Atk     Sp_Def       Speed\n",
       "Type_1                                                                       \n",
       "Bug       56.884058   70.971014   70.724638  53.869565  64.797101   61.681159\n",
       "Dark      66.806452   88.387097   70.225806  74.645161  69.516129   76.161290\n",
       "Dragon    83.312500  112.125000   86.375000  96.843750  88.843750   83.031250\n",
       "Electric  59.795455   69.090909   66.295455  90.022727  73.704545   84.500000\n",
       "Fairy     74.117647   61.529412   65.705882  78.529412  84.705882   48.588235\n",
       "Fighting  69.851852   96.777778   65.925926  53.111111  64.703704   66.074074\n",
       "Fire      69.903846   84.769231   67.769231  88.980769  72.211538   74.442308\n",
       "Flying    70.750000   78.750000   66.250000  94.250000  72.500000  102.500000\n",
       "Ghost     64.437500   73.781250   81.187500  79.343750  76.468750   64.343750\n",
       "Grass     67.271429   73.214286   70.800000  77.500000  70.428571   61.928571\n",
       "Ground    73.781250   95.750000   84.843750  56.468750  62.750000   63.906250\n",
       "Ice       72.000000   72.750000   71.416667  77.541667  76.291667   63.458333\n",
       "Normal    77.275510   73.469388   59.846939  55.816327  63.724490   71.551020\n",
       "Poison    67.250000   74.678571   68.821429  60.428571  64.392857   63.571429\n",
       "Psychic   70.631579   71.456140   67.684211  98.403509  86.280702   81.491228\n",
       "Rock      65.363636   92.863636  100.795455  63.340909  75.477273   55.909091\n",
       "Steel     65.222222   92.703704  126.370370  67.518519  80.629630   55.259259\n",
       "Water     72.062500   74.151786   72.946429  74.812500  70.517857   65.964286"
      ]
     },
     "execution_count": 89,
     "metadata": {},
     "output_type": "execute_result"
    }
   ],
   "source": [
    "pkmn.groupby('Type_1')[['HP','Attack','Defense','Sp_Atk','Sp_Def','Speed']].mean()"
   ]
  },
  {
   "cell_type": "markdown",
   "metadata": {
    "id": "oiyLWKjGI7XP"
   },
   "source": [
    "Isso é realmente muito importante e extremamente utilizado com pandas pois conseguimos fazer análises dos grupos com apenas uma linha de código. Podemos perceber, por exemplo, que Pokémons do tipo *Flying* são especialistas em velocidade enquanto *Dragon* e *Fighting* são especialistas em ataque.\n",
    "\n",
    "#### Exercício 3.4\n",
    "Use o método *.groupby()* para descobrir qual país tem o melhor *overall* médio."
   ]
  },
  {
   "cell_type": "code",
   "execution_count": 90,
   "metadata": {
    "deletable": false,
    "exid": "3.4",
    "id": "y45dj9wlI7XP"
   },
   "outputs": [
    {
     "name": "stdout",
     "output_type": "stream",
     "text": [
      "Melhor overall médio: \n",
      "                     overall\n",
      "nationality                \n",
      "Dominican Republic     79.0\n",
      "Overall médio do Brasil:  overall    75.219156\n",
      "Name: Brazil, dtype: float64\n"
     ]
    }
   ],
   "source": [
    "#crie o DataFrame country_avg_overall, que tem o overall médio de cada país (nationality), usando groupby\n",
    "country_avg_overall = fut_players.groupby('nationality')[['overall','name']].mean()\n",
    "\n",
    "#pkmn.groupby('Type_1')[['HP','Attack','Defense','Sp_Atk','Sp_Def','Speed']].mean()\n",
    "#fut_players[['player_name','position','nationality']]\n",
    "# nationalities = fut_players[['id', 'name', 'nationality']]\n",
    "# pkmn.groupby('Generation').Legendary.sum() #fazendo uma soma pois a coluna Legendary é boolean\n",
    "\n",
    "#usamos o método idxmax() para encontrar o maior overall médio\n",
    "print(\"Melhor overall médio: \\n\", country_avg_overall.loc[country_avg_overall.idxmax()])\n",
    "print(\"Overall médio do Brasil: \", country_avg_overall.loc[\"Brazil\"])"
   ]
  },
  {
   "cell_type": "markdown",
   "metadata": {
    "id": "UvdzWKOBI7XQ"
   },
   "source": [
    "### 3.7. Aplicando funções no Pandas\n",
    "\n",
    "Com Pandas, nós temos um grande nível de controle de nossos dados, e somos capazes de transformá-los conforme precisarmos. Nós podemos, até mesmo, executar funções em DataFrames e manipulá-los como quisermos. Vamos revisitar o método head():"
   ]
  },
  {
   "cell_type": "code",
   "execution_count": 91,
   "metadata": {
    "id": "Gy91k6dQI7XQ"
   },
   "outputs": [
    {
     "data": {
      "text/html": [
       "<div>\n",
       "<style scoped>\n",
       "    .dataframe tbody tr th:only-of-type {\n",
       "        vertical-align: middle;\n",
       "    }\n",
       "\n",
       "    .dataframe tbody tr th {\n",
       "        vertical-align: top;\n",
       "    }\n",
       "\n",
       "    .dataframe thead th {\n",
       "        text-align: right;\n",
       "    }\n",
       "</style>\n",
       "<table border=\"1\" class=\"dataframe\">\n",
       "  <thead>\n",
       "    <tr style=\"text-align: right;\">\n",
       "      <th></th>\n",
       "      <th>#</th>\n",
       "      <th>Name</th>\n",
       "      <th>Type_1</th>\n",
       "      <th>Type_2</th>\n",
       "      <th>Total</th>\n",
       "      <th>HP</th>\n",
       "      <th>Attack</th>\n",
       "      <th>Defense</th>\n",
       "      <th>Sp_Atk</th>\n",
       "      <th>Sp_Def</th>\n",
       "      <th>Speed</th>\n",
       "      <th>Generation</th>\n",
       "      <th>Legendary</th>\n",
       "    </tr>\n",
       "  </thead>\n",
       "  <tbody>\n",
       "    <tr>\n",
       "      <th>0</th>\n",
       "      <td>1</td>\n",
       "      <td>Bulbasaur</td>\n",
       "      <td>Grass</td>\n",
       "      <td>Poison</td>\n",
       "      <td>318</td>\n",
       "      <td>45</td>\n",
       "      <td>49</td>\n",
       "      <td>49</td>\n",
       "      <td>65</td>\n",
       "      <td>65</td>\n",
       "      <td>45</td>\n",
       "      <td>1</td>\n",
       "      <td>False</td>\n",
       "    </tr>\n",
       "    <tr>\n",
       "      <th>1</th>\n",
       "      <td>2</td>\n",
       "      <td>Ivysaur</td>\n",
       "      <td>Grass</td>\n",
       "      <td>Poison</td>\n",
       "      <td>405</td>\n",
       "      <td>60</td>\n",
       "      <td>62</td>\n",
       "      <td>63</td>\n",
       "      <td>80</td>\n",
       "      <td>80</td>\n",
       "      <td>60</td>\n",
       "      <td>1</td>\n",
       "      <td>False</td>\n",
       "    </tr>\n",
       "    <tr>\n",
       "      <th>2</th>\n",
       "      <td>3</td>\n",
       "      <td>Venusaur</td>\n",
       "      <td>Grass</td>\n",
       "      <td>Poison</td>\n",
       "      <td>525</td>\n",
       "      <td>80</td>\n",
       "      <td>82</td>\n",
       "      <td>83</td>\n",
       "      <td>100</td>\n",
       "      <td>100</td>\n",
       "      <td>80</td>\n",
       "      <td>1</td>\n",
       "      <td>False</td>\n",
       "    </tr>\n",
       "    <tr>\n",
       "      <th>3</th>\n",
       "      <td>3</td>\n",
       "      <td>VenusaurMega Venusaur</td>\n",
       "      <td>Grass</td>\n",
       "      <td>Poison</td>\n",
       "      <td>625</td>\n",
       "      <td>80</td>\n",
       "      <td>100</td>\n",
       "      <td>123</td>\n",
       "      <td>122</td>\n",
       "      <td>120</td>\n",
       "      <td>80</td>\n",
       "      <td>1</td>\n",
       "      <td>False</td>\n",
       "    </tr>\n",
       "    <tr>\n",
       "      <th>4</th>\n",
       "      <td>4</td>\n",
       "      <td>Charmander</td>\n",
       "      <td>Fire</td>\n",
       "      <td>NaN</td>\n",
       "      <td>309</td>\n",
       "      <td>39</td>\n",
       "      <td>52</td>\n",
       "      <td>43</td>\n",
       "      <td>60</td>\n",
       "      <td>50</td>\n",
       "      <td>65</td>\n",
       "      <td>1</td>\n",
       "      <td>False</td>\n",
       "    </tr>\n",
       "  </tbody>\n",
       "</table>\n",
       "</div>"
      ],
      "text/plain": [
       "   #                   Name Type_1  Type_2  Total  HP  Attack  Defense  \\\n",
       "0  1              Bulbasaur  Grass  Poison    318  45      49       49   \n",
       "1  2                Ivysaur  Grass  Poison    405  60      62       63   \n",
       "2  3               Venusaur  Grass  Poison    525  80      82       83   \n",
       "3  3  VenusaurMega Venusaur  Grass  Poison    625  80     100      123   \n",
       "4  4             Charmander   Fire     NaN    309  39      52       43   \n",
       "\n",
       "   Sp_Atk  Sp_Def  Speed  Generation  Legendary  \n",
       "0      65      65     45           1      False  \n",
       "1      80      80     60           1      False  \n",
       "2     100     100     80           1      False  \n",
       "3     122     120     80           1      False  \n",
       "4      60      50     65           1      False  "
      ]
     },
     "execution_count": 91,
     "metadata": {},
     "output_type": "execute_result"
    }
   ],
   "source": [
    "pkmn.head()"
   ]
  },
  {
   "cell_type": "markdown",
   "metadata": {
    "id": "LBZGxgGTI7XR"
   },
   "source": [
    "Existem algumas mega evoluções misturadas no dataset (apenas alguns Pokémons são capazes de evoluir temporariamente para sua forma Mega, uma forma mais poderosa). Não seria legal se nós tivéssemos alguma flag que nos diria se um pokémon é mega ou não? E, por um acaso, será que os pokémons mega são mais poderosos?\n",
    "\n",
    "Você deve ter percebido que evoluções mega têm um padrão em nosso DataFrame, algo como 'PokemonMega Pokemon'. Se nós tivermos esse padrão, podemos construir uma função que retorna True se este padrão for detectado:"
   ]
  },
  {
   "cell_type": "code",
   "execution_count": 92,
   "metadata": {
    "id": "D79vgBfSI7XS"
   },
   "outputs": [],
   "source": [
    "def is_it_mega(pokemon_name):\n",
    "    \"\"\"\n",
    "    Recebe um nome de pokemon e diz se é uma mega evolução ou não\n",
    "    I: string pokemon_name\n",
    "    O: boolean para Mega evos\n",
    "    \"\"\"\n",
    "    if 'Mega ' in pokemon_name: #é importante usar 'Mega ' e não 'mega', pois há um pokemon chamado Yanmega e outro chamado Meganium que não são uma mega evolução\n",
    "        return True\n",
    "    else:\n",
    "        return False"
   ]
  },
  {
   "cell_type": "markdown",
   "metadata": {
    "id": "y3uv8w5mI7XT"
   },
   "source": [
    "Vamos ver se funciona:"
   ]
  },
  {
   "cell_type": "code",
   "execution_count": 93,
   "metadata": {
    "id": "EKkms_kSJqqy"
   },
   "outputs": [
    {
     "data": {
      "text/plain": [
       "True"
      ]
     },
     "execution_count": 93,
     "metadata": {},
     "output_type": "execute_result"
    }
   ],
   "source": [
    "is_it_mega('VenusaurMega Venusaur')"
   ]
  },
  {
   "cell_type": "code",
   "execution_count": 94,
   "metadata": {
    "id": "pUF2cV6jJqqz"
   },
   "outputs": [
    {
     "data": {
      "text/plain": [
       "False"
      ]
     },
     "execution_count": 94,
     "metadata": {},
     "output_type": "execute_result"
    }
   ],
   "source": [
    "is_it_mega('Squirtle')"
   ]
  },
  {
   "cell_type": "markdown",
   "metadata": {
    "id": "4NjQh6saI7XW"
   },
   "source": [
    "Excelente! Seria ótimo se conseguíssemos aplicar essa função em todo nosso DataFrame. Para fazer isso, usaremos o método .apply(). Também criaremos uma coluna que é uma flag se o pokémon é mega:"
   ]
  },
  {
   "cell_type": "code",
   "execution_count": 95,
   "metadata": {
    "id": "SM50UKunI7XW"
   },
   "outputs": [],
   "source": [
    "pkmn['Mega'] = pkmn.apply(\n",
    "    lambda row: is_it_mega(row['Name']), #chamando uma função lambda que acabamos de construir\n",
    "    axis=1 #qual direção queremos executar a função. 0 para horizontal, 1 para vertical\n",
    ")"
   ]
  },
  {
   "cell_type": "code",
   "execution_count": 96,
   "metadata": {
    "id": "HoAA7rmyI7XX"
   },
   "outputs": [
    {
     "data": {
      "text/html": [
       "<div>\n",
       "<style scoped>\n",
       "    .dataframe tbody tr th:only-of-type {\n",
       "        vertical-align: middle;\n",
       "    }\n",
       "\n",
       "    .dataframe tbody tr th {\n",
       "        vertical-align: top;\n",
       "    }\n",
       "\n",
       "    .dataframe thead th {\n",
       "        text-align: right;\n",
       "    }\n",
       "</style>\n",
       "<table border=\"1\" class=\"dataframe\">\n",
       "  <thead>\n",
       "    <tr style=\"text-align: right;\">\n",
       "      <th></th>\n",
       "      <th>#</th>\n",
       "      <th>Name</th>\n",
       "      <th>Type_1</th>\n",
       "      <th>Type_2</th>\n",
       "      <th>Total</th>\n",
       "      <th>HP</th>\n",
       "      <th>Attack</th>\n",
       "      <th>Defense</th>\n",
       "      <th>Sp_Atk</th>\n",
       "      <th>Sp_Def</th>\n",
       "      <th>Speed</th>\n",
       "      <th>Generation</th>\n",
       "      <th>Legendary</th>\n",
       "      <th>Mega</th>\n",
       "    </tr>\n",
       "  </thead>\n",
       "  <tbody>\n",
       "    <tr>\n",
       "      <th>0</th>\n",
       "      <td>1</td>\n",
       "      <td>Bulbasaur</td>\n",
       "      <td>Grass</td>\n",
       "      <td>Poison</td>\n",
       "      <td>318</td>\n",
       "      <td>45</td>\n",
       "      <td>49</td>\n",
       "      <td>49</td>\n",
       "      <td>65</td>\n",
       "      <td>65</td>\n",
       "      <td>45</td>\n",
       "      <td>1</td>\n",
       "      <td>False</td>\n",
       "      <td>False</td>\n",
       "    </tr>\n",
       "    <tr>\n",
       "      <th>1</th>\n",
       "      <td>2</td>\n",
       "      <td>Ivysaur</td>\n",
       "      <td>Grass</td>\n",
       "      <td>Poison</td>\n",
       "      <td>405</td>\n",
       "      <td>60</td>\n",
       "      <td>62</td>\n",
       "      <td>63</td>\n",
       "      <td>80</td>\n",
       "      <td>80</td>\n",
       "      <td>60</td>\n",
       "      <td>1</td>\n",
       "      <td>False</td>\n",
       "      <td>False</td>\n",
       "    </tr>\n",
       "    <tr>\n",
       "      <th>2</th>\n",
       "      <td>3</td>\n",
       "      <td>Venusaur</td>\n",
       "      <td>Grass</td>\n",
       "      <td>Poison</td>\n",
       "      <td>525</td>\n",
       "      <td>80</td>\n",
       "      <td>82</td>\n",
       "      <td>83</td>\n",
       "      <td>100</td>\n",
       "      <td>100</td>\n",
       "      <td>80</td>\n",
       "      <td>1</td>\n",
       "      <td>False</td>\n",
       "      <td>False</td>\n",
       "    </tr>\n",
       "    <tr>\n",
       "      <th>3</th>\n",
       "      <td>3</td>\n",
       "      <td>VenusaurMega Venusaur</td>\n",
       "      <td>Grass</td>\n",
       "      <td>Poison</td>\n",
       "      <td>625</td>\n",
       "      <td>80</td>\n",
       "      <td>100</td>\n",
       "      <td>123</td>\n",
       "      <td>122</td>\n",
       "      <td>120</td>\n",
       "      <td>80</td>\n",
       "      <td>1</td>\n",
       "      <td>False</td>\n",
       "      <td>True</td>\n",
       "    </tr>\n",
       "    <tr>\n",
       "      <th>4</th>\n",
       "      <td>4</td>\n",
       "      <td>Charmander</td>\n",
       "      <td>Fire</td>\n",
       "      <td>NaN</td>\n",
       "      <td>309</td>\n",
       "      <td>39</td>\n",
       "      <td>52</td>\n",
       "      <td>43</td>\n",
       "      <td>60</td>\n",
       "      <td>50</td>\n",
       "      <td>65</td>\n",
       "      <td>1</td>\n",
       "      <td>False</td>\n",
       "      <td>False</td>\n",
       "    </tr>\n",
       "  </tbody>\n",
       "</table>\n",
       "</div>"
      ],
      "text/plain": [
       "   #                   Name Type_1  Type_2  Total  HP  Attack  Defense  \\\n",
       "0  1              Bulbasaur  Grass  Poison    318  45      49       49   \n",
       "1  2                Ivysaur  Grass  Poison    405  60      62       63   \n",
       "2  3               Venusaur  Grass  Poison    525  80      82       83   \n",
       "3  3  VenusaurMega Venusaur  Grass  Poison    625  80     100      123   \n",
       "4  4             Charmander   Fire     NaN    309  39      52       43   \n",
       "\n",
       "   Sp_Atk  Sp_Def  Speed  Generation  Legendary   Mega  \n",
       "0      65      65     45           1      False  False  \n",
       "1      80      80     60           1      False  False  \n",
       "2     100     100     80           1      False  False  \n",
       "3     122     120     80           1      False   True  \n",
       "4      60      50     65           1      False  False  "
      ]
     },
     "execution_count": 96,
     "metadata": {},
     "output_type": "execute_result"
    }
   ],
   "source": [
    "pkmn.head()"
   ]
  },
  {
   "cell_type": "markdown",
   "metadata": {
    "id": "tOjBnx2SI7XZ"
   },
   "source": [
    "Observe como funcionou o apply com lambda. Utilizando o axis=1, a função ```is_it_mega``` é aplicada para cada linha do nosso DataFrame, recebendo como entrada o *Name* do pokémon daquela linha e retornando a flag de True/False na coluna *Mega*.\n",
    "\n",
    "Agora, vamos verificar quão poderosos são os pokémons mega:"
   ]
  },
  {
   "cell_type": "code",
   "execution_count": 97,
   "metadata": {
    "id": "1038lMSmI7XZ",
    "scrolled": true
   },
   "outputs": [
    {
     "data": {
      "text/plain": [
       "Mega\n",
       "False    423.457447\n",
       "True     617.541667\n",
       "Name: Total, dtype: float64"
      ]
     },
     "execution_count": 97,
     "metadata": {},
     "output_type": "execute_result"
    }
   ],
   "source": [
    "pkmn.groupby('Mega').Total.mean()"
   ]
  },
  {
   "cell_type": "markdown",
   "metadata": {
    "id": "Lodu0N3TI7Xb"
   },
   "source": [
    "Uau! Eles têm quase 200 stat points a mais que pokémons normais! Evoluções mega são, sim, muito poderosos! Uma boa prática é sempre tentar manter nosso DataFrame organizado. A forma como os pokémons mega estão nomeados não é muito ótima, e nós já temos uma coluna com a flag para pokémons Mega, então, vamos atacar isso! A estrutura do nome de um pokémon mega é da seguinte forma: 'NomeMega Nome'. Portanto, se nós pegarmos o qeu vem após o caractere ' ', teremos o nome original do pokémon!"
   ]
  },
  {
   "cell_type": "code",
   "execution_count": 98,
   "metadata": {
    "id": "QBR2eX5hJqq1"
   },
   "outputs": [
    {
     "data": {
      "text/plain": [
       "800"
      ]
     },
     "execution_count": 98,
     "metadata": {},
     "output_type": "execute_result"
    }
   ],
   "source": [
    "pkmn.Name.nunique() #conta elementos únicos de uma determinada coluna"
   ]
  },
  {
   "cell_type": "code",
   "execution_count": 99,
   "metadata": {
    "id": "GHD6us95Jqq1"
   },
   "outputs": [
    {
     "data": {
      "text/plain": [
       "715"
      ]
     },
     "execution_count": 99,
     "metadata": {},
     "output_type": "execute_result"
    }
   ],
   "source": [
    "def get_original_name(s):\n",
    "    \"\"\"\n",
    "    Recebe um nome de pokemon e retorna seu nome original\n",
    "    I: s string\n",
    "    O: string\n",
    "    \"\"\"\n",
    "    return s.split(' ')[-1]\n",
    "\n",
    "pkmn['Name'] = pkmn.Name.apply(lambda s: get_original_name(s)) #sobreescrevendo a coluna Name\n",
    "pkmn.Name.nunique()"
   ]
  },
  {
   "cell_type": "code",
   "execution_count": 100,
   "metadata": {
    "id": "1nclcpRGJqq1",
    "scrolled": false
   },
   "outputs": [
    {
     "data": {
      "text/html": [
       "<div>\n",
       "<style scoped>\n",
       "    .dataframe tbody tr th:only-of-type {\n",
       "        vertical-align: middle;\n",
       "    }\n",
       "\n",
       "    .dataframe tbody tr th {\n",
       "        vertical-align: top;\n",
       "    }\n",
       "\n",
       "    .dataframe thead th {\n",
       "        text-align: right;\n",
       "    }\n",
       "</style>\n",
       "<table border=\"1\" class=\"dataframe\">\n",
       "  <thead>\n",
       "    <tr style=\"text-align: right;\">\n",
       "      <th></th>\n",
       "      <th>#</th>\n",
       "      <th>Name</th>\n",
       "      <th>Type_1</th>\n",
       "      <th>Type_2</th>\n",
       "      <th>Total</th>\n",
       "      <th>HP</th>\n",
       "      <th>Attack</th>\n",
       "      <th>Defense</th>\n",
       "      <th>Sp_Atk</th>\n",
       "      <th>Sp_Def</th>\n",
       "      <th>Speed</th>\n",
       "      <th>Generation</th>\n",
       "      <th>Legendary</th>\n",
       "      <th>Mega</th>\n",
       "    </tr>\n",
       "  </thead>\n",
       "  <tbody>\n",
       "    <tr>\n",
       "      <th>0</th>\n",
       "      <td>1</td>\n",
       "      <td>Bulbasaur</td>\n",
       "      <td>Grass</td>\n",
       "      <td>Poison</td>\n",
       "      <td>318</td>\n",
       "      <td>45</td>\n",
       "      <td>49</td>\n",
       "      <td>49</td>\n",
       "      <td>65</td>\n",
       "      <td>65</td>\n",
       "      <td>45</td>\n",
       "      <td>1</td>\n",
       "      <td>False</td>\n",
       "      <td>False</td>\n",
       "    </tr>\n",
       "    <tr>\n",
       "      <th>1</th>\n",
       "      <td>2</td>\n",
       "      <td>Ivysaur</td>\n",
       "      <td>Grass</td>\n",
       "      <td>Poison</td>\n",
       "      <td>405</td>\n",
       "      <td>60</td>\n",
       "      <td>62</td>\n",
       "      <td>63</td>\n",
       "      <td>80</td>\n",
       "      <td>80</td>\n",
       "      <td>60</td>\n",
       "      <td>1</td>\n",
       "      <td>False</td>\n",
       "      <td>False</td>\n",
       "    </tr>\n",
       "    <tr>\n",
       "      <th>2</th>\n",
       "      <td>3</td>\n",
       "      <td>Venusaur</td>\n",
       "      <td>Grass</td>\n",
       "      <td>Poison</td>\n",
       "      <td>525</td>\n",
       "      <td>80</td>\n",
       "      <td>82</td>\n",
       "      <td>83</td>\n",
       "      <td>100</td>\n",
       "      <td>100</td>\n",
       "      <td>80</td>\n",
       "      <td>1</td>\n",
       "      <td>False</td>\n",
       "      <td>False</td>\n",
       "    </tr>\n",
       "    <tr>\n",
       "      <th>3</th>\n",
       "      <td>3</td>\n",
       "      <td>Venusaur</td>\n",
       "      <td>Grass</td>\n",
       "      <td>Poison</td>\n",
       "      <td>625</td>\n",
       "      <td>80</td>\n",
       "      <td>100</td>\n",
       "      <td>123</td>\n",
       "      <td>122</td>\n",
       "      <td>120</td>\n",
       "      <td>80</td>\n",
       "      <td>1</td>\n",
       "      <td>False</td>\n",
       "      <td>True</td>\n",
       "    </tr>\n",
       "    <tr>\n",
       "      <th>4</th>\n",
       "      <td>4</td>\n",
       "      <td>Charmander</td>\n",
       "      <td>Fire</td>\n",
       "      <td>NaN</td>\n",
       "      <td>309</td>\n",
       "      <td>39</td>\n",
       "      <td>52</td>\n",
       "      <td>43</td>\n",
       "      <td>60</td>\n",
       "      <td>50</td>\n",
       "      <td>65</td>\n",
       "      <td>1</td>\n",
       "      <td>False</td>\n",
       "      <td>False</td>\n",
       "    </tr>\n",
       "  </tbody>\n",
       "</table>\n",
       "</div>"
      ],
      "text/plain": [
       "   #        Name Type_1  Type_2  Total  HP  Attack  Defense  Sp_Atk  Sp_Def  \\\n",
       "0  1   Bulbasaur  Grass  Poison    318  45      49       49      65      65   \n",
       "1  2     Ivysaur  Grass  Poison    405  60      62       63      80      80   \n",
       "2  3    Venusaur  Grass  Poison    525  80      82       83     100     100   \n",
       "3  3    Venusaur  Grass  Poison    625  80     100      123     122     120   \n",
       "4  4  Charmander   Fire     NaN    309  39      52       43      60      50   \n",
       "\n",
       "   Speed  Generation  Legendary   Mega  \n",
       "0     45           1      False  False  \n",
       "1     60           1      False  False  \n",
       "2     80           1      False  False  \n",
       "3     80           1      False   True  \n",
       "4     65           1      False  False  "
      ]
     },
     "execution_count": 100,
     "metadata": {},
     "output_type": "execute_result"
    }
   ],
   "source": [
    "pkmn.head()"
   ]
  },
  {
   "cell_type": "markdown",
   "metadata": {
    "id": "ThDV5uypI7Xf"
   },
   "source": [
    "Agora nós já cobrimos toda a parte básica de Pandas! Vamos praticar essa última parte!\n",
    "\n",
    "#### Exercício 3.5\n",
    "Crie uma função que retorna a classificação para o jogador de acordo com as instruções abaixo, então aplique isso para o dataframe fut_players."
   ]
  },
  {
   "cell_type": "code",
   "execution_count": 101,
   "metadata": {
    "deletable": false,
    "exid": "3.5",
    "id": "t2DQXbRBJqq2"
   },
   "outputs": [
    {
     "data": {
      "text/html": [
       "<div>\n",
       "<style scoped>\n",
       "    .dataframe tbody tr th:only-of-type {\n",
       "        vertical-align: middle;\n",
       "    }\n",
       "\n",
       "    .dataframe tbody tr th {\n",
       "        vertical-align: top;\n",
       "    }\n",
       "\n",
       "    .dataframe thead th {\n",
       "        text-align: right;\n",
       "    }\n",
       "</style>\n",
       "<table border=\"1\" class=\"dataframe\">\n",
       "  <thead>\n",
       "    <tr style=\"text-align: right;\">\n",
       "      <th></th>\n",
       "      <th>id</th>\n",
       "      <th>name</th>\n",
       "      <th>extended_name</th>\n",
       "      <th>quality</th>\n",
       "      <th>revision</th>\n",
       "      <th>origin</th>\n",
       "      <th>overall</th>\n",
       "      <th>club</th>\n",
       "      <th>league</th>\n",
       "      <th>nationality</th>\n",
       "      <th>...</th>\n",
       "      <th>cf</th>\n",
       "      <th>rf</th>\n",
       "      <th>lf</th>\n",
       "      <th>rw</th>\n",
       "      <th>lw</th>\n",
       "      <th>st</th>\n",
       "      <th>traits</th>\n",
       "      <th>specialities</th>\n",
       "      <th>base_id</th>\n",
       "      <th>classification</th>\n",
       "    </tr>\n",
       "  </thead>\n",
       "  <tbody>\n",
       "    <tr>\n",
       "      <th>0</th>\n",
       "      <td>1</td>\n",
       "      <td>Pelé</td>\n",
       "      <td>Arantes Nascimento Edson</td>\n",
       "      <td>Gold - Rare</td>\n",
       "      <td>Icon</td>\n",
       "      <td>Prime</td>\n",
       "      <td>98</td>\n",
       "      <td>Icons</td>\n",
       "      <td>Icons</td>\n",
       "      <td>Brazil</td>\n",
       "      <td>...</td>\n",
       "      <td>96.0</td>\n",
       "      <td>96.0</td>\n",
       "      <td>96.0</td>\n",
       "      <td>96.0</td>\n",
       "      <td>96.0</td>\n",
       "      <td>95.0</td>\n",
       "      <td>Finesse Shot</td>\n",
       "      <td>Speedster, Aerial Threat, Dribbler, Play Maker...</td>\n",
       "      <td>237067</td>\n",
       "      <td>Lenda</td>\n",
       "    </tr>\n",
       "    <tr>\n",
       "      <th>1</th>\n",
       "      <td>2</td>\n",
       "      <td>Maradona</td>\n",
       "      <td>Diego Maradona</td>\n",
       "      <td>Gold - Rare</td>\n",
       "      <td>Icon</td>\n",
       "      <td>Prime</td>\n",
       "      <td>97</td>\n",
       "      <td>Icons</td>\n",
       "      <td>Icons</td>\n",
       "      <td>Argentina</td>\n",
       "      <td>...</td>\n",
       "      <td>94.0</td>\n",
       "      <td>94.0</td>\n",
       "      <td>94.0</td>\n",
       "      <td>94.0</td>\n",
       "      <td>94.0</td>\n",
       "      <td>90.0</td>\n",
       "      <td>Avoids Using Weaker Foot, Finesse Shot, Flair,...</td>\n",
       "      <td>Speedster, Dribbler, Play Maker, Distance Shoo...</td>\n",
       "      <td>190042</td>\n",
       "      <td>Lenda</td>\n",
       "    </tr>\n",
       "    <tr>\n",
       "      <th>2</th>\n",
       "      <td>3</td>\n",
       "      <td>Ronaldo</td>\n",
       "      <td>Nazário de Lima Ronaldo Luís</td>\n",
       "      <td>Gold - Rare</td>\n",
       "      <td>Icon</td>\n",
       "      <td>Prime</td>\n",
       "      <td>96</td>\n",
       "      <td>Icons</td>\n",
       "      <td>Icons</td>\n",
       "      <td>Brazil</td>\n",
       "      <td>...</td>\n",
       "      <td>94.0</td>\n",
       "      <td>94.0</td>\n",
       "      <td>94.0</td>\n",
       "      <td>92.0</td>\n",
       "      <td>92.0</td>\n",
       "      <td>94.0</td>\n",
       "      <td>Tries To Beat Defensive Line, Finesse Shot</td>\n",
       "      <td>Speedster, Dribbler, Distance Shooter, FK Spec...</td>\n",
       "      <td>37576</td>\n",
       "      <td>Lenda</td>\n",
       "    </tr>\n",
       "    <tr>\n",
       "      <th>3</th>\n",
       "      <td>4</td>\n",
       "      <td>Pelé</td>\n",
       "      <td>Arantes Nascimento Edson</td>\n",
       "      <td>Gold - Rare</td>\n",
       "      <td>Icon</td>\n",
       "      <td>Medium</td>\n",
       "      <td>95</td>\n",
       "      <td>Icons</td>\n",
       "      <td>Icons</td>\n",
       "      <td>Brazil</td>\n",
       "      <td>...</td>\n",
       "      <td>94.0</td>\n",
       "      <td>94.0</td>\n",
       "      <td>94.0</td>\n",
       "      <td>94.0</td>\n",
       "      <td>94.0</td>\n",
       "      <td>92.0</td>\n",
       "      <td>Finesse Shot</td>\n",
       "      <td>Speedster, Dribbler, Distance Shooter, Crosser...</td>\n",
       "      <td>237068</td>\n",
       "      <td>Lenda</td>\n",
       "    </tr>\n",
       "    <tr>\n",
       "      <th>4</th>\n",
       "      <td>5</td>\n",
       "      <td>Maradona</td>\n",
       "      <td>Diego Maradona</td>\n",
       "      <td>Gold - Rare</td>\n",
       "      <td>Icon</td>\n",
       "      <td>Medium</td>\n",
       "      <td>95</td>\n",
       "      <td>Icons</td>\n",
       "      <td>Icons</td>\n",
       "      <td>Argentina</td>\n",
       "      <td>...</td>\n",
       "      <td>92.0</td>\n",
       "      <td>92.0</td>\n",
       "      <td>92.0</td>\n",
       "      <td>92.0</td>\n",
       "      <td>92.0</td>\n",
       "      <td>88.0</td>\n",
       "      <td>Avoids Using Weaker Foot, Finesse Shot, Flair,...</td>\n",
       "      <td>Dribbler, Play Maker, Distance Shooter, Crosse...</td>\n",
       "      <td>237074</td>\n",
       "      <td>Lenda</td>\n",
       "    </tr>\n",
       "  </tbody>\n",
       "</table>\n",
       "<p>5 rows × 83 columns</p>\n",
       "</div>"
      ],
      "text/plain": [
       "   id      name                 extended_name      quality revision  origin  \\\n",
       "0   1      Pelé      Arantes Nascimento Edson  Gold - Rare     Icon   Prime   \n",
       "1   2  Maradona                Diego Maradona  Gold - Rare     Icon   Prime   \n",
       "2   3   Ronaldo  Nazário de Lima Ronaldo Luís  Gold - Rare     Icon   Prime   \n",
       "3   4      Pelé      Arantes Nascimento Edson  Gold - Rare     Icon  Medium   \n",
       "4   5  Maradona                Diego Maradona  Gold - Rare     Icon  Medium   \n",
       "\n",
       "   overall   club league nationality  ...    cf    rf    lf    rw    lw    st  \\\n",
       "0       98  Icons  Icons      Brazil  ...  96.0  96.0  96.0  96.0  96.0  95.0   \n",
       "1       97  Icons  Icons   Argentina  ...  94.0  94.0  94.0  94.0  94.0  90.0   \n",
       "2       96  Icons  Icons      Brazil  ...  94.0  94.0  94.0  92.0  92.0  94.0   \n",
       "3       95  Icons  Icons      Brazil  ...  94.0  94.0  94.0  94.0  94.0  92.0   \n",
       "4       95  Icons  Icons   Argentina  ...  92.0  92.0  92.0  92.0  92.0  88.0   \n",
       "\n",
       "                                              traits  \\\n",
       "0                                       Finesse Shot   \n",
       "1  Avoids Using Weaker Foot, Finesse Shot, Flair,...   \n",
       "2         Tries To Beat Defensive Line, Finesse Shot   \n",
       "3                                       Finesse Shot   \n",
       "4  Avoids Using Weaker Foot, Finesse Shot, Flair,...   \n",
       "\n",
       "                                        specialities  base_id  classification  \n",
       "0  Speedster, Aerial Threat, Dribbler, Play Maker...   237067           Lenda  \n",
       "1  Speedster, Dribbler, Play Maker, Distance Shoo...   190042           Lenda  \n",
       "2  Speedster, Dribbler, Distance Shooter, FK Spec...    37576           Lenda  \n",
       "3  Speedster, Dribbler, Distance Shooter, Crosser...   237068           Lenda  \n",
       "4  Dribbler, Play Maker, Distance Shooter, Crosse...   237074           Lenda  \n",
       "\n",
       "[5 rows x 83 columns]"
      ]
     },
     "execution_count": 101,
     "metadata": {},
     "output_type": "execute_result"
    }
   ],
   "source": [
    "def get_classification(overall):\n",
    "    if overall < 51:\n",
    "        return \"Amador\"\n",
    "    elif overall > 50 and overall < 61:\n",
    "        return \"Ruim\"\n",
    "    elif overall > 60 and overall < 71:\n",
    "        return \"Ok\"\n",
    "    elif overall > 70 and overall < 81:\n",
    "        return \"Bom\"\n",
    "    elif overall > 80 and overall < 91:\n",
    "        return \"Ótimo\"\n",
    "    else:\n",
    "        return \"Lenda\"\n",
    "fut_players[\"classification\"] = fut_players.apply(lambda row: get_classification(row['overall']),axis = 1)\n",
    "\n",
    "\n",
    "fut_players.groupby('classification')[['id']].count()\n",
    "fut_players.head()"
   ]
  }
 ],
 "metadata": {
  "colab": {
   "collapsed_sections": [
    "pcH2OAfDI7U3",
    "DFgrAn-4I7U9",
    "C-4-5HH1I7VD",
    "7FwtOqG0I7VK",
    "WcAa54mqI7VT",
    "YIEqkTlVI7VZ",
    "6qKrzYVYI7Vm",
    "KCFQaOxrI7Vs",
    "LQCKYMjYI7Vu",
    "F6pyg9YmI7V4",
    "2QTzo2U5I7WB",
    "wzRDpdWNI7We",
    "_vXlgfodI7Wu",
    "MOgvn0beI7W7",
    "tzPsK8TDI7XK",
    "QBYGj098Jqqt",
    "c8AoBG2uI7XM",
    "oiyLWKjGI7XP"
   ],
   "name": "M02NB01 - Numpy e Pandas_v2.ipynb",
   "provenance": []
  },
  "kernelspec": {
   "display_name": "Python 3 (ipykernel)",
   "language": "python",
   "name": "python3"
  },
  "language_info": {
   "codemirror_mode": {
    "name": "ipython",
    "version": 3
   },
   "file_extension": ".py",
   "mimetype": "text/x-python",
   "name": "python",
   "nbconvert_exporter": "python",
   "pygments_lexer": "ipython3",
   "version": "3.9.7"
  }
 },
 "nbformat": 4,
 "nbformat_minor": 1
}

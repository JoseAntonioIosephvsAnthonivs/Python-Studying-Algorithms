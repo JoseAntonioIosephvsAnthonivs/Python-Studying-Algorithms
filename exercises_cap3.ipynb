{
 "cells": [
  {
   "cell_type": "markdown",
   "id": "d25784dd",
   "metadata": {},
   "source": [
    "#### Exercício 3.4 Escreva uma expressão para determinar se uma pessoa deve ou não pagar imposto. Considere que pagam imposto pessoas cujo salário é maior que 1.200,00 reais."
   ]
  },
  {
   "cell_type": "code",
   "execution_count": 1,
   "id": "6ae5462b",
   "metadata": {},
   "outputs": [
    {
     "name": "stdout",
     "output_type": "stream",
     "text": [
      "Digite o seu salário aqui, para saber se deve pagar imposto: 455445\n",
      "Seu salário é maior que 1200, portanto deve pagar imposto.\n"
     ]
    }
   ],
   "source": [
    "salario = float(input(\"Digite o seu salário aqui, para saber se deve pagar imposto: \"))\n",
    "if salario > 1200:\n",
    "    print(\"Seu salário é maior que 1200, portanto deve pagar imposto.\")\n",
    "else:\n",
    "    print(\"Seu salário não é maior que 1200, logo não deve pagar imposto.\")\n"
   ]
  },
  {
   "cell_type": "markdown",
   "id": "246e1ec2",
   "metadata": {},
   "source": [
    "#### Exercício 3.6 Escreva uma expressão que será utilizada para decidir se um aluno foi ou não aprovado. Para ser aprovado, todas as médias do aluno devem ser maiores que 7. Considere que o aluno cursa apenas três matérias, e que a nota de cada uma está armazenada nas seguintes variáveis: matéria1, matéria2 e matéria3"
   ]
  },
  {
   "cell_type": "code",
   "execution_count": 7,
   "id": "0581a771",
   "metadata": {},
   "outputs": [
    {
     "name": "stdout",
     "output_type": "stream",
     "text": [
      "Digite a sua nota 1: 4.0\n",
      "Digite a sua nota 2: 9.5\n",
      "Digite a sua nota 3: 5.5\n",
      "Sua média é 15.3, Aprovado\n"
     ]
    }
   ],
   "source": [
    "# m > 7 aprovado\n",
    "materia1 = float(input(\"Digite a sua nota 1: \"))\n",
    "materia2 = float(input(\"Digite a sua nota 2: \"))\n",
    "materia3 = float(input(\"Digite a sua nota 3: \"))\n",
    "media = materia1 + materia2 + materia3 / 3  \n",
    "if media >= 7:\n",
    "    print(\"Sua média é %.1f, Aprovado\"  %media)\n",
    "else:\n",
    "    printf(\"Sua média é %.1f,Reprovado\"  %media)"
   ]
  },
  {
   "cell_type": "markdown",
   "id": "66576dee",
   "metadata": {},
   "source": [
    "#### Exercício 3.7 Faça um programa que peça dois números inteiros. Imprima a soma desses dois números na tela."
   ]
  },
  {
   "cell_type": "code",
   "execution_count": 9,
   "id": "214b643d",
   "metadata": {},
   "outputs": [
    {
     "name": "stdout",
     "output_type": "stream",
     "text": [
      "Digite um número inteiro aqui:5\n",
      "Digite outro número inteiro aqui:4\n",
      "9\n"
     ]
    }
   ],
   "source": [
    "a  = int(input(\"Digite um número inteiro aqui:\"))\n",
    "b  = int(input(\"Digite outro número inteiro aqui:\"))\n",
    "\n",
    "print(a + b)"
   ]
  },
  {
   "cell_type": "markdown",
   "id": "dc27795f",
   "metadata": {},
   "source": [
    "#### Exercício 3.8 Escreva um programa que leia um valor em metros e o exiba convertido em milímetros.\n"
   ]
  },
  {
   "cell_type": "code",
   "execution_count": 10,
   "id": "2703c4f2",
   "metadata": {},
   "outputs": [
    {
     "name": "stdout",
     "output_type": "stream",
     "text": [
      "Digite um valor em metros: 2\n",
      "200.0 cm\n"
     ]
    }
   ],
   "source": [
    "metros = float(input(\"Digite um valor em metros: \"))\n",
    "print(metros * 100, \"cm\")"
   ]
  },
  {
   "cell_type": "markdown",
   "id": "b4705afe",
   "metadata": {},
   "source": [
    "#### Exercício 3.10 Faça um programa que calcule o aumento de um salário. Ele deve solicitar o valor do salário e a porcentagem do aumento. Exiba o valor do aumento e do novo salário"
   ]
  },
  {
   "cell_type": "code",
   "execution_count": 13,
   "id": "f3e6c0e9",
   "metadata": {},
   "outputs": [
    {
     "name": "stdout",
     "output_type": "stream",
     "text": [
      "salário: 1500\n",
      "valor do aumento: 10\n",
      "aumento aplicado:   150.0\n",
      "valor total:  1650.0\n"
     ]
    }
   ],
   "source": [
    "salario = float(input(\"salário: \"))\n",
    "aumento = float(input(\"valor do aumento: \"))\n",
    "aumento_aplicado = salario * (aumento/100)       \n",
    "print(\"aumento aplicado:  \",aumento_aplicado)\n",
    "print(\"valor total: \",salario + aumento_aplicado)\n",
    "\n",
    "#  160 x 25% = 160 (25/100) = 160 x 0,25 = 40."
   ]
  },
  {
   "cell_type": "markdown",
   "id": "2384ec05",
   "metadata": {},
   "source": [
    "##### Exercício 3.11 Faça um programa que solicite o preço de uma mercadoria e o percentual de desconto. Exiba o valor do desconto e o preço a pagar\n"
   ]
  },
  {
   "cell_type": "code",
   "execution_count": 14,
   "id": "08de9756",
   "metadata": {},
   "outputs": [
    {
     "name": "stdout",
     "output_type": "stream",
     "text": [
      "Qual o preço da mercadoria? 100\n",
      "Qual o desconto? 10\n",
      "Seu desconto será de: 10.0 \n",
      "E o valor total será:90.0 \n"
     ]
    }
   ],
   "source": [
    "preco = float(input(\"Qual o preço da mercadoria? \"))\n",
    "desconto = float(input(\"Qual o desconto? \"))\n",
    "desconto_aplicado = preco * desconto / 100\n",
    "valor_total = preco - desconto_aplicado\n",
    "print(f\"Seu desconto será de: {desconto_aplicado} \")\n",
    "print(f\"E o valor total será:{valor_total} \")"
   ]
  },
  {
   "cell_type": "markdown",
   "id": "d6d03219",
   "metadata": {},
   "source": [
    "#### Exercício 3.12 Escreva um programa que calcule o tempo de uma viagem de carro. Pergunte a distância a percorrer e a velocidade média esperada para a viagem\n"
   ]
  },
  {
   "cell_type": "code",
   "execution_count": 16,
   "id": "9558d7ba",
   "metadata": {},
   "outputs": [
    {
     "name": "stdout",
     "output_type": "stream",
     "text": [
      "Qual a distancia a percorrer? 500\n",
      "Qual a velocidade média? 50\n",
      "Tempo de viagem em km/h: 10.0\n"
     ]
    }
   ],
   "source": [
    "distancia_percorrer = float(input(\"Qual a distancia a percorrer? \"))\n",
    "velocidade_media = float(input(\"Qual a velocidade média? \"))\n",
    "tempo_viagem = distancia_percorrer / velocidade_media\n",
    "print(f\"Tempo de viagem em km/h: {tempo_viagem}\")\n"
   ]
  },
  {
   "cell_type": "markdown",
   "id": "5ff03ad4",
   "metadata": {},
   "source": [
    "#### Exercício 3.13 Escreva um programa que converta uma temperatura digitada em °C em °F. A fórmula para essa conversão é: F = (9*C /5) + 32"
   ]
  },
  {
   "cell_type": "code",
   "execution_count": 17,
   "id": "1d99bcb4",
   "metadata": {},
   "outputs": [
    {
     "name": "stdout",
     "output_type": "stream",
     "text": [
      "Digite a temperatura em °C: 22\n",
      "Temperatura °F: 71.6\n"
     ]
    }
   ],
   "source": [
    "temperatura_C = float(input(\"Digite a temperatura em °C: \"))\n",
    "conversão = 9 * temperatura_C / 5 + 32\n",
    "print(f\"Temperatura °F: {conversão}\")"
   ]
  },
  {
   "cell_type": "markdown",
   "id": "78503b3e",
   "metadata": {},
   "source": [
    "#### Exercício 3.14 Escreva um programa que pergunte a quantidade de km percorridos por um carro alugado pelo usuário, assim como a quantidade de dias pelos quais o carro foi alugado. Calcule o preço a pagar, sabendo que o carro custa 60 reais por dia e 0,15 reais  por km rodado."
   ]
  },
  {
   "cell_type": "code",
   "execution_count": 18,
   "id": "52321a2c",
   "metadata": {},
   "outputs": [
    {
     "name": "stdout",
     "output_type": "stream",
     "text": [
      "Quantos kms percorridos? 50\n",
      "Quantos dias o carro foi usado? 10\n",
      "607.5\n"
     ]
    }
   ],
   "source": [
    "km_percorrido = float(input(\"Quantos kms percorridos? \"))\n",
    "dias_alugados = int(input(\"Quantos dias o carro foi usado? \"))\n",
    "calc_dia = dias_alugados * 60\n",
    "calc_km = km_percorrido* 0.15\n",
    "total = calc_dia + calc_km\n",
    "print(total)"
   ]
  }
 ],
 "metadata": {
  "kernelspec": {
   "display_name": "Python 3 (ipykernel)",
   "language": "python",
   "name": "python3"
  },
  "language_info": {
   "codemirror_mode": {
    "name": "ipython",
    "version": 3
   },
   "file_extension": ".py",
   "mimetype": "text/x-python",
   "name": "python",
   "nbconvert_exporter": "python",
   "pygments_lexer": "ipython3",
   "version": "3.9.7"
  }
 },
 "nbformat": 4,
 "nbformat_minor": 5
}

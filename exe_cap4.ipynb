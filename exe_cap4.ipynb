{
 "cells": [
  {
   "cell_type": "markdown",
   "id": "2221e7d7",
   "metadata": {},
   "source": [
    "#### Exercício 4.2 Escreva um programa que pergunte a velocidade do carro de um usuário. Caso ultrapasse 80 km/h, exiba uma mensagem dizendo que o usuário foi multado. Nesse caso, exiba o valor da multa, cobrando 5 reais por km acima de 80 km/h"
   ]
  },
  {
   "cell_type": "code",
   "execution_count": 6,
   "id": "56bb7c62",
   "metadata": {},
   "outputs": [
    {
     "name": "stdout",
     "output_type": "stream",
     "text": [
      "Qual a velocidade do carro? 81\n",
      "Velocidade acima da média, Multa:  5.0 reais\n"
     ]
    }
   ],
   "source": [
    "car_speed  = float(input(\"Qual a velocidade do carro? \"))\n",
    "if car_speed <=80:\n",
    "    print(\"Velocidade adequada.\")\n",
    "else:\n",
    "    print(\"Velocidade acima da média, Multa: \",(car_speed - 80) *5, \"reais\")"
   ]
  },
  {
   "cell_type": "code",
   "execution_count": null,
   "id": "4dbb4539",
   "metadata": {},
   "outputs": [],
   "source": [
    "salário=float(input(\"Digite o salário para cálculo do imposto: \"))\n",
    "base = salário \n",
    "imposto = 0\n",
    "if base > 3000: \n",
    "    imposto = imposto + ((base - 3000) * 0.35) \n",
    "    base = 3000 \n",
    "if base > 1000: \n",
    "    imposto = imposto + ((base - 1000) * 0.20) \n",
    "print(\"Salário: R$%6.2f Imposto a pagar: R$%6.2f\" % (salário, imposto))"
   ]
  },
  {
   "cell_type": "markdown",
   "id": "3680ff99",
   "metadata": {},
   "source": [
    "#### Exercício 4.3 Escreva um programa que leia três números e que imprima o maior e o menor."
   ]
  },
  {
   "cell_type": "code",
   "execution_count": 2,
   "id": "3855a44b",
   "metadata": {},
   "outputs": [
    {
     "name": "stdout",
     "output_type": "stream",
     "text": [
      "Primeiro numero: 6\n",
      "Segundo numero: 2\n",
      "Terceiro numero: 1\n",
      "maior numero: 6\n",
      "menor numero: 1\n"
     ]
    }
   ],
   "source": [
    "x = int(input(\"Primeiro numero: \"))\n",
    "y = int(input(\"Segundo numero: \"))\n",
    "z = int(input(\"Terceiro numero: \"))\n",
    "maior = x\n",
    "if y>x and y>z:\n",
    "    maior = y\n",
    "if z>x and z>y:\n",
    "    maior = z\n",
    "menor= x\n",
    "if y<x and y<z:\n",
    "    menor= y\n",
    "if z<x and z<y:\n",
    "    menor=z\n",
    "print(f'maior numero: {maior}')\n",
    "print(f'menor numero: {menor}')"
   ]
  },
  {
   "cell_type": "markdown",
   "id": "499e313c",
   "metadata": {},
   "source": [
    "#### Exercício 4.4 Escreva um programa que pergunte o salário do funcionário e calcule o valor do aumento. Para salários superiores a RS 1.250,00, calcule um aumento de 10%. Para os inferiores ou iguais, de 15%"
   ]
  },
  {
   "cell_type": "code",
   "execution_count": 5,
   "id": "1e24bc21",
   "metadata": {},
   "outputs": [
    {
     "name": "stdout",
     "output_type": "stream",
     "text": [
      "Qual o seu salário? 1500\n",
      "Valor do aumento: 1650.0\n"
     ]
    }
   ],
   "source": [
    "salario = float(input(\"Qual o seu salário? \"))\n",
    "salario2 = salario\n",
    "salario3 = salario\n",
    "if salario2 > 1250:\n",
    "    salario2 = salario2 +  (salario2 * 0.10)\n",
    "    print(f\"Valor do aumento: {salario2}\")\n",
    "else:\n",
    "    salario3 = salario3 + (salario3 * 0.15)\n",
    "    print(f\"Valor do aumento: {salario3}\")\n"
   ]
  },
  {
   "cell_type": "code",
   "execution_count": 7,
   "id": "5ee6584c",
   "metadata": {},
   "outputs": [
    {
     "name": "stdout",
     "output_type": "stream",
     "text": [
      "Digite seu salário: 1000\n",
      "Seu aumento será de: R$  150.00\n"
     ]
    }
   ],
   "source": [
    "salario = float(input(\"Digite seu salário: \"))\n",
    "pc_aumento = 0.15\n",
    "if salario > 1250:\n",
    "    pc_aumento = 0.10\n",
    "aumento = salario * pc_aumento\n",
    "print(f\"Seu aumento será de: R$ {aumento:7.2f}\")"
   ]
  },
  {
   "cell_type": "code",
   "execution_count": 8,
   "id": "e15ddc9e",
   "metadata": {},
   "outputs": [
    {
     "name": "stdout",
     "output_type": "stream",
     "text": [
      "Digite a idade de seu carro: 5\n",
      "Seu carro é velho\n"
     ]
    }
   ],
   "source": [
    "idade = int(input(\"Digite a idade de seu carro: \"))\n",
    "if idade <= 3:\n",
    "    print(\"Seu carro é novo\")\n",
    "else: \n",
    "    print(\"Seu carro é velho\")"
   ]
  },
  {
   "cell_type": "markdown",
   "id": "b31b34de",
   "metadata": {},
   "source": [
    "#### Exercício 4.6 Escreva um programa que pergunte a distância que um passageiro deseja percorrer em km. Calcule o preço da passagem, cobrando 0,50 centavos por km para viagens de até de 200 km, e  0,45 centavos para viagens mais longas."
   ]
  },
  {
   "cell_type": "code",
   "execution_count": 11,
   "id": "d7f5673d",
   "metadata": {},
   "outputs": [
    {
     "name": "stdout",
     "output_type": "stream",
     "text": [
      "Quantos Kms deseja percorrer? 400\n",
      "Valor cobrado: 180.0\n"
     ]
    }
   ],
   "source": [
    "distancia = float(input(\"Quantos Kms deseja percorrer? \"))\n",
    "distancia2 = distancia\n",
    "if distancia2 <= 200:\n",
    "    distancia2 = distancia2 * 0.50\n",
    "else:\n",
    "    distancia2 = distancia2 * 0.45\n",
    "print(f'Valor cobrado: {distancia2}')\n",
    "# +0.50 por km em viagens de 1-200km\n",
    "# +0.45 por km em viagens de 201km+"
   ]
  },
  {
   "cell_type": "code",
   "execution_count": 13,
   "id": "866880bb",
   "metadata": {},
   "outputs": [
    {
     "name": "stdout",
     "output_type": "stream",
     "text": [
      "Digite a distância a percorrer: 400\n",
      "Preço da passagem: R$  180.00\n"
     ]
    }
   ],
   "source": [
    "distancia = float(input(\"Digite a distância a percorrer: \"))\n",
    "if distancia <= 200:\n",
    "    passagem = 0.5 * distancia\n",
    "else:\n",
    "    passagem = 0.45 * distancia\n",
    "print(f\"Preço da passagem: R$ {passagem:7.2f}\")"
   ]
  },
  {
   "cell_type": "code",
   "execution_count": null,
   "id": "87c5ffd6",
   "metadata": {},
   "outputs": [],
   "source": [
    "#Listagem 4.6 – Conta de telefone com três faixas de preço\n",
    "minutos=int(input(\"Quantos minutos você utilizou este mês: \"))\n",
    "if minutos < 200: #1\n",
    "    preço = 0.20 #2\n",
    "else:\n",
    "    if minutos < 400: #3\n",
    "        preço = 0.18 #4\n",
    "    else: #5\n",
    "        preço = 0.15  #6\n",
    "print(\"Você vai pagar este mês: R$%6.2f\" % (minutos * preço))"
   ]
  },
  {
   "cell_type": "code",
   "execution_count": 14,
   "id": "422a670e",
   "metadata": {},
   "outputs": [
    {
     "name": "stdout",
     "output_type": "stream",
     "text": [
      "Digite a categoria do produto:1\n",
      "O preço do produto é: R$ 10.00\n"
     ]
    }
   ],
   "source": [
    "#Listagem 4.7 – Categoria x preço\n",
    "categoria = int(input(\"Digite a categoria do produto:\"))\n",
    "if categoria == 1:\n",
    "    preco = 10\n",
    "else:\n",
    "    if categoria == 2:\n",
    "        preco = 18\n",
    "    else:\n",
    "        if categoria == 3:\n",
    "            preco = 23\n",
    "        else:\n",
    "            if categoria == 4:\n",
    "                preco = 26\n",
    "            else:\n",
    "                if categoria == 5:\n",
    "                    preco = 31\n",
    "                else:\n",
    "                    print(\"Categoria inválida, digite um valor entre 1 e 5!\")\n",
    "                    preco = 0\n",
    "print(\"O preço do produto é: R$%6.2f\" % preco)"
   ]
  },
  {
   "cell_type": "markdown",
   "id": "bfa34213",
   "metadata": {},
   "source": [
    "#### Exercício 4.8 Escreva um programa que leia dois números e que pergunte qual operação você deseja realizar. Você deve poder calcular a soma (+), subtração (-), multiplicação (*) e divisão (/). Exiba o resultado da operação solicitada."
   ]
  },
  {
   "cell_type": "code",
   "execution_count": 17,
   "id": "742b988f",
   "metadata": {},
   "outputs": [
    {
     "name": "stdout",
     "output_type": "stream",
     "text": [
      "Numero: 40\n",
      "Numero: 2\n",
      "Digite uma das quatro operações: + - / *0\n",
      "Digite uma operação correta\n"
     ]
    }
   ],
   "source": [
    "z = int(input(\"Numero: \"))\n",
    "x = int(input(\"Numero: \"))\n",
    "operacao = input(\"Digite uma das quatro operações: + - / *\")\n",
    "if operacao == '+':\n",
    "    print(\"Soma: \", z+x)\n",
    "elif operacao == '-':\n",
    "    print(\"Subtração: \", z-x)\n",
    "elif operacao == '/':\n",
    "    print(\"Divisão: \", z/x)\n",
    "elif operacao == '*':\n",
    "    print(\"Multiplicação\", z*x)\n",
    "else:\n",
    "    print(\"Digite uma operação correta\")"
   ]
  },
  {
   "cell_type": "markdown",
   "id": "d15a7b79",
   "metadata": {},
   "source": [
    "#### Exercício 4.9 Escreva um programa para aprovar o empréstimo bancário para compra de uma casa. O programa deve perguntar o valor da casa a comprar, o salário e a quantidade de anos a pagar. O valor da prestação mensal não pode ser superior a 30% do salário. Calcule o valor da prestação como sendo o valor da casa a comprar dividido pelo número de meses a pagar."
   ]
  },
  {
   "cell_type": "code",
   "execution_count": 23,
   "id": "50572129",
   "metadata": {},
   "outputs": [
    {
     "name": "stdout",
     "output_type": "stream",
     "text": [
      "Qual o valor da casa? 40000\n",
      "Qual o salário recebe? 30000\n",
      "Em quantos anos deseja comprar? 1\n",
      "Salário suficiente. Valor da prestação é: R$ 3333.33\n"
     ]
    }
   ],
   "source": [
    "valor_casa  = float(input(\"Qual o valor da casa? \"))\n",
    "salario = float(input(\"Qual o salário recebe? \"))\n",
    "qtd_anos = int(input(\"Em quantos anos deseja comprar? \"))\n",
    "meses = qtd_anos * 12\n",
    "prestacao = valor_casa / meses\n",
    "if prestacao >salario * 0.30:\n",
    "    print(\"Salário insuficiente pois a prestação ultrapassa 30% do salário\")\n",
    "else:\n",
    "    print(f\"Salário suficiente. Valor da prestação é: R$ {prestacao:.2f}\")"
   ]
  },
  {
   "cell_type": "markdown",
   "id": "f54aa2f1",
   "metadata": {},
   "source": [
    "#### Exercício 4.10 Escreva um programa que calcule o preço a pagar pelo fornecimento de energia elétrica. Pergunte a quantidade de kWh consumida e o tipo de instalação: R para residências, I para indústrias e C para comércios. Calcule o preço a pagar de acordo com a tabela a seguir\n",
    "\n",
    "\n",
    "##### Preço por tipo e faixa de consumo\n",
    "##### Tipo Faixa (kWh) Preço\n",
    "##### Residencial\n",
    "##### Até 500   reais até 0,40 centavos \n",
    "##### Acima de 500 reais 0,65 centavos\n",
    "##### Comercial\n",
    "##### Até 1000 reais 0,55 centavos\n",
    "##### Acima de 1000 reais 0,60 centavos\n",
    "#####  Industrial\n",
    "##### Até 5000 reais 0,55 centavos\n",
    "##### Acima de 5000 reais 0,60 centavos\n"
   ]
  },
  {
   "cell_type": "code",
   "execution_count": 35,
   "id": "688b8c08",
   "metadata": {},
   "outputs": [
    {
     "name": "stdout",
     "output_type": "stream",
     "text": [
      "Qual a quantidade de kW/h consumida? 100\n",
      "Qual o tipo de instalação? R(residencia), I(industria), C(comercio)C\n",
      "Valor a pagar: 55.00 reais\n"
     ]
    }
   ],
   "source": [
    "energia = float(input(\"Qual a quantidade de kW/h consumida? \"))\n",
    "instalacao = str(input(\"Qual o tipo de instalação? R(residencia), I(industria), C(comercio)\"))\n",
    "\n",
    "if instalacao == 'R':\n",
    "    if energia < 501:\n",
    "        preco = 0.40\n",
    "        print(f\"Valor a pagar: {energia * preco:.2f} reais\", )\n",
    "    else:\n",
    "        preco = 0.65\n",
    "        print(f\"Valor a pagar: {energia * preco:.2f} reais\",  )\n",
    "        \n",
    "elif instalacao == 'C':\n",
    "    if energia < 1001:\n",
    "        preco = 0.55\n",
    "        print(f\"Valor a pagar: {energia * preco:.2f} reais\", )\n",
    "    else:\n",
    "        preco = 0.60\n",
    "        print(f\"Valor a pagar: {energia * preco:.2f} reais\" )\n",
    "        \n",
    "elif instalacao == 'I':\n",
    "    if energia < 5001:\n",
    "        preco = 0.55\n",
    "        print(f\"Valor a pagar:  {energia * preco:.2f} reais\",  )\n",
    "    else:\n",
    "        preco = 0.60\n",
    "        print(f\"Valor a pagar: {energia * preco:.2f} reais\")\n",
    "else:\n",
    "    print(\"Digite uma instalação válida\")\n",
    "\n"
   ]
  },
  {
   "cell_type": "code",
   "execution_count": null,
   "id": "7fd5c1ae",
   "metadata": {},
   "outputs": [],
   "source": [
    "consumo = int(input(\"Consumo em kWh: \"))\n",
    "tipo = input(\"Tipo da instalação (R, C ou I): \")\n",
    "if tipo == \"R\":\n",
    "    if consumo <= 500:\n",
    "        preço = 0.40\n",
    "    else:\n",
    "        preço = 0.65\n",
    "elif tipo == \"I\":\n",
    "    if consumo <= 5000:\n",
    "        preço = 0.55\n",
    "    else:\n",
    "        preço = 0.60\n",
    "elif tipo == \"C\":\n",
    "    if consumo <= 1000:\n",
    "        preço = 0.55\n",
    "    else:\n",
    "        preço = 0.60\n",
    "else:\n",
    "    preço = 0\n",
    "    print(\"Erro ! Tipo de instalação desconhecido!\")\n",
    "custo = consumo * preço\n",
    "print(f\"Valor a pagar: R$ {custo:7.2f}\")"
   ]
  },
  {
   "cell_type": "code",
   "execution_count": null,
   "id": "efcf750a",
   "metadata": {},
   "outputs": [],
   "source": []
  }
 ],
 "metadata": {
  "kernelspec": {
   "display_name": "Python 3 (ipykernel)",
   "language": "python",
   "name": "python3"
  },
  "language_info": {
   "codemirror_mode": {
    "name": "ipython",
    "version": 3
   },
   "file_extension": ".py",
   "mimetype": "text/x-python",
   "name": "python",
   "nbconvert_exporter": "python",
   "pygments_lexer": "ipython3",
   "version": "3.9.7"
  }
 },
 "nbformat": 4,
 "nbformat_minor": 5
}
